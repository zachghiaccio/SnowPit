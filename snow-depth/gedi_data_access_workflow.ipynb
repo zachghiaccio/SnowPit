{
 "cells": [
  {
   "cell_type": "markdown",
   "id": "02bd6cae-43b5-45b5-8cb1-358e78fb829b",
   "metadata": {},
   "source": [
    "# GEDI Data Access\n",
    "\n",
    "This notebook contains a workflow for easily accessing GEDI elevation data. The product accessed could be used to co-locate with snow-on and snow-off DEMs to derive and validate snow depth.\n",
    "\n",
    "This notebook requires the earthaccess Python package. It is also adapted from work by Tasha Snow and Zachary Fair at the 2024 NASA Earth Sciences Hackweek.\n",
    "\n",
    "We start up `earthaccess` first, so that we are properly authenticated."
   ]
  },
  {
   "cell_type": "code",
   "execution_count": null,
   "id": "41a744e9-e25b-459d-9304-2fbb2379cd85",
   "metadata": {},
   "outputs": [],
   "source": [
    "import earthaccess\n",
    "\n",
    "# Authenticate for accessing NASA data\n",
    "auth = earthaccess.login(strategy=\"netrc\")\n",
    "\n",
    "# If we are not authenticated\n",
    "if not auth.authenticated:\n",
    "    # Ask for credentials and persist them in a .netrc file\n",
    "    auth.login(strategy=\"interactive\", persist=True)"
   ]
  },
  {
   "cell_type": "markdown",
   "id": "824dcc60-0da8-475c-8450-5c5d1f9a8b40",
   "metadata": {},
   "source": [
    "The `earthaccess` package requires several user inputs:\n",
    "* `concept-id`: The concept ID of the dataset, as logged by EarthData.\n",
    "* `bounding_box`: A tuple containing the lat/lon bounds (lon_min, lat_min, lon_max, lat_max)\n",
    "* `temporal`: A tuple containing the temporal bounds, in string format (YYYY-MM-DD).\n",
    "* `cloud_hosted`: If `True`, then prioritize cloud-based data.\n",
    "* `count`: The maximum number of files for earthaccess to return.\n",
    "\n",
    "Most of these inputs are self-explanatory, but finding the `concept-id` can be non-trivial for `earthaccess` users. As part of SnowPit, a catalog was made that matches NASA datasets with their corresponding concept IDs."
   ]
  },
  {
   "cell_type": "code",
   "execution_count": null,
   "id": "8858ed7e-305b-4eaa-9607-6827b233165b",
   "metadata": {},
   "outputs": [],
   "source": [
    "import pandas as pd\n",
    "\n",
    "# Read earthaccess concept-id catalog\n",
    "df = pd.read_csv(\"/home/jovyan/shared-public/SnowPit/cloud_data_access_list.csv\")\n",
    "df = df.set_index('Dataset')"
   ]
  },
  {
   "cell_type": "markdown",
   "id": "2853a247-2874-41df-8ee7-1541e68ad663",
   "metadata": {},
   "source": [
    "Note that the concept ID for GEDI is for the Level-2A (Elevation and Height Metrics) product, arguably the best product to derive snow depth with GEDI.\n",
    "\n",
    "We can then access the GEDI data using the below cell. Note that this routine accesses the data directly through the cloud, rather than downloading it."
   ]
  },
  {
   "cell_type": "code",
   "execution_count": null,
   "id": "0eb165c3-8d00-4070-9541-6fa7eddb1506",
   "metadata": {},
   "outputs": [],
   "source": [
    "# User Input\n",
    "bbox = (-10, 20, 10, 50)\n",
    "date_range = (\"1999-02\", \"2024-10\")\n",
    "cloud = True\n",
    "numfiles = 10\n",
    "\n",
    "# Create earthaccess query\n",
    "results = earthaccess.search_data(\n",
    "                concept_id = df.loc[\"GEDI\"][\"concept-id\"],\n",
    "                bounding_box = bbox,\n",
    "                temporal = date_range,\n",
    "                cloud_hosted = cloud,\n",
    "                count = numfiles\n",
    ")"
   ]
  },
  {
   "cell_type": "markdown",
   "id": "b7f655d8-c0e2-4a3a-b6de-a5951ae0c303",
   "metadata": {},
   "source": [
    "We can now access the GEDI data from the results reasonably quickly through the cloud. Note that this routine loads a single data path from single file into Xarray - for multiple file/variable loading, either downloading the data (further below) or appending to a Pandas DataFrame will be more memory-efficient."
   ]
  },
  {
   "cell_type": "code",
   "execution_count": null,
   "id": "9e0637ee-c782-42fd-8a95-ec92361e811c",
   "metadata": {},
   "outputs": [],
   "source": [
    "import xarray as xr\n",
    "\n",
    "# Load elevation data from one of the beams\n",
    "files = earthaccess.open(results)\n",
    "ds = xr.open_dataset(files[1], group='/BEAM0001/', phony_dims='sort')"
   ]
  },
  {
   "cell_type": "code",
   "execution_count": null,
   "id": "a037e7bc-3584-4bf3-8bc3-1ba80c907537",
   "metadata": {},
   "outputs": [],
   "source": [
    "ds"
   ]
  },
  {
   "cell_type": "code",
   "execution_count": null,
   "id": "2b4e9d42-b5cc-4228-8634-a25528cc2555",
   "metadata": {},
   "outputs": [],
   "source": [
    "# Plot along-track GEDI elevation from the first beam\n",
    "ds['elev_lowestmode'].plot()"
   ]
  },
  {
   "cell_type": "markdown",
   "id": "3798981c-61de-4623-821d-81807c3b3496",
   "metadata": {},
   "source": [
    "If the data looks promising, then we can save the files from our query for continued analysis."
   ]
  },
  {
   "cell_type": "code",
   "execution_count": null,
   "id": "8620b725-1d5c-4840-803c-3e55cd1dee45",
   "metadata": {},
   "outputs": [],
   "source": [
    "# Save GEDI files to specified directory\n",
    "downloads = earthaccess.download(results, '/home/jovyan/SnowPit/tmp/')"
   ]
  },
  {
   "cell_type": "markdown",
   "id": "a9d1bdf9-8c50-43d7-ad7f-af72830937d0",
   "metadata": {},
   "source": [
    "## Using H5Coro to Access the Data\n",
    "\n",
    "The above workflow is useful for a first-time user, though it may be a bit slow if one wishes to look at multiple files quickly. H5Coro is a new package that makes loading HDF-5 files much faster, which is otherwise somewhat clumsy in Python.\n",
    "\n",
    "The H5Coro python package is needed for this next workflow."
   ]
  },
  {
   "cell_type": "code",
   "execution_count": null,
   "id": "2bfe75f4-8f1b-4c88-9d5a-d5f89e0d2664",
   "metadata": {
    "scrolled": true
   },
   "outputs": [],
   "source": [
    "# Most up-to-date version of H5Coro needed to take NSIDC credentials\n",
    "%pip install -U h5coro"
   ]
  },
  {
   "cell_type": "code",
   "execution_count": null,
   "id": "cff78016-cb8c-4e36-b8fd-70c82a39fa45",
   "metadata": {},
   "outputs": [],
   "source": [
    "from h5coro import h5coro, s3driver, webdriver\n",
    "\n",
    "# Setup s3 credentials\n",
    "s3_creds = auth.get_s3_credentials(daac=\"LPDAAC\")"
   ]
  },
  {
   "cell_type": "markdown",
   "id": "5787db38-c876-49db-8827-61a68c16403f",
   "metadata": {},
   "source": [
    "We are going to read all of the queried GEDI files, specifically loading `lat_lowestmode` (latitude), `lon_lowestmode` (longitude), and `elev_lowestmode` (elevation) from the first beam."
   ]
  },
  {
   "cell_type": "code",
   "execution_count": null,
   "id": "51dd9360-a6ac-437f-81cf-4e7254cbd4f4",
   "metadata": {},
   "outputs": [],
   "source": [
    "df = pd.DataFrame()\n",
    "# Loop through earthaccess files\n",
    "for f in files:\n",
    "    # Define h5coro object\n",
    "    h5obj = h5coro.H5Coro(f.full_name[5:], \n",
    "                          s3driver.S3Driver, \n",
    "                          credentials=s3_creds)\n",
    "\n",
    "    # Define variables of interest\n",
    "    variables = ['/BEAM0001/elev_lowestmode',\n",
    "                 '/BEAM0001/lat_lowestmode',\n",
    "                 '/BEAM0001/lon_lowestmode']\n",
    "\n",
    "    # Get variable paths from h5coro object\n",
    "    promise = h5obj.readDatasets(variables, block=True, enableAttributes=False)\n",
    "    var_paths = list(promise.keys())\n",
    "\n",
    "    # Create DataFrame for current file\n",
    "    tmp = pd.DataFrame(data={'lat': promise[var_paths[0]],\n",
    "                             'lon': promise[var_paths[1]],\n",
    "                             'height': promise[var_paths[2]]\n",
    "                                }\n",
    "                          )\n",
    "\n",
    "    # Add data to main DataFrame\n",
    "    df = pd.concat([df, tmp], ignore_index=True)\n",
    "\n",
    "display(df)"
   ]
  },
  {
   "cell_type": "markdown",
   "id": "7cfff4ce-bb78-4274-a285-1e259d9f1c4a",
   "metadata": {},
   "source": [
    "Work is currently underway by the icepyx development team to allow for full reading of HDF-5 data, notably ICESat-2 and GEDI, with a combination of icepyx and H5Coro. Stay tuned!"
   ]
  },
  {
   "cell_type": "markdown",
   "id": "ca9ba680-d476-4c8e-92bb-7455454dd9b2",
   "metadata": {},
   "source": [
    "# Using SlideRule Earth to Access GEDI Data\n",
    "\n",
    "The final example with GEDI involves the use of SlideRule Earth. Although the application does not have as many features for GEDI as it does ICESat-2, it remains a useful way to easily obtain pre-processed GEDI data. The ability to add an underlying DEM facilitates snow depth derivations, if quick snow depth estimates are desired.\n",
    "\n",
    "Note that the current version of SlideRule on CryoCloud returns an error for the GEDI plug-in, so the following cell will need to be run."
   ]
  },
  {
   "cell_type": "code",
   "execution_count": null,
   "id": "75ad1947-7db0-4cf6-b74b-2c16136527c0",
   "metadata": {
    "scrolled": true
   },
   "outputs": [],
   "source": [
    "%pip install sliderule -U"
   ]
  },
  {
   "cell_type": "markdown",
   "id": "e8270ec2-eebb-4920-9803-e454272c4a4c",
   "metadata": {},
   "source": [
    "From there, the process is very similar to the SlideRule workflow for ICESat-2. Because GEDI is limited to the mid-latitudes, this example is given for Grand Mesa, CO in March 2020."
   ]
  },
  {
   "cell_type": "code",
   "execution_count": null,
   "id": "3d83098d-8e64-41ab-9376-d985738adb70",
   "metadata": {},
   "outputs": [],
   "source": [
    "import numpy as np\n",
    "from sliderule import gedi"
   ]
  },
  {
   "cell_type": "code",
   "execution_count": null,
   "id": "77cf4871-fced-472c-8b60-3764cd5610fd",
   "metadata": {},
   "outputs": [],
   "source": [
    "# Initiate SlideRule\n",
    "gedi.init()"
   ]
  },
  {
   "cell_type": "code",
   "execution_count": null,
   "id": "a6e18e9f-a915-4d31-a5c3-17735273a635",
   "metadata": {},
   "outputs": [],
   "source": [
    "# Define a region in Grand Mesa, CO\n",
    "region = [ {\"lon\":-105.82971551223244, \"lat\": 39.81983728534918},\n",
    "           {\"lon\":-105.30742121965137, \"lat\": 39.81983728534918},\n",
    "           {\"lon\":-105.30742121965137, \"lat\": 40.164048017973755},\n",
    "           {\"lon\":-105.82971551223244, \"lat\": 40.164048017973755},\n",
    "           {\"lon\":-105.82971551223244, \"lat\": 39.81983728534918} ]\n",
    "\n",
    "# Define the date range\n",
    "date_range = ['2020-03-01', '2020-03-31']"
   ]
  },
  {
   "cell_type": "markdown",
   "id": "cbbf2aac-7478-4ce1-8d24-2ea318c58548",
   "metadata": {},
   "source": [
    "One of the features of SlideRule is to include a DEM that is co-located with the ICESat-2/GEDI data. Here, we are using mosaics from the 3-D Elevation Program (3DEP) as the snow-off comparison.\n",
    "\n",
    "The 3DEP data is included under `samples`, and set as a `mosaic` that samples 3DEP elevations within a 10 m radius of an IS-2 point. Zonal statistics (mean, median, standard deviation) are computed at each point."
   ]
  },
  {
   "cell_type": "code",
   "execution_count": null,
   "id": "6271b0aa-2ca8-49d0-9377-564ec0916961",
   "metadata": {},
   "outputs": [],
   "source": [
    "time_root = 'T00:00:00Z'\n",
    "\n",
    "# Query parameters\n",
    "parms = {\n",
    "             \"poly\": region,\n",
    "             \"t0\": date_range[0]+time_root,\n",
    "             \"t1\": date_range[1]+time_root,\n",
    "             \"samples\": {\"mosaic\": {\"asset\": \"usgs3dep-1meter-dem\", \"radius\": 10.0, \"zonal_stats\": True}}\n",
    "            }"
   ]
  },
  {
   "cell_type": "code",
   "execution_count": null,
   "id": "30f1f5d1-3697-4900-8c39-fdc5548b5ec6",
   "metadata": {},
   "outputs": [],
   "source": [
    "# Run SlideRule\n",
    "rsps = gedi.gedi04ap(parms)\n",
    "\n",
    "# Grab only the elevation from the mosaic median column\n",
    "rsps['3dep_median'] = rsps['mosaic.median'].str[0]"
   ]
  },
  {
   "cell_type": "markdown",
   "id": "6f1b75bb-ee7c-498d-8101-d591c05c78a6",
   "metadata": {},
   "source": [
    "Before computing the residual (a rough approximation for snow depth), we are applying a correction factor to the data. This was determined by finding the median bias between 3DEP and ICESat-2 during snow-off conditions (not shown)."
   ]
  },
  {
   "cell_type": "code",
   "execution_count": null,
   "id": "b7597ac2-e94e-4a92-a1f3-b40d0990c537",
   "metadata": {},
   "outputs": [],
   "source": [
    "# Elevation correction factor\n",
    "correction_factor = -0.62\n",
    "\n",
    "# Derive residual between GEDI and 3DEP (inferred as snow depth during snow-on season)\n",
    "rsps['residual'] = rsps['elevation'] - rsps['3dep_median'] - correction_factor"
   ]
  },
  {
   "cell_type": "code",
   "execution_count": null,
   "id": "f9c78d50-5429-448d-bbe2-90082c99f3ef",
   "metadata": {},
   "outputs": [],
   "source": [
    "# Filter out very large residuals\n",
    "rsps.loc[rsps['residual'].abs()>20, 'residual'] = np.nan\n",
    "\n",
    "# Additional filtering by percentiles\n",
    "lower = rsps['residual'].quantile(0.1)\n",
    "upper = rsps['residual'].quantile(0.9)\n",
    "rsps.loc[(rsps['residual']<lower)&(rsps['residual']>upper), 'residual'] = np.nan"
   ]
  },
  {
   "cell_type": "markdown",
   "id": "4d169c20-7aab-446e-a458-c6da798feac7",
   "metadata": {},
   "source": [
    "Now that we've applied filtering and corrections to the data, let's take a look at the residuals."
   ]
  },
  {
   "cell_type": "code",
   "execution_count": null,
   "id": "01d4c58a-8aa9-4d46-b8ec-dd238ad2acc0",
   "metadata": {},
   "outputs": [],
   "source": [
    "# View a plot of the data\n",
    "rsps.explore(column='residual', tiles='Esri.WorldImagery', vmin=0, vmax=1.5)"
   ]
  },
  {
   "cell_type": "markdown",
   "id": "ceac79ee-5956-41a2-9cff-276662fc3c19",
   "metadata": {},
   "source": [
    "Overall, the residuals seem rather high. This may be due to high snow depths in the region, or because other corrections are needed."
   ]
  }
 ],
 "metadata": {
  "kernelspec": {
   "display_name": "Python 3 (ipykernel)",
   "language": "python",
   "name": "python3"
  },
  "language_info": {
   "codemirror_mode": {
    "name": "ipython",
    "version": 3
   },
   "file_extension": ".py",
   "mimetype": "text/x-python",
   "name": "python",
   "nbconvert_exporter": "python",
   "pygments_lexer": "ipython3",
   "version": "3.11.11"
  }
 },
 "nbformat": 4,
 "nbformat_minor": 5
}
