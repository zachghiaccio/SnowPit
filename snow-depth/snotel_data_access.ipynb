{
 "cells": [
  {
   "cell_type": "markdown",
   "id": "ac9a4f52-15e3-48ba-b125-48939cf0815d",
   "metadata": {},
   "source": [
    "# SNOTEL Data Access\n",
    "\n",
    "This notebook allows for easy access to snow depths and SWE from the Snow Telemetry (SNOTEL) network. A simple example is used to show quick access to SNOTEL data over Alexander Lake, AK using the `easysnowdata` package.\n",
    "\n",
    "Credit: Eric Gagliano (egagli@uw.edu) for the `easysnowdata` package, which in turn uses `ulmo` to access SNOTEL data. Note that development of `ulmo` has stalled, so SNOTEL sites developed after 2021 are not accessible through this method."
   ]
  },
  {
   "cell_type": "code",
   "execution_count": 1,
   "id": "d64d2462-1075-43ef-aad9-4d76c20bb128",
   "metadata": {
    "scrolled": true
   },
   "outputs": [
    {
     "name": "stdout",
     "output_type": "stream",
     "text": [
      "Collecting metloom\n",
      "  Downloading metloom-0.6.3-py2.py3-none-any.whl.metadata (7.1 kB)\n",
      "Collecting geopandas<1.0.0,>=0.9.0 (from metloom)\n",
      "  Downloading geopandas-0.14.4-py3-none-any.whl.metadata (1.5 kB)\n",
      "Requirement already satisfied: pandas>1.0.0 in /srv/conda/envs/notebook/lib/python3.11/site-packages (from metloom) (2.2.2)\n",
      "Requirement already satisfied: lxml>=4.9.3 in /srv/conda/envs/notebook/lib/python3.11/site-packages (from metloom) (5.3.0)\n",
      "Requirement already satisfied: requests<3.0.0,>2.0.0 in /srv/conda/envs/notebook/lib/python3.11/site-packages (from metloom) (2.32.3)\n",
      "Requirement already satisfied: beautifulsoup4<5,>4 in /srv/conda/envs/notebook/lib/python3.11/site-packages (from metloom) (4.12.3)\n",
      "Collecting zeep>4.0.0 (from metloom)\n",
      "  Downloading zeep-4.3.1-py3-none-any.whl.metadata (4.3 kB)\n",
      "Requirement already satisfied: soupsieve>1.2 in /srv/conda/envs/notebook/lib/python3.11/site-packages (from beautifulsoup4<5,>4->metloom) (2.5)\n",
      "Requirement already satisfied: fiona>=1.8.21 in /srv/conda/envs/notebook/lib/python3.11/site-packages (from geopandas<1.0.0,>=0.9.0->metloom) (1.9.6)\n",
      "Requirement already satisfied: numpy>=1.22 in /srv/conda/envs/notebook/lib/python3.11/site-packages (from geopandas<1.0.0,>=0.9.0->metloom) (1.26.4)\n",
      "Requirement already satisfied: packaging in /srv/conda/envs/notebook/lib/python3.11/site-packages (from geopandas<1.0.0,>=0.9.0->metloom) (24.1)\n",
      "Requirement already satisfied: pyproj>=3.3.0 in /srv/conda/envs/notebook/lib/python3.11/site-packages (from geopandas<1.0.0,>=0.9.0->metloom) (3.6.1)\n",
      "Requirement already satisfied: shapely>=1.8.0 in /srv/conda/envs/notebook/lib/python3.11/site-packages (from geopandas<1.0.0,>=0.9.0->metloom) (2.0.5)\n",
      "Requirement already satisfied: python-dateutil>=2.8.2 in /srv/conda/envs/notebook/lib/python3.11/site-packages (from pandas>1.0.0->metloom) (2.8.2)\n",
      "Requirement already satisfied: pytz>=2020.1 in /srv/conda/envs/notebook/lib/python3.11/site-packages (from pandas>1.0.0->metloom) (2024.1)\n",
      "Requirement already satisfied: tzdata>=2022.7 in /srv/conda/envs/notebook/lib/python3.11/site-packages (from pandas>1.0.0->metloom) (2024.1)\n",
      "Requirement already satisfied: charset-normalizer<4,>=2 in /srv/conda/envs/notebook/lib/python3.11/site-packages (from requests<3.0.0,>2.0.0->metloom) (3.3.2)\n",
      "Requirement already satisfied: idna<4,>=2.5 in /srv/conda/envs/notebook/lib/python3.11/site-packages (from requests<3.0.0,>2.0.0->metloom) (3.7)\n",
      "Requirement already satisfied: urllib3<3,>=1.21.1 in /srv/conda/envs/notebook/lib/python3.11/site-packages (from requests<3.0.0,>2.0.0->metloom) (1.26.19)\n",
      "Requirement already satisfied: certifi>=2017.4.17 in /srv/conda/envs/notebook/lib/python3.11/site-packages (from requests<3.0.0,>2.0.0->metloom) (2024.7.4)\n",
      "Requirement already satisfied: attrs>=17.2.0 in /srv/conda/envs/notebook/lib/python3.11/site-packages (from zeep>4.0.0->metloom) (23.2.0)\n",
      "Collecting isodate>=0.5.4 (from zeep>4.0.0->metloom)\n",
      "  Downloading isodate-0.7.2-py3-none-any.whl.metadata (11 kB)\n",
      "Requirement already satisfied: platformdirs>=1.4.0 in /srv/conda/envs/notebook/lib/python3.11/site-packages (from zeep>4.0.0->metloom) (4.2.2)\n",
      "Collecting requests-toolbelt>=0.7.1 (from zeep>4.0.0->metloom)\n",
      "  Downloading requests_toolbelt-1.0.0-py2.py3-none-any.whl.metadata (14 kB)\n",
      "Collecting requests-file>=1.5.1 (from zeep>4.0.0->metloom)\n",
      "  Downloading requests_file-2.1.0-py2.py3-none-any.whl.metadata (1.7 kB)\n",
      "Requirement already satisfied: click~=8.0 in /srv/conda/envs/notebook/lib/python3.11/site-packages (from fiona>=1.8.21->geopandas<1.0.0,>=0.9.0->metloom) (8.1.7)\n",
      "Requirement already satisfied: click-plugins>=1.0 in /srv/conda/envs/notebook/lib/python3.11/site-packages (from fiona>=1.8.21->geopandas<1.0.0,>=0.9.0->metloom) (1.1.1)\n",
      "Requirement already satisfied: cligj>=0.5 in /srv/conda/envs/notebook/lib/python3.11/site-packages (from fiona>=1.8.21->geopandas<1.0.0,>=0.9.0->metloom) (0.7.2)\n",
      "Requirement already satisfied: six in /srv/conda/envs/notebook/lib/python3.11/site-packages (from fiona>=1.8.21->geopandas<1.0.0,>=0.9.0->metloom) (1.16.0)\n",
      "Downloading metloom-0.6.3-py2.py3-none-any.whl (56 kB)\n",
      "\u001b[2K   \u001b[90m━━━━━━━━━━━━━━━━━━━━━━━━━━━━━━━━━━━━━━━━\u001b[0m \u001b[32m56.8/56.8 kB\u001b[0m \u001b[31m2.8 MB/s\u001b[0m eta \u001b[36m0:00:00\u001b[0m\n",
      "\u001b[?25hDownloading geopandas-0.14.4-py3-none-any.whl (1.1 MB)\n",
      "\u001b[2K   \u001b[90m━━━━━━━━━━━━━━━━━━━━━━━━━━━━━━━━━━━━━━━━\u001b[0m \u001b[32m1.1/1.1 MB\u001b[0m \u001b[31m21.7 MB/s\u001b[0m eta \u001b[36m0:00:00\u001b[0m00:01\u001b[0m\n",
      "\u001b[?25hDownloading zeep-4.3.1-py3-none-any.whl (101 kB)\n",
      "\u001b[2K   \u001b[90m━━━━━━━━━━━━━━━━━━━━━━━━━━━━━━━━━━━━━━━━\u001b[0m \u001b[32m101.7/101.7 kB\u001b[0m \u001b[31m6.3 MB/s\u001b[0m eta \u001b[36m0:00:00\u001b[0m\n",
      "\u001b[?25hDownloading isodate-0.7.2-py3-none-any.whl (22 kB)\n",
      "Downloading requests_file-2.1.0-py2.py3-none-any.whl (4.2 kB)\n",
      "Downloading requests_toolbelt-1.0.0-py2.py3-none-any.whl (54 kB)\n",
      "\u001b[2K   \u001b[90m━━━━━━━━━━━━━━━━━━━━━━━━━━━━━━━━━━━━━━━━\u001b[0m \u001b[32m54.5/54.5 kB\u001b[0m \u001b[31m3.7 MB/s\u001b[0m eta \u001b[36m0:00:00\u001b[0m\n",
      "\u001b[?25hInstalling collected packages: isodate, requests-toolbelt, requests-file, zeep, geopandas, metloom\n",
      "  Attempting uninstall: geopandas\n",
      "    Found existing installation: geopandas 1.0.1\n",
      "    Uninstalling geopandas-1.0.1:\n",
      "      Successfully uninstalled geopandas-1.0.1\n",
      "Successfully installed geopandas-0.14.4 isodate-0.7.2 metloom-0.6.3 requests-file-2.1.0 requests-toolbelt-1.0.0 zeep-4.3.1\n"
     ]
    }
   ],
   "source": [
    "!pip install metloom"
   ]
  },
  {
   "cell_type": "code",
   "execution_count": 3,
   "id": "98e47be4-4e7e-4a0b-bc66-24fb372851b3",
   "metadata": {},
   "outputs": [],
   "source": [
    "# import the pointdata classes\n",
    "from metloom.pointdata import (\n",
    "    PointData, CDECPointData, SnotelPointData, MesowestPointData, USGSPointData\n",
    ")\n",
    "# import the variable classes\n",
    "from metloom.variables import (\n",
    "    SensorDescription, CdecStationVariables, SnotelVariables, MesowestVariables, USGSVariables\n",
    ")"
   ]
  },
  {
   "cell_type": "code",
   "execution_count": 13,
   "id": "04577d34-85c3-48c8-b1ac-baa3b1579482",
   "metadata": {},
   "outputs": [],
   "source": [
    "from datetime import datetime\n",
    "import pandas as pd\n",
    "import geopandas as gpd\n",
    "from pathlib import Path"
   ]
  },
  {
   "cell_type": "code",
   "execution_count": 16,
   "id": "a1eed475-6b55-4a72-b24b-bcbebb7cbd55",
   "metadata": {},
   "outputs": [],
   "source": [
    "# Find your area\n",
    "sf_path = Path(\"/home/jovyan/shared-public/SnowPit/cffl_lidar_box.geojson\").expanduser()\n",
    "sf = gpd.read_file(str(sf_path))\n",
    "sf[\"name\"] = [\"FLCF\"]\n",
    "variables = [SnotelPointData.ALLOWED_VARIABLES.SNOWDEPTH]"
   ]
  },
  {
   "cell_type": "code",
   "execution_count": 18,
   "id": "f95d9652-d7af-4497-89e5-ae5e4e9b9dd4",
   "metadata": {},
   "outputs": [],
   "source": [
    "# Find all the points in the area for our variables\n",
    "points = SnotelPointData.points_from_geometry(sf, variables)"
   ]
  },
  {
   "cell_type": "code",
   "execution_count": 20,
   "id": "67a2336f-16b8-4dc3-87f4-7a76954c46fa",
   "metadata": {},
   "outputs": [
    {
     "name": "stdout",
     "output_type": "stream",
     "text": [
      "[SnotelPointData('1302:AK:SNTL', 'Creamers Field')]\n"
     ]
    }
   ],
   "source": [
    "# buffer - add buffer (in degrees) to extents\n",
    "print(SnotelPointData.points_from_geometry(sf, variables, buffer=0.5).points)"
   ]
  },
  {
   "cell_type": "code",
   "execution_count": 23,
   "id": "df1095d2-1d69-4f59-bce6-3b9d4131e535",
   "metadata": {},
   "outputs": [
    {
     "data": {
      "text/html": [
       "<div style=\"width:100%;\"><div style=\"position:relative;width:100%;height:0;padding-bottom:60%;\"><span style=\"color:#565656\">Make this Notebook Trusted to load map: File -> Trust Notebook</span><iframe srcdoc=\"&lt;!DOCTYPE html&gt;\n",
       "&lt;html&gt;\n",
       "&lt;head&gt;\n",
       "    \n",
       "    &lt;meta http-equiv=&quot;content-type&quot; content=&quot;text/html; charset=UTF-8&quot; /&gt;\n",
       "    \n",
       "        &lt;script&gt;\n",
       "            L_NO_TOUCH = false;\n",
       "            L_DISABLE_3D = false;\n",
       "        &lt;/script&gt;\n",
       "    \n",
       "    &lt;style&gt;html, body {width: 100%;height: 100%;margin: 0;padding: 0;}&lt;/style&gt;\n",
       "    &lt;style&gt;#map {position:absolute;top:0;bottom:0;right:0;left:0;}&lt;/style&gt;\n",
       "    &lt;script src=&quot;https://cdn.jsdelivr.net/npm/leaflet@1.9.3/dist/leaflet.js&quot;&gt;&lt;/script&gt;\n",
       "    &lt;script src=&quot;https://code.jquery.com/jquery-3.7.1.min.js&quot;&gt;&lt;/script&gt;\n",
       "    &lt;script src=&quot;https://cdn.jsdelivr.net/npm/bootstrap@5.2.2/dist/js/bootstrap.bundle.min.js&quot;&gt;&lt;/script&gt;\n",
       "    &lt;script src=&quot;https://cdnjs.cloudflare.com/ajax/libs/Leaflet.awesome-markers/2.0.2/leaflet.awesome-markers.js&quot;&gt;&lt;/script&gt;\n",
       "    &lt;link rel=&quot;stylesheet&quot; href=&quot;https://cdn.jsdelivr.net/npm/leaflet@1.9.3/dist/leaflet.css&quot;/&gt;\n",
       "    &lt;link rel=&quot;stylesheet&quot; href=&quot;https://cdn.jsdelivr.net/npm/bootstrap@5.2.2/dist/css/bootstrap.min.css&quot;/&gt;\n",
       "    &lt;link rel=&quot;stylesheet&quot; href=&quot;https://netdna.bootstrapcdn.com/bootstrap/3.0.0/css/bootstrap-glyphicons.css&quot;/&gt;\n",
       "    &lt;link rel=&quot;stylesheet&quot; href=&quot;https://cdn.jsdelivr.net/npm/@fortawesome/fontawesome-free@6.2.0/css/all.min.css&quot;/&gt;\n",
       "    &lt;link rel=&quot;stylesheet&quot; href=&quot;https://cdnjs.cloudflare.com/ajax/libs/Leaflet.awesome-markers/2.0.2/leaflet.awesome-markers.css&quot;/&gt;\n",
       "    &lt;link rel=&quot;stylesheet&quot; href=&quot;https://cdn.jsdelivr.net/gh/python-visualization/folium/folium/templates/leaflet.awesome.rotate.min.css&quot;/&gt;\n",
       "    \n",
       "            &lt;meta name=&quot;viewport&quot; content=&quot;width=device-width,\n",
       "                initial-scale=1.0, maximum-scale=1.0, user-scalable=no&quot; /&gt;\n",
       "            &lt;style&gt;\n",
       "                #map_2e937007a5b63a201181e192f94104cc {\n",
       "                    position: relative;\n",
       "                    width: 100.0%;\n",
       "                    height: 100.0%;\n",
       "                    left: 0.0%;\n",
       "                    top: 0.0%;\n",
       "                }\n",
       "                .leaflet-container { font-size: 1rem; }\n",
       "            &lt;/style&gt;\n",
       "        \n",
       "    \n",
       "                    &lt;style&gt;\n",
       "                        .foliumpopup {\n",
       "                            margin: auto;\n",
       "                        }\n",
       "                       .foliumpopup table{\n",
       "                            margin: auto;\n",
       "                        }\n",
       "                        .foliumpopup tr{\n",
       "                            text-align: left;\n",
       "                        }\n",
       "                        .foliumpopup th{\n",
       "                            padding: 2px; padding-right: 8px;\n",
       "                        }\n",
       "                    &lt;/style&gt;\n",
       "            \n",
       "    \n",
       "                    &lt;style&gt;\n",
       "                        .foliumtooltip {\n",
       "                            \n",
       "                        }\n",
       "                       .foliumtooltip table{\n",
       "                            margin: auto;\n",
       "                        }\n",
       "                        .foliumtooltip tr{\n",
       "                            text-align: left;\n",
       "                        }\n",
       "                        .foliumtooltip th{\n",
       "                            padding: 2px; padding-right: 8px;\n",
       "                        }\n",
       "                    &lt;/style&gt;\n",
       "            \n",
       "&lt;/head&gt;\n",
       "&lt;body&gt;\n",
       "    \n",
       "    \n",
       "            &lt;div class=&quot;folium-map&quot; id=&quot;map_2e937007a5b63a201181e192f94104cc&quot; &gt;&lt;/div&gt;\n",
       "        \n",
       "&lt;/body&gt;\n",
       "&lt;script&gt;\n",
       "    \n",
       "    \n",
       "            var map_2e937007a5b63a201181e192f94104cc = L.map(\n",
       "                &quot;map_2e937007a5b63a201181e192f94104cc&quot;,\n",
       "                {\n",
       "                    center: [64.87346723629585, -147.70673132863286],\n",
       "                    crs: L.CRS.EPSG3857,\n",
       "                    zoom: 10,\n",
       "                    zoomControl: true,\n",
       "                    preferCanvas: false,\n",
       "                }\n",
       "            );\n",
       "            L.control.scale().addTo(map_2e937007a5b63a201181e192f94104cc);\n",
       "\n",
       "            \n",
       "\n",
       "        \n",
       "    \n",
       "            var tile_layer_d0a0f8a6b2f181d1ee876fbc127bc554 = L.tileLayer(\n",
       "                &quot;https://server.arcgisonline.com/ArcGIS/rest/services/World_Imagery/MapServer/tile/{z}/{y}/{x}&quot;,\n",
       "                {&quot;attribution&quot;: &quot;Tiles \\u0026copy; Esri \\u0026mdash; Source: Esri, i-cubed, USDA, USGS, AEX, GeoEye, Getmapping, Aerogrid, IGN, IGP, UPR-EGP, and the GIS User Community&quot;, &quot;detectRetina&quot;: false, &quot;maxZoom&quot;: 18, &quot;minZoom&quot;: 0, &quot;noWrap&quot;: false, &quot;opacity&quot;: 1, &quot;subdomains&quot;: &quot;abc&quot;, &quot;tms&quot;: false}\n",
       "            );\n",
       "        \n",
       "    \n",
       "            tile_layer_d0a0f8a6b2f181d1ee876fbc127bc554.addTo(map_2e937007a5b63a201181e192f94104cc);\n",
       "        \n",
       "    \n",
       "            map_2e937007a5b63a201181e192f94104cc.fitBounds(\n",
       "                [[64.85824559308716, -147.7518789161763], [64.88868887950454, -147.6615837410894]],\n",
       "                {}\n",
       "            );\n",
       "        \n",
       "    \n",
       "        function geo_json_bc724ed16738e3ac73fe14fdf5687638_styler(feature) {\n",
       "            switch(feature.id) {\n",
       "                default:\n",
       "                    return {&quot;color&quot;: &quot;grey&quot;, &quot;fillColor&quot;: &quot;grey&quot;, &quot;fillOpacity&quot;: 0.5, &quot;opacity&quot;: 0.2, &quot;weight&quot;: 2};\n",
       "            }\n",
       "        }\n",
       "        function geo_json_bc724ed16738e3ac73fe14fdf5687638_pointToLayer(feature, latlng) {\n",
       "            var opts = {&quot;bubblingMouseEvents&quot;: true, &quot;color&quot;: &quot;#3388ff&quot;, &quot;dashArray&quot;: null, &quot;dashOffset&quot;: null, &quot;fill&quot;: true, &quot;fillColor&quot;: &quot;#3388ff&quot;, &quot;fillOpacity&quot;: 0.2, &quot;fillRule&quot;: &quot;evenodd&quot;, &quot;lineCap&quot;: &quot;round&quot;, &quot;lineJoin&quot;: &quot;round&quot;, &quot;opacity&quot;: 1.0, &quot;radius&quot;: 2, &quot;stroke&quot;: true, &quot;weight&quot;: 3};\n",
       "            \n",
       "            let style = geo_json_bc724ed16738e3ac73fe14fdf5687638_styler(feature)\n",
       "            Object.assign(opts, style)\n",
       "            \n",
       "            return new L.CircleMarker(latlng, opts)\n",
       "        }\n",
       "\n",
       "        function geo_json_bc724ed16738e3ac73fe14fdf5687638_onEachFeature(feature, layer) {\n",
       "            layer.on({\n",
       "            });\n",
       "        };\n",
       "        var geo_json_bc724ed16738e3ac73fe14fdf5687638 = L.geoJson(null, {\n",
       "                onEachFeature: geo_json_bc724ed16738e3ac73fe14fdf5687638_onEachFeature,\n",
       "            \n",
       "                style: geo_json_bc724ed16738e3ac73fe14fdf5687638_styler,\n",
       "                pointToLayer: geo_json_bc724ed16738e3ac73fe14fdf5687638_pointToLayer,\n",
       "        });\n",
       "\n",
       "        function geo_json_bc724ed16738e3ac73fe14fdf5687638_add (data) {\n",
       "            geo_json_bc724ed16738e3ac73fe14fdf5687638\n",
       "                .addData(data);\n",
       "        }\n",
       "            geo_json_bc724ed16738e3ac73fe14fdf5687638_add({&quot;bbox&quot;: [-147.7518789161763, 64.85824559308716, -147.6615837410894, 64.88868887950454], &quot;features&quot;: [{&quot;bbox&quot;: [-147.7518789161763, 64.85824559308716, -147.6615837410894, 64.88868887950454], &quot;geometry&quot;: {&quot;coordinates&quot;: [[[[-147.7518789161763, 64.88830524865706, 0.0], [-147.7510392851389, 64.85824559308716, 0.0], [-147.6615837410894, 64.85875714704834, 0.0], [-147.6619112303887, 64.88868887950454, 0.0], [-147.7518789161763, 64.88830524865706, 0.0]]]], &quot;type&quot;: &quot;MultiPolygon&quot;}, &quot;id&quot;: &quot;0&quot;, &quot;properties&quot;: {&quot;Name&quot;: &quot;Creamer/Farmers&quot;, &quot;__folium_color&quot;: &quot;grey&quot;, &quot;altitudeMode&quot;: null, &quot;begin&quot;: null, &quot;description&quot;: &quot;\\u003chtml xmlns:fo=\\&quot;http://www.w3.org/1999/XSL/Format\\&quot; xmlns:msxsl=\\&quot;urn:schemas-microsoft-com:xslt\\&quot;\\u003e\\n\\n\\u003chead\\u003e\\n\\n\\u003cMETA http-equiv=\\&quot;Content-Type\\&quot; content=\\&quot;text/html\\&quot;\\u003e\\n\\n\\u003cmeta http-equiv=\\&quot;content-type\\&quot; content=\\&quot;text/html; charset=UTF-8\\&quot;\\u003e\\n\\n\\u003c/head\\u003e\\n\\n\\u003cbody style=\\&quot;margin:0px 0px 0px 0px;overflow:auto;background:#FFFFFF;\\&quot;\\u003e\\n\\n\\u003ctable style=\\&quot;font-family:Arial,Verdana,Times;font-size:12px;text-align:left;width:100%;border-collapse:collapse;padding:3px 3px 3px 3px\\&quot;\\u003e\\n\\n\\u003ctr style=\\&quot;text-align:center;font-weight:bold;background:#9CBCE2\\&quot;\\u003e\\n\\n\\u003ctd\\u003eCreamer/Farmers\\u003c/td\\u003e\\n\\n\\u003c/tr\\u003e\\n\\n\\u003ctr\\u003e\\n\\n\\u003ctd\\u003e\\n\\n\\u003ctable style=\\&quot;font-family:Arial,Verdana,Times;font-size:12px;text-align:left;width:100%;border-spacing:0px; padding:3px 3px 3px 3px\\&quot;\\u003e\\n\\n\\u003ctr\\u003e\\n\\n\\u003ctd\\u003eFID\\u003c/td\\u003e\\n\\n\\u003ctd\\u003e3\\u003c/td\\u003e\\n\\n\\u003c/tr\\u003e\\n\\n\\u003ctr bgcolor=\\&quot;#D4E4F3\\&quot;\\u003e\\n\\n\\u003ctd\\u003eId\\u003c/td\\u003e\\n\\n\\u003ctd\\u003e0\\u003c/td\\u003e\\n\\n\\u003c/tr\\u003e\\n\\n\\u003ctr\\u003e\\n\\n\\u003ctd\\u003eSite_ID\\u003c/td\\u003e\\n\\n\\u003ctd\\u003eCreamer/Farmers\\u003c/td\\u003e\\n\\n\\u003c/tr\\u003e\\n\\n\\u003c/table\\u003e\\n\\n\\u003c/td\\u003e\\n\\n\\u003c/tr\\u003e\\n\\n\\u003c/table\\u003e\\n\\n\\u003c/body\\u003e\\n\\n\\u003c/html\\u003e&quot;, &quot;drawOrder&quot;: null, &quot;end&quot;: null, &quot;extrude&quot;: 0, &quot;icon&quot;: null, &quot;name&quot;: &quot;FLCF&quot;, &quot;snippet&quot;: &quot;&quot;, &quot;tessellate&quot;: -1, &quot;timestamp&quot;: null, &quot;visibility&quot;: -1}, &quot;type&quot;: &quot;Feature&quot;}], &quot;type&quot;: &quot;FeatureCollection&quot;});\n",
       "\n",
       "        \n",
       "    \n",
       "    geo_json_bc724ed16738e3ac73fe14fdf5687638.bindPopup(\n",
       "    function(layer){\n",
       "    let div = L.DomUtil.create(&#x27;div&#x27;);\n",
       "    \n",
       "    let handleObject = feature=&gt;typeof(feature)==&#x27;object&#x27; ? JSON.stringify(feature) : feature;\n",
       "    let fields = [&quot;name&quot;];\n",
       "    let aliases = [&quot;name&quot;];\n",
       "    let table = &#x27;&lt;table&gt;&#x27; +\n",
       "        String(\n",
       "        fields.map(\n",
       "        (v,i)=&gt;\n",
       "        `&lt;tr&gt;\n",
       "            &lt;th&gt;${aliases[i].toLocaleString()}&lt;/th&gt;\n",
       "            \n",
       "            &lt;td&gt;${handleObject(layer.feature.properties[v]).toLocaleString()}&lt;/td&gt;\n",
       "        &lt;/tr&gt;`).join(&#x27;&#x27;))\n",
       "    +&#x27;&lt;/table&gt;&#x27;;\n",
       "    div.innerHTML=table;\n",
       "    \n",
       "    return div\n",
       "    }\n",
       "    ,{&quot;className&quot;: &quot;foliumpopup&quot;});\n",
       "                     \n",
       "    \n",
       "            geo_json_bc724ed16738e3ac73fe14fdf5687638.addTo(map_2e937007a5b63a201181e192f94104cc);\n",
       "        \n",
       "    \n",
       "        function geo_json_fd3f579cad1a45ffb0673747e62156cb_styler(feature) {\n",
       "            switch(feature.id) {\n",
       "                default:\n",
       "                    return {&quot;color&quot;: &quot;red&quot;, &quot;fillColor&quot;: &quot;red&quot;, &quot;fillOpacity&quot;: 0.5, &quot;weight&quot;: 2};\n",
       "            }\n",
       "        }\n",
       "        function geo_json_fd3f579cad1a45ffb0673747e62156cb_highlighter(feature) {\n",
       "            switch(feature.id) {\n",
       "                default:\n",
       "                    return {&quot;fillOpacity&quot;: 0.75};\n",
       "            }\n",
       "        }\n",
       "        function geo_json_fd3f579cad1a45ffb0673747e62156cb_pointToLayer(feature, latlng) {\n",
       "            var opts = {&quot;bubblingMouseEvents&quot;: true, &quot;color&quot;: &quot;#3388ff&quot;, &quot;dashArray&quot;: null, &quot;dashOffset&quot;: null, &quot;fill&quot;: true, &quot;fillColor&quot;: &quot;#3388ff&quot;, &quot;fillOpacity&quot;: 0.2, &quot;fillRule&quot;: &quot;evenodd&quot;, &quot;lineCap&quot;: &quot;round&quot;, &quot;lineJoin&quot;: &quot;round&quot;, &quot;opacity&quot;: 1.0, &quot;radius&quot;: 4, &quot;stroke&quot;: true, &quot;weight&quot;: 3};\n",
       "            \n",
       "            let style = geo_json_fd3f579cad1a45ffb0673747e62156cb_styler(feature)\n",
       "            Object.assign(opts, style)\n",
       "            \n",
       "            return new L.CircleMarker(latlng, opts)\n",
       "        }\n",
       "\n",
       "        function geo_json_fd3f579cad1a45ffb0673747e62156cb_onEachFeature(feature, layer) {\n",
       "            layer.on({\n",
       "                mouseout: function(e) {\n",
       "                    if(typeof e.target.setStyle === &quot;function&quot;){\n",
       "                            geo_json_fd3f579cad1a45ffb0673747e62156cb.resetStyle(e.target);\n",
       "                    }\n",
       "                },\n",
       "                mouseover: function(e) {\n",
       "                    if(typeof e.target.setStyle === &quot;function&quot;){\n",
       "                        const highlightStyle = geo_json_fd3f579cad1a45ffb0673747e62156cb_highlighter(e.target.feature)\n",
       "                        e.target.setStyle(highlightStyle);\n",
       "                    }\n",
       "                },\n",
       "            });\n",
       "        };\n",
       "        var geo_json_fd3f579cad1a45ffb0673747e62156cb = L.geoJson(null, {\n",
       "                onEachFeature: geo_json_fd3f579cad1a45ffb0673747e62156cb_onEachFeature,\n",
       "            \n",
       "                style: geo_json_fd3f579cad1a45ffb0673747e62156cb_styler,\n",
       "                pointToLayer: geo_json_fd3f579cad1a45ffb0673747e62156cb_pointToLayer,\n",
       "        });\n",
       "\n",
       "        function geo_json_fd3f579cad1a45ffb0673747e62156cb_add (data) {\n",
       "            geo_json_fd3f579cad1a45ffb0673747e62156cb\n",
       "                .addData(data);\n",
       "        }\n",
       "            geo_json_fd3f579cad1a45ffb0673747e62156cb_add({&quot;bbox&quot;: [-147.73617, 64.86534, -147.73617, 64.86534], &quot;features&quot;: [{&quot;bbox&quot;: [-147.73617, 64.86534, -147.73617, 64.86534], &quot;geometry&quot;: {&quot;coordinates&quot;: [-147.73617, 64.86534, 440.0], &quot;type&quot;: &quot;Point&quot;}, &quot;id&quot;: &quot;0&quot;, &quot;properties&quot;: {&quot;__folium_color&quot;: &quot;red&quot;, &quot;datasource&quot;: &quot;NRCS&quot;, &quot;id&quot;: &quot;1302:AK:SNTL&quot;, &quot;name&quot;: &quot;Creamers Field&quot;}, &quot;type&quot;: &quot;Feature&quot;}], &quot;type&quot;: &quot;FeatureCollection&quot;});\n",
       "\n",
       "        \n",
       "    \n",
       "    geo_json_fd3f579cad1a45ffb0673747e62156cb.bindTooltip(\n",
       "    function(layer){\n",
       "    let div = L.DomUtil.create(&#x27;div&#x27;);\n",
       "    \n",
       "    let handleObject = feature=&gt;typeof(feature)==&#x27;object&#x27; ? JSON.stringify(feature) : feature;\n",
       "    let fields = [&quot;name&quot;, &quot;id&quot;];\n",
       "    let aliases = [&quot;name&quot;, &quot;id&quot;];\n",
       "    let table = &#x27;&lt;table&gt;&#x27; +\n",
       "        String(\n",
       "        fields.map(\n",
       "        (v,i)=&gt;\n",
       "        `&lt;tr&gt;\n",
       "            &lt;th&gt;${aliases[i]}&lt;/th&gt;\n",
       "            \n",
       "            &lt;td&gt;${handleObject(layer.feature.properties[v])}&lt;/td&gt;\n",
       "        &lt;/tr&gt;`).join(&#x27;&#x27;))\n",
       "    +&#x27;&lt;/table&gt;&#x27;;\n",
       "    div.innerHTML=table;\n",
       "    \n",
       "    return div\n",
       "    }\n",
       "    ,{&quot;className&quot;: &quot;foliumtooltip&quot;, &quot;sticky&quot;: true});\n",
       "                     \n",
       "    \n",
       "            geo_json_fd3f579cad1a45ffb0673747e62156cb.addTo(map_2e937007a5b63a201181e192f94104cc);\n",
       "        \n",
       "&lt;/script&gt;\n",
       "&lt;/html&gt;\" style=\"position:absolute;width:100%;height:100%;left:0;top:0;border:none !important;\" allowfullscreen webkitallowfullscreen mozallowfullscreen></iframe></div></div>"
      ],
      "text/plain": [
       "<folium.folium.Map at 0x7f5f5f09be10>"
      ]
     },
     "execution_count": 23,
     "metadata": {},
     "output_type": "execute_result"
    }
   ],
   "source": [
    "# plot the shapefile\n",
    "m = sf.explore(\n",
    "    tooltip=False, color=\"grey\", highlight=False, tiles=\"Esri.WorldImagery\",\n",
    "    style_kwds={\"opacity\": 0.2}, popup=[\"name\"]\n",
    ")\n",
    "# plot the points on top of the shapefile\n",
    "df = points.to_dataframe()\n",
    "df.explore(m=m, tooltip=[\"name\", \"id\"], color=\"red\", marker_kwds={\"radius\":4})"
   ]
  },
  {
   "cell_type": "code",
   "execution_count": 5,
   "id": "7766c2df-c9d0-4973-90f9-468cda1bd173",
   "metadata": {},
   "outputs": [
    {
     "data": {
      "text/plain": [
       "'SNOWDEPTH'"
      ]
     },
     "execution_count": 5,
     "metadata": {},
     "output_type": "execute_result"
    }
   ],
   "source": [
    "SnotelVariables.SNOWDEPTH.name"
   ]
  },
  {
   "cell_type": "code",
   "execution_count": 6,
   "id": "250ba2c7-2935-40b1-9795-5c1fdc7a2a3b",
   "metadata": {},
   "outputs": [],
   "source": [
    "pt = SnotelPointData(\"1302:AK:SNTL\", \"Creamer's Field\")"
   ]
  },
  {
   "cell_type": "code",
   "execution_count": 10,
   "id": "0fa43a6d-2014-4e39-a128-fcfe9485ae3c",
   "metadata": {},
   "outputs": [],
   "source": [
    "start_date = datetime(2022, 3, 1)\n",
    "end_date = datetime(2023, 4, 1)\n",
    "\n",
    "variables = [pt.ALLOWED_VARIABLES.SNOWDEPTH]\n",
    "df = pt.get_daily_data(start_date, end_date, variables)"
   ]
  },
  {
   "cell_type": "code",
   "execution_count": 12,
   "id": "ab3b73e4-721c-4813-80e6-dd906582fa45",
   "metadata": {},
   "outputs": [
    {
     "data": {
      "text/plain": [
       "<Axes: xlabel='datetime'>"
      ]
     },
     "execution_count": 12,
     "metadata": {},
     "output_type": "execute_result"
    },
    {
     "data": {
      "image/png": "[encoded data removed]",
      "text/plain": [
       "<Figure size 640x480 with 1 Axes>"
      ]
     },
     "metadata": {},
     "output_type": "display_data"
    }
   ],
   "source": [
    "df.reset_index().set_index(\"datetime\")[\"SNOWDEPTH\"].plot()"
   ]
  }
 ],
 "metadata": {
  "kernelspec": {
   "display_name": "Python 3 (ipykernel)",
   "language": "python",
   "name": "python3"
  },
  "language_info": {
   "codemirror_mode": {
    "name": "ipython",
    "version": 3
   },
   "file_extension": ".py",
   "mimetype": "text/x-python",
   "name": "python",
   "nbconvert_exporter": "python",
   "pygments_lexer": "ipython3",
   "version": "3.11.9"
  }
 },
 "nbformat": 4,
 "nbformat_minor": 5
}
