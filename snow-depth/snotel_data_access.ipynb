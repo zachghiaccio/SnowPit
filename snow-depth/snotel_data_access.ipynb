{
 "cells": [
  {
   "cell_type": "markdown",
   "id": "ac9a4f52-15e3-48ba-b125-48939cf0815d",
   "metadata": {},
   "source": [
    "# SNOTEL Data Access\n",
    "\n",
    "This notebook allows for easy access to snow depths and SWE from the Snow Telemetry (SNOTEL) network. A simple example is used to show quick access to SNOTEL data over Alexander Lake, AK using the `easysnowdata` package.\n",
    "\n",
    "Credit: Eric Gagliano (egagli@uw.edu) for the `easysnowdata` package, which in turn uses `ulmo` to access SNOTEL data. Note that development of `ulmo` has stalled, so SNOTEL sites developed after 2021 are not accessible through this method."
   ]
  },
  {
   "cell_type": "code",
   "execution_count": null,
   "id": "d64d2462-1075-43ef-aad9-4d76c20bb128",
   "metadata": {
    "scrolled": true
   },
   "outputs": [],
   "source": [
    "!pip install metloom"
   ]
  },
  {
   "cell_type": "code",
   "execution_count": null,
   "id": "98e47be4-4e7e-4a0b-bc66-24fb372851b3",
   "metadata": {},
   "outputs": [],
   "source": [
    "# import the pointdata classes\n",
    "from metloom.pointdata import (\n",
    "    PointData, CDECPointData, SnotelPointData, MesowestPointData, USGSPointData\n",
    ")\n",
    "# import the variable classes\n",
    "from metloom.variables import (\n",
    "    SensorDescription, CdecStationVariables, SnotelVariables, MesowestVariables, USGSVariables\n",
    ")"
   ]
  },
  {
   "cell_type": "code",
   "execution_count": null,
   "id": "04577d34-85c3-48c8-b1ac-baa3b1579482",
   "metadata": {},
   "outputs": [],
   "source": [
    "from datetime import datetime\n",
    "import pandas as pd\n",
    "import geopandas as gpd\n",
    "from pathlib import Path"
   ]
  },
  {
   "cell_type": "code",
   "execution_count": null,
   "id": "a1eed475-6b55-4a72-b24b-bcbebb7cbd55",
   "metadata": {},
   "outputs": [],
   "source": [
    "# Find your area\n",
    "sf_path = Path(\"/home/jovyan/shared-public/SnowPit/cffl_lidar_box.geojson\").expanduser()\n",
    "sf = gpd.read_file(str(sf_path))\n",
    "sf[\"name\"] = [\"FLCF\"]\n",
    "variables = [SnotelPointData.ALLOWED_VARIABLES.SNOWDEPTH]"
   ]
  },
  {
   "cell_type": "code",
   "execution_count": null,
   "id": "f95d9652-d7af-4497-89e5-ae5e4e9b9dd4",
   "metadata": {},
   "outputs": [],
   "source": [
    "# Find all the points in the area for our variables\n",
    "points = SnotelPointData.points_from_geometry(sf, variables)"
   ]
  },
  {
   "cell_type": "code",
   "execution_count": null,
   "id": "67a2336f-16b8-4dc3-87f4-7a76954c46fa",
   "metadata": {},
   "outputs": [],
   "source": [
    "# buffer - add buffer (in degrees) to extents\n",
    "print(SnotelPointData.points_from_geometry(sf, variables, buffer=0.5).points)"
   ]
  },
  {
   "cell_type": "code",
   "execution_count": null,
   "id": "df1095d2-1d69-4f59-bce6-3b9d4131e535",
   "metadata": {},
   "outputs": [],
   "source": [
    "# plot the shapefile\n",
    "m = sf.explore(\n",
    "    tooltip=False, color=\"grey\", highlight=False, tiles=\"Esri.WorldImagery\",\n",
    "    style_kwds={\"opacity\": 0.2}, popup=[\"name\"]\n",
    ")\n",
    "# plot the points on top of the shapefile\n",
    "df = points.to_dataframe()\n",
    "df.explore(m=m, tooltip=[\"name\", \"id\"], color=\"red\", marker_kwds={\"radius\":4})"
   ]
  },
  {
   "cell_type": "code",
   "execution_count": null,
   "id": "7766c2df-c9d0-4973-90f9-468cda1bd173",
   "metadata": {},
   "outputs": [],
   "source": [
    "SnotelVariables.SNOWDEPTH.name"
   ]
  },
  {
   "cell_type": "code",
   "execution_count": null,
   "id": "250ba2c7-2935-40b1-9795-5c1fdc7a2a3b",
   "metadata": {},
   "outputs": [],
   "source": [
    "pt = SnotelPointData(\"1302:AK:SNTL\", \"Creamer's Field\")"
   ]
  },
  {
   "cell_type": "code",
   "execution_count": null,
   "id": "0fa43a6d-2014-4e39-a128-fcfe9485ae3c",
   "metadata": {},
   "outputs": [],
   "source": [
    "start_date = datetime(2022, 3, 1)\n",
    "end_date = datetime(2023, 4, 1)\n",
    "\n",
    "variables = [pt.ALLOWED_VARIABLES.SNOWDEPTH]\n",
    "df = pt.get_daily_data(start_date, end_date, variables)"
   ]
  },
  {
   "cell_type": "code",
   "execution_count": null,
   "id": "ab3b73e4-721c-4813-80e6-dd906582fa45",
   "metadata": {},
   "outputs": [],
   "source": [
    "df.reset_index().set_index(\"datetime\")[\"SNOWDEPTH\"].plot()"
   ]
  }
 ],
 "metadata": {
  "kernelspec": {
   "display_name": "Python 3 (ipykernel)",
   "language": "python",
   "name": "python3"
  },
  "language_info": {
   "codemirror_mode": {
    "name": "ipython",
    "version": 3
   },
   "file_extension": ".py",
   "mimetype": "text/x-python",
   "name": "python",
   "nbconvert_exporter": "python",
   "pygments_lexer": "ipython3",
   "version": "3.11.9"
  }
 },
 "nbformat": 4,
 "nbformat_minor": 5
}
