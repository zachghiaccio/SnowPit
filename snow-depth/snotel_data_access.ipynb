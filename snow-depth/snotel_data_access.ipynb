{
 "cells": [
  {
   "cell_type": "markdown",
   "id": "ac9a4f52-15e3-48ba-b125-48939cf0815d",
   "metadata": {},
   "source": [
    "# Automatic Weather Station Data Access\n",
    "\n",
    "Credit: Eric Gagliano (egagli@uw.edu) for the `easysnowdata` package, which makes accessing weather station data much easier."
   ]
  },
  {
   "cell_type": "code",
   "execution_count": null,
   "id": "98e47be4-4e7e-4a0b-bc66-24fb372851b3",
   "metadata": {},
   "outputs": [],
   "source": [
    "import easysnowdata as esd"
   ]
  },
  {
   "cell_type": "code",
   "execution_count": null,
   "id": "66367213-7b64-4231-93a8-0dca4a6d9241",
   "metadata": {},
   "outputs": [],
   "source": [
    "stations = esd.automatic_weather_stations.StationCollection()"
   ]
  },
  {
   "cell_type": "code",
   "execution_count": null,
   "id": "51e07a1b-4704-4135-b06a-a2163767552b",
   "metadata": {
    "scrolled": true
   },
   "outputs": [],
   "source": [
    "stations.all_stations"
   ]
  },
  {
   "cell_type": "code",
   "execution_count": null,
   "id": "91dbf4bf-8ffc-498e-946d-5f4fc959ecaf",
   "metadata": {},
   "outputs": [],
   "source": [
    "alex_lake = esd.automatic_weather_stations.StationCollection()"
   ]
  },
  {
   "cell_type": "code",
   "execution_count": null,
   "id": "03006f79-ffec-48c6-b07e-24ff6f69e93b",
   "metadata": {},
   "outputs": [],
   "source": [
    "alex_lake.get_data('1267_AK_SNTL')"
   ]
  },
  {
   "cell_type": "code",
   "execution_count": null,
   "id": "d95a399b-8a4c-4c25-ab79-5c704329a2de",
   "metadata": {},
   "outputs": [],
   "source": [
    "alex_lake"
   ]
  },
  {
   "cell_type": "code",
   "execution_count": null,
   "id": "3cb0e0b5-7794-456a-8987-ad536ad40890",
   "metadata": {},
   "outputs": [],
   "source": [
    "import contextily as ctx\n",
    "import matplotlib.pyplot as plt\n",
    "\n",
    "f, ax = plt.subplots()\n",
    "\n",
    "alex_lake.stations.plot(ax=ax, color=\"red\")\n",
    "\n",
    "ax.set_xlim(-122, -121.5)\n",
    "ax.set_ylim(46.6, 47.1)\n",
    "\n",
    "ctx.add_basemap(\n",
    "    ax, crs=alex_lake.stations.crs, source=ctx.providers.Esri.WorldImagery\n",
    ")"
   ]
  },
  {
   "cell_type": "code",
   "execution_count": null,
   "id": "50f0c363-cf31-4dec-bf8d-525c8ee1ab66",
   "metadata": {},
   "outputs": [],
   "source": []
  }
 ],
 "metadata": {
  "kernelspec": {
   "display_name": "Python 3 (ipykernel)",
   "language": "python",
   "name": "python3"
  },
  "language_info": {
   "codemirror_mode": {
    "name": "ipython",
    "version": 3
   },
   "file_extension": ".py",
   "mimetype": "text/x-python",
   "name": "python",
   "nbconvert_exporter": "python",
   "pygments_lexer": "ipython3",
   "version": "3.11.9"
  }
 },
 "nbformat": 4,
 "nbformat_minor": 5
}
