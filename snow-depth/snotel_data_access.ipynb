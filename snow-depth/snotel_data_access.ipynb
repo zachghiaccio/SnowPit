{
 "cells": [
  {
   "cell_type": "markdown",
   "id": "ac9a4f52-15e3-48ba-b125-48939cf0815d",
   "metadata": {},
   "source": [
    "# SNOTEL Data Access\n",
    "\n",
    "This notebook allows for easy access to snow depths and SWE from the Snow Telemetry (SNOTEL) network. A simple example is used to show quick access to SNOTEL data over Alexander Lake, AK using the `easysnowdata` package.\n",
    "\n",
    "Credit: Eric Gagliano (egagli@uw.edu) for the `easysnowdata` package, which in turn uses `ulmo` to access SNOTEL data. Note that development of `ulmo` has stalled, so SNOTEL sites developed after 2021 are not accessible through this method."
   ]
  },
  {
   "cell_type": "code",
   "execution_count": null,
   "id": "98e47be4-4e7e-4a0b-bc66-24fb372851b3",
   "metadata": {},
   "outputs": [],
   "source": [
    "import easysnowdata as esd"
   ]
  },
  {
   "cell_type": "markdown",
   "id": "78314e3d-c2a7-4681-9500-c463b7520a16",
   "metadata": {},
   "source": [
    "We start by calling all of the available stations through `easysnowdata`. In doing so, we have access to several variables for each station:\n",
    "* `code`: ID for the station of interest.\n",
    "* `name`: Name of the station site.\n",
    "* `network`: Name of the weather station network (\"CCSS\" or \"SNOTEL\")\n",
    "* `elevation_m`: Elevation of the station site, in meters.\n",
    "* `latitude` and `longitude`: Latitude/longitude of site.\n",
    "* `state`: State of SNOTEL site.\n",
    "* `HUC`: Hydrologic Unit Code for the site.\n",
    "* `mgrs`: Military Grid Reference System coordinate of site.\n",
    "* `mountainRange`: Mountain range of site, if any.\n",
    "* `beginDate` and `endDate`: Begin and ending data of available station data."
   ]
  },
  {
   "cell_type": "code",
   "execution_count": null,
   "id": "66367213-7b64-4231-93a8-0dca4a6d9241",
   "metadata": {},
   "outputs": [],
   "source": [
    "# Call available weather stations, including SNOTEL\n",
    "stations = esd.automatic_weather_stations.StationCollection()"
   ]
  },
  {
   "cell_type": "code",
   "execution_count": null,
   "id": "51e07a1b-4704-4135-b06a-a2163767552b",
   "metadata": {
    "scrolled": true
   },
   "outputs": [],
   "source": [
    "stations.all_stations"
   ]
  },
  {
   "cell_type": "markdown",
   "id": "d2ece75e-b08f-4f8f-a027-8a495d396daf",
   "metadata": {},
   "source": [
    "For this example, we will look at Alexander Lake in Alaska. Based on the table above, Alexander Lake has the `code` **1267_AK_SNTL**."
   ]
  },
  {
   "cell_type": "code",
   "execution_count": null,
   "id": "91dbf4bf-8ffc-498e-946d-5f4fc959ecaf",
   "metadata": {
    "scrolled": true
   },
   "outputs": [],
   "source": [
    "# Subset data to Alexander Lake in Alaska\n",
    "alex_lake = esd.automatic_weather_stations.StationCollection()\n",
    "alex_lake.get_data('1267_AK_SNTL')"
   ]
  },
  {
   "cell_type": "code",
   "execution_count": null,
   "id": "d95a399b-8a4c-4c25-ab79-5c704329a2de",
   "metadata": {
    "scrolled": true
   },
   "outputs": [],
   "source": [
    "alex_lake.data"
   ]
  },
  {
   "cell_type": "markdown",
   "id": "0c4341cf-0fa1-4873-81f1-1f322e4c4844",
   "metadata": {},
   "source": [
    "A summary of the loaded data:\n",
    "* `TAVG`, `TMIN`, `TMAX`: Average/minimum/maximum daily temperature, in Celsius.\n",
    "* `SNWD`: Daily snow depth, in meters.\n",
    "* `WTEQ`: Daily snow water equivalent, in meters.\n",
    "* `PRCPSA`: Daily snow accumulation, in meters.\n",
    "\n",
    "Now that we have the data loaded, let's check out the location of the SNOTEL site."
   ]
  },
  {
   "cell_type": "code",
   "execution_count": null,
   "id": "3cb0e0b5-7794-456a-8987-ad536ad40890",
   "metadata": {},
   "outputs": [],
   "source": [
    "import contextily as ctx\n",
    "import matplotlib.pyplot as plt\n",
    "\n",
    "# Plot a map showing the location of the SNOTEL site, with an ESRI basemap\n",
    "f, ax = plt.subplots()\n",
    "\n",
    "alex_lake.stations.plot(ax=ax, color=\"red\")\n",
    "\n",
    "ax.set_xlim(-150.92, -150.86)\n",
    "ax.set_ylim(61.74, 61.76)\n",
    "\n",
    "ctx.add_basemap(\n",
    "    ax, crs=alex_lake.stations.crs, source=ctx.providers.Esri.WorldImagery\n",
    ")"
   ]
  },
  {
   "cell_type": "markdown",
   "id": "d4a544e7-044e-4cb3-8dc6-701f791cfaf6",
   "metadata": {},
   "source": [
    "We can also check out a time series of the snow depth and SWE during the 2018 water year."
   ]
  },
  {
   "cell_type": "code",
   "execution_count": null,
   "id": "50f0c363-cf31-4dec-bf8d-525c8ee1ab66",
   "metadata": {},
   "outputs": [],
   "source": [
    "import pandas as pd\n",
    "\n",
    "f, ax = plt.subplots(figsize=(12, 5))\n",
    "\n",
    "# Line plots of snow depth and snow water equivalent\n",
    "alex_lake.data[\"SNWD\"].plot(ax=ax, label=\"snow depth\")\n",
    "alex_lake.data[\"WTEQ\"].plot(ax=ax, label=\"snow water equivalent\")\n",
    "\n",
    "ax.set_xlim(pd.to_datetime([\"2017-10-01\", \"2018-09-30\"]))\n",
    "\n",
    "ax.grid()\n",
    "ax.legend()\n",
    "\n",
    "ax.set_xlabel(\"time\")\n",
    "ax.set_ylabel(\"snow depth / SWE [meters]\")\n",
    "ax.set_title(\"Snow depth and SWE at Alexander Lake, AK \\n(water year 2018)\")\n",
    "\n",
    "f.tight_layout()"
   ]
  },
  {
   "cell_type": "markdown",
   "id": "36d2c31e-3e3f-4d73-9b2a-05e00f0e3c16",
   "metadata": {},
   "source": [
    "The `easysnowdata` package also has useful utilities for determining the day of water year and water year. Using these, we can easily calculate and plot snow depth statistics for a water year."
   ]
  },
  {
   "cell_type": "code",
   "execution_count": null,
   "id": "654fa264-ffe1-4026-b0dd-2e4b78f621a1",
   "metadata": {},
   "outputs": [],
   "source": [
    "# Calculate day of water year (DOWY) and water year (WY)\n",
    "alex_lake.data[\"DOWY\"] = alex_lake.data.index.map(\n",
    "    esd.utils.datetime_to_DOWY\n",
    ")\n",
    "alex_lake.data[\"WY\"] = alex_lake.data.index.map(\n",
    "    esd.utils.datetime_to_WY\n",
    ")"
   ]
  },
  {
   "cell_type": "code",
   "execution_count": null,
   "id": "07199fce-4fb1-45d6-b9ac-c3cb215dbbcc",
   "metadata": {},
   "outputs": [],
   "source": [
    "# Compute snow depth statistics\n",
    "stat_list = [\"min\", \"max\", \"mean\", \"std\", \"median\"]\n",
    "alex_lake_DOWY_snwd_stats = alex_lake.data.groupby(\"DOWY\").agg(stat_list)[\n",
    "    \"SNWD\"\n",
    "]\n",
    "alex_lake_DOWY_snwd_stats"
   ]
  },
  {
   "cell_type": "code",
   "execution_count": null,
   "id": "0ae632fc-f827-4577-909c-445aacbd39e0",
   "metadata": {},
   "outputs": [],
   "source": [
    "import datetime\n",
    "\n",
    "# Determine water year of present day\n",
    "today = datetime.datetime.today().strftime(\"%Y-%m-%d\")\n",
    "current_WY = slice(f\"{int(today[0:4])-1}-10-01\", f\"{today}\")\n",
    "current_WY_al_snotel = alex_lake.data[current_WY.start : current_WY.stop]"
   ]
  },
  {
   "cell_type": "code",
   "execution_count": null,
   "id": "4c6379cd-1136-4866-a4ee-714027fc0e07",
   "metadata": {},
   "outputs": [],
   "source": [
    "f, ax = plt.subplots(figsize=(12, 7))\n",
    "\n",
    "# Plot snow depth statistics of each day in water year\n",
    "for stat, stat_color in zip(\n",
    "    [\"min\", \"max\", \"mean\", \"median\"], [\"red\", \"blue\", \"mediumpurple\", \"mediumseagreen\"]\n",
    "):\n",
    "    ax.plot(\n",
    "        alex_lake_DOWY_snwd_stats.index,\n",
    "        alex_lake_DOWY_snwd_stats[stat],\n",
    "        label=stat,\n",
    "        color=stat_color,\n",
    "        linewidth=3,\n",
    "    )\n",
    "\n",
    "# Plot uncertainty shading\n",
    "ax.fill_between(\n",
    "    alex_lake_DOWY_snwd_stats.index,\n",
    "    alex_lake_DOWY_snwd_stats[\"mean\"] - alex_lake_DOWY_snwd_stats[\"std\"],\n",
    "    alex_lake_DOWY_snwd_stats[\"mean\"] + alex_lake_DOWY_snwd_stats[\"std\"],\n",
    "    color=\"mediumpurple\",\n",
    "    alpha=0.3,\n",
    "    label=\"mean +/- 1 std\",\n",
    ")\n",
    "\n",
    "# Scatter plot of depths from current water year\n",
    "ax.scatter(\n",
    "    current_WY_paradise_snotel.DOWY,\n",
    "    current_WY_paradise_snotel.SNWD,\n",
    "    marker=\"o\",\n",
    "    color=\"black\",\n",
    "    label=\"Current WY\",\n",
    ")\n",
    "\n",
    "ax.set_xlim([0, 366])\n",
    "ax.set_ylim([0, 1.5])\n",
    "\n",
    "ax.grid()\n",
    "ax.legend()\n",
    "\n",
    "ax.set_title(\n",
    "    f\"Current snow depth against historical snow depth stats by DOWY at Alexander Lake, AK\\n({alex_lake.data.index.min().date()} - {alex_lake.data.index.max().date()})\"\n",
    ")\n",
    "ax.set_xlabel(\"Day of Water Year [Oct 1 - Sept 30]\")\n",
    "ax.set_ylabel(\"Snow depth [meters]\")\n",
    "f.tight_layout()"
   ]
  }
 ],
 "metadata": {
  "kernelspec": {
   "display_name": "Python 3 (ipykernel)",
   "language": "python",
   "name": "python3"
  },
  "language_info": {
   "codemirror_mode": {
    "name": "ipython",
    "version": 3
   },
   "file_extension": ".py",
   "mimetype": "text/x-python",
   "name": "python",
   "nbconvert_exporter": "python",
   "pygments_lexer": "ipython3",
   "version": "3.11.9"
  }
 },
 "nbformat": 4,
 "nbformat_minor": 5
}
