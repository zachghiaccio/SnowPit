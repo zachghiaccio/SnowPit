{
 "cells": [
  {
   "cell_type": "markdown",
   "id": "74e721c4-5532-491c-a16b-cc317951ffe6",
   "metadata": {},
   "source": [
    "# SNODAS Data Access\n",
    "\n",
    "This script is designed to access and process data from the Snow Data Assimilation (SNODAS) system. \n",
    "\n",
    "Data is accessed through NSIDC. Because SNODAS is not available through the cloud, we must use HTTPS data querying to download and process the data.\n",
    "\n",
    "This script is adapted from code written by Aakash Ahamed (https://github.com/kashingtonDC/SNODAS)."
   ]
  },
  {
   "cell_type": "code",
   "execution_count": 3,
   "id": "a133a377-2eaf-4de6-97b0-3907195d233d",
   "metadata": {},
   "outputs": [],
   "source": [
    "import requests\n",
    "from bs4 import BeautifulSoup\n",
    "\n",
    "import os\n",
    "import time\n",
    "import gzip\n",
    "import shutil\n",
    "\n",
    "import datetime\n",
    "import subprocess \n",
    "\n",
    "from tqdm import tqdm"
   ]
  },
  {
   "cell_type": "code",
   "execution_count": 2,
   "id": "cd0e04c1-5749-40bb-9ccb-0f7bf801b949",
   "metadata": {},
   "outputs": [],
   "source": [
    "year = \"2023\"\n",
    "month = \"Mar\" # 3-character abbreviation for month\n",
    "day = \"03\" # 2-digit number for day of month\n",
    "\n",
    "archive_url = f'https://noaadata.apps.nsidc.org/NOAA/G02158/masked/{year}/{day}_{month}/'\n",
    "\n",
    "r = requests.get(archive_url)\n",
    "\n",
    "data = BeautifulSoup(r.text, \"html.parser\")\n",
    "\n",
    "for l in data.find_all(\"a\")[1:]:\n",
    "    r = requests.get(archive_url+l['href'])\n",
    "    with open(l['href'], 'wb') as f:\n",
    "        f.write(r.content)"
   ]
  },
  {
   "cell_type": "code",
   "execution_count": null,
   "id": "b65b45ae-664c-4c61-aac9-c525def854a6",
   "metadata": {},
   "outputs": [],
   "source": []
  }
 ],
 "metadata": {
  "kernelspec": {
   "display_name": "Python 3 (ipykernel)",
   "language": "python",
   "name": "python3"
  },
  "language_info": {
   "codemirror_mode": {
    "name": "ipython",
    "version": 3
   },
   "file_extension": ".py",
   "mimetype": "text/x-python",
   "name": "python",
   "nbconvert_exporter": "python",
   "pygments_lexer": "ipython3",
   "version": "3.11.9"
  }
 },
 "nbformat": 4,
 "nbformat_minor": 5
}
