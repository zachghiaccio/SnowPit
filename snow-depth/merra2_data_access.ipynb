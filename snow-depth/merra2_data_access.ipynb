{
 "cells": [
  {
   "cell_type": "markdown",
   "id": "c48fbec5-3ba6-4e4e-ac6f-87ddf169598f",
   "metadata": {},
   "source": [
    "# MERRA-2 Data Access\n",
    "\n",
    "This code is designed to access reanalysis data from the Modern-Era Retrospective analysis for Research and Applications, Version 2 (MERRA-2). MERRA-2 is useful for its global data record of various land surface variables, including snow cover and snow depth.\n",
    "\n",
    "In this example notebook, we are accessing the snow depth product, which is found in the \"1-Hourly, Time-Averaged, Single-Level, Assimilation, Land Surface Diagnostics\" product (M2T1NXLND), found here: https://disc.gsfc.nasa.gov/datasets/M2T1NXLND_5.12.4/summary."
   ]
  },
  {
   "cell_type": "code",
   "execution_count": 1,
   "id": "3e913113-f6c6-4770-8555-aeede27f599a",
   "metadata": {},
   "outputs": [],
   "source": [
    "import xarray as xr\n",
    "import earthaccess\n",
    "import boto3\n",
    "import cartopy.crs as ccrs\n",
    "import cartopy.feature as cfeature\n",
    "import matplotlib.pyplot as plt\n",
    "import warnings\n",
    "from IPython.display import display, Markdown"
   ]
  },
  {
   "cell_type": "markdown",
   "id": "45b9fe1f-4f6d-40d9-8ac8-5f9957d13c82",
   "metadata": {},
   "source": [
    "Because MERRA-2 is a reanalysis product by NASA, we can get the data through `earthaccess`. In addition to using a `short_name` for the data product of interest, `earthaccess` also allows one to use the dataset's DOI for queries. The below query uses the DOI (`10.5067/RKPHT8KC1Y1T`) for M2T1NXLND."
   ]
  },
  {
   "cell_type": "code",
   "execution_count": 2,
   "id": "990691a9-d206-4bc8-b3f7-3dfaf3cb5238",
   "metadata": {},
   "outputs": [],
   "source": [
    "# Authenticate using Earthdata Login prerequisite files\n",
    "auth = earthaccess.login()\n",
    "\n",
    "# Search for the granule by DOI\n",
    "results = earthaccess.search_data(\n",
    "    doi='10.5067/RKPHT8KC1Y1T',\n",
    "    temporal=(\"2022-03-01\", \"2022-03-31\"),\n",
    ")"
   ]
  },
  {
   "cell_type": "code",
   "execution_count": 4,
   "id": "5819deb2-dbaf-429c-8629-6f7a3282e0db",
   "metadata": {},
   "outputs": [
    {
     "data": {
      "text/plain": [
       "31"
      ]
     },
     "execution_count": 4,
     "metadata": {},
     "output_type": "execute_result"
    }
   ],
   "source": [
    "len(results)"
   ]
  },
  {
   "cell_type": "markdown",
   "id": "770ff74d-779e-4e26-a1aa-25c5120d7378",
   "metadata": {},
   "source": [
    "The queried MERRA-2 data is organized such that 1 file = 1 day, so we should expect 31 files to be loaded below."
   ]
  },
  {
   "cell_type": "code",
   "execution_count": null,
   "id": "50d81535-3cb0-477e-8831-d699371846a5",
   "metadata": {},
   "outputs": [],
   "source": [
    "# Access the MERRA-2 file(s) from the cloud\n",
    "fn = earthaccess.open(results)"
   ]
  },
  {
   "cell_type": "code",
   "execution_count": null,
   "id": "3cd7dbcf-7fc5-452e-b3bc-7ea5d596e607",
   "metadata": {},
   "outputs": [],
   "source": [
    "# Open MERRA-2 data in Xarray (may be time-/memory-intensive if multiple files are queried)\n",
    "ds = xr.open_mfdataset(fn)"
   ]
  },
  {
   "cell_type": "markdown",
   "id": "a2623f99-8a59-4dfa-9026-5848ca30e89b",
   "metadata": {},
   "source": [
    "With the above lines of code, we now have global land surface diagnostics for 744 time steps, or hourly over the month of March 2022.\n",
    "\n",
    "Since we are interested in snow depth, we will focus on the `SNODP` variable, which provides snow depth in meters.\n",
    "\n",
    "Let's look at global snow depths from March 1, 2022:"
   ]
  },
  {
   "cell_type": "code",
   "execution_count": null,
   "id": "9416a38c-9bad-40bd-b7d7-cb8588e46a8b",
   "metadata": {},
   "outputs": [],
   "source": [
    "# Sample global plot of snow depth at a single time\n",
    "ds['SNODP'][0,:,:].plot(vmin=0, vmax=1)"
   ]
  },
  {
   "cell_type": "markdown",
   "id": "e61ccb71-b2d4-4e43-ab78-19fa8cacab9f",
   "metadata": {},
   "source": [
    "We can also subset by latitude and longitude to look over a region of interest (Alaska, for this example)."
   ]
  },
  {
   "cell_type": "code",
   "execution_count": null,
   "id": "cddce14a-7bf4-455a-a2cd-3a7cf81b1f42",
   "metadata": {},
   "outputs": [],
   "source": [
    "# Making bounds for Alaska\n",
    "mask_lon = (ds.lon >= -168.75) & (ds.lon <= -136.01)\n",
    "mask_lat = (ds.lat >= 52.64) & (ds.lat <= 71.59)\n",
    "\n",
    "# Subset MERRA-2 data to Alaska lats/lons only\n",
    "ds_ak = ds.where(mask_lon & mask_lat, drop=True)"
   ]
  },
  {
   "cell_type": "code",
   "execution_count": null,
   "id": "577d6bec-ade5-41fd-b8f3-dc581817c605",
   "metadata": {},
   "outputs": [],
   "source": [
    "# Sample Alaska plot of snow depth at a single time\n",
    "ds_ak['SNODP'][0,:,:].plot(vmin=0, vmax=1.25)"
   ]
  },
  {
   "cell_type": "markdown",
   "id": "cf32143a-cdd0-421a-bef0-fe1119d84d7f",
   "metadata": {},
   "source": [
    "Finally, let's generate a time series of snow depth for the month of March 2022 near Fairbanks,"
   ]
  },
  {
   "cell_type": "code",
   "execution_count": null,
   "id": "05da4f9f-f813-4d2b-9885-b923ed7e484f",
   "metadata": {},
   "outputs": [],
   "source": [
    "# Resample snow depths to daily means\n",
    "ak_daily_mean = ds_ak.resample(time='D').mean()"
   ]
  },
  {
   "cell_type": "code",
   "execution_count": null,
   "id": "1e5c5d67-be2c-432e-b90f-d03d445e1b7b",
   "metadata": {},
   "outputs": [],
   "source": [
    "# Plot daily mean snow depth over a month near Fairbanks, AK\n",
    "ak_daily_mean['SNODP'][:,23,34].plot() "
   ]
  },
  {
   "cell_type": "code",
   "execution_count": null,
   "id": "b2c6816d-3ed5-4fb2-b0be-2d2c03ca6614",
   "metadata": {},
   "outputs": [],
   "source": []
  }
 ],
 "metadata": {
  "kernelspec": {
   "display_name": "Python 3 (ipykernel)",
   "language": "python",
   "name": "python3"
  },
  "language_info": {
   "codemirror_mode": {
    "name": "ipython",
    "version": 3
   },
   "file_extension": ".py",
   "mimetype": "text/x-python",
   "name": "python",
   "nbconvert_exporter": "python",
   "pygments_lexer": "ipython3",
   "version": "3.11.9"
  }
 },
 "nbformat": 4,
 "nbformat_minor": 5
}
