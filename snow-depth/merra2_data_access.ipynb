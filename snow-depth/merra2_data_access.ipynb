{
 "cells": [
  {
   "cell_type": "code",
   "execution_count": null,
   "id": "3e913113-f6c6-4770-8555-aeede27f599a",
   "metadata": {},
   "outputs": [],
   "source": [
    "import xarray as xr\n",
    "import earthaccess\n",
    "import boto3\n",
    "import cartopy.crs as ccrs\n",
    "import cartopy.feature as cfeature\n",
    "import matplotlib.pyplot as plt\n",
    "import warnings\n",
    "from IPython.display import display, Markdown"
   ]
  },
  {
   "cell_type": "code",
   "execution_count": null,
   "id": "990691a9-d206-4bc8-b3f7-3dfaf3cb5238",
   "metadata": {},
   "outputs": [],
   "source": [
    "# Authenticate using Earthdata Login prerequisite files\n",
    "auth = earthaccess.login()\n",
    "\n",
    "# Search for the granule by DOI\n",
    "results = earthaccess.search_data(\n",
    "    doi='10.5067/RKPHT8KC1Y1T',\n",
    "    temporal=(\"2022-03-01\", \"2022-03-31\"),\n",
    ")"
   ]
  },
  {
   "cell_type": "code",
   "execution_count": null,
   "id": "5819deb2-dbaf-429c-8629-6f7a3282e0db",
   "metadata": {},
   "outputs": [],
   "source": [
    "results"
   ]
  },
  {
   "cell_type": "code",
   "execution_count": null,
   "id": "50d81535-3cb0-477e-8831-d699371846a5",
   "metadata": {},
   "outputs": [],
   "source": [
    "fn = earthaccess.open(results)"
   ]
  },
  {
   "cell_type": "code",
   "execution_count": null,
   "id": "3cd7dbcf-7fc5-452e-b3bc-7ea5d596e607",
   "metadata": {},
   "outputs": [],
   "source": [
    "ds = xr.open_mfdataset(fn)"
   ]
  },
  {
   "cell_type": "code",
   "execution_count": null,
   "id": "d6643a36-89d0-4d5c-a25d-c18a825e18f2",
   "metadata": {},
   "outputs": [],
   "source": [
    "ds['SNODP']"
   ]
  },
  {
   "cell_type": "code",
   "execution_count": null,
   "id": "9416a38c-9bad-40bd-b7d7-cb8588e46a8b",
   "metadata": {},
   "outputs": [],
   "source": [
    "ds['SNODP'][0,:,:].plot(vmin=0, vmax=1)"
   ]
  },
  {
   "cell_type": "code",
   "execution_count": null,
   "id": "cddce14a-7bf4-455a-a2cd-3a7cf81b1f42",
   "metadata": {},
   "outputs": [],
   "source": [
    "mask_lon = (ds.lon >= -168.75) & (ds.lon <= -136.01)\n",
    "mask_lat = (ds.lat >= 52.64) & (ds.lat <= 71.59)\n",
    "\n",
    "ds_ak = ds.where(mask_lon & mask_lat, drop=True)"
   ]
  },
  {
   "cell_type": "code",
   "execution_count": null,
   "id": "577d6bec-ade5-41fd-b8f3-dc581817c605",
   "metadata": {},
   "outputs": [],
   "source": [
    "ds_ak['SNODP'][0,:,:].plot(vmin=0, vmax=1.25)"
   ]
  },
  {
   "cell_type": "code",
   "execution_count": null,
   "id": "05da4f9f-f813-4d2b-9885-b923ed7e484f",
   "metadata": {},
   "outputs": [],
   "source": [
    "ak_daily_mean = ds_ak.resample(time='D').mean()"
   ]
  },
  {
   "cell_type": "code",
   "execution_count": null,
   "id": "ed997f4a-1e6c-42f9-b257-3547c92e45f0",
   "metadata": {},
   "outputs": [],
   "source": [
    "ak_daily_mean"
   ]
  },
  {
   "cell_type": "code",
   "execution_count": null,
   "id": "1e5c5d67-be2c-432e-b90f-d03d445e1b7b",
   "metadata": {},
   "outputs": [],
   "source": [
    "ak_daily_mean['SNODP'][:,23,34].plot() "
   ]
  },
  {
   "cell_type": "code",
   "execution_count": null,
   "id": "b2c6816d-3ed5-4fb2-b0be-2d2c03ca6614",
   "metadata": {},
   "outputs": [],
   "source": []
  }
 ],
 "metadata": {
  "kernelspec": {
   "display_name": "Python 3 (ipykernel)",
   "language": "python",
   "name": "python3"
  },
  "language_info": {
   "codemirror_mode": {
    "name": "ipython",
    "version": 3
   },
   "file_extension": ".py",
   "mimetype": "text/x-python",
   "name": "python",
   "nbconvert_exporter": "python",
   "pygments_lexer": "ipython3",
   "version": "3.11.9"
  }
 },
 "nbformat": 4,
 "nbformat_minor": 5
}
