{
 "cells": [
  {
   "cell_type": "code",
   "execution_count": 1,
   "id": "a07e23b6",
   "metadata": {},
   "outputs": [],
   "source": [
    "import numpy as np\n",
    "import xarray as xr\n",
    "from datetime import datetime\n",
    "import json\n",
    "from pystac_client import Client"
   ]
  },
  {
   "cell_type": "code",
   "execution_count": 12,
   "id": "30337b68",
   "metadata": {},
   "outputs": [],
   "source": [
    "# which collections to search\n",
    "url='https://cmr.earthdata.nasa.gov/stac/LPCLOUD'\n",
    "collections = ['HLSL30.v2.0', 'HLSS30.v2.0']\n",
    "\n",
    "# define the dates we want to query\n",
    "start_date = datetime(year=2018,month=9,day=1)\n",
    "end_date = datetime(year=2019,month=9,day=30)\n",
    "\n",
    "# based on the lidar tiles\n",
    "domains_direc = '/Users/jpflug/Documents/Projects/snowCover_comparisons/Data/ASO/selected/'\n",
    "domain_id = 7\n",
    "trial_id = 33\n",
    "\n",
    "# # MODIS data direc\n",
    "# mod_direcc = '/Users/jpflug/Documents/Projects/snowCover_comparisons/Data/MODIS/'\n",
    "\n",
    "# HLS out data directory\n",
    "hls_out = '/Users/jpflug/Documents/Projects/snowCover_comparisons/Data/HLS/'"
   ]
  },
  {
   "cell_type": "code",
   "execution_count": 13,
   "id": "8886f9de",
   "metadata": {},
   "outputs": [
    {
     "name": "stdout",
     "output_type": "stream",
     "text": [
      "{\"type\": \"Point\", \"coordinates\": [-106.5475763902401, 37.31518996673092]}\n",
      "Found 94 granules at point {\"type\": \"Point\", \"coordinates\": [-106.5475763902401, 37.31518996673092]} from 2018-09-01 to 2019-09-30\n"
     ]
    },
    {
     "name": "stderr",
     "output_type": "stream",
     "text": [
      "/Users/jpflug/opt/anaconda3/envs/pangeo/lib/python3.8/site-packages/pystac_client/item_search.py:834: FutureWarning: get_items() is deprecated, use items() instead\n",
      "  warnings.warn(\n"
     ]
    },
    {
     "name": "stdout",
     "output_type": "stream",
     "text": [
      "{'13SCB'}\n"
     ]
    }
   ],
   "source": [
    "dt_min = start_date.strftime(\"%Y-%m-%d\")\n",
    "dt_max = end_date.strftime(\"%Y-%m-%d\")\n",
    "lim=1000\n",
    "\n",
    "\n",
    "# fname = 'domain'+str(domain_id).zfill(2)+'_trial'+str(trial_id).zfill(2)+'_2019_MOD10Av61.nc'\n",
    "fname = 'domain'+str(domain_id).zfill(2)+'_trial'+str(trial_id).zfill(2)+'.tif'\n",
    "ds = xr.open_dataset(domains_direc+fname)\n",
    "ds = ds.rio.reproject(4326)\n",
    "pt = {\"type\":\"Point\", \"coordinates\":[float(ds['x'].mean()),float(ds['y'].mean())]}\n",
    "pt = json.dumps(pt)\n",
    "print(pt)\n",
    "\n",
    "# open the catalog\n",
    "catalog = Client.open(f'{url}')\n",
    "\n",
    "search = catalog.search(\n",
    "    collections=collections,\n",
    "    intersects=pt,\n",
    "    datetime=dt_min + '/' + dt_max,\n",
    "    limit=lim\n",
    ")\n",
    "\n",
    "print('Found', search.matched(), 'granules at point', pt, 'from', dt_min, 'to', dt_max)\n",
    "\n",
    "# Initialize an empty list to store tile IDs\n",
    "tile_ids = []\n",
    "\n",
    "# Iterate through paginated results\n",
    "for counter,item in enumerate(search.get_items()):\n",
    "#     print(item)\n",
    "    try:\n",
    "        tile_ids.append(item.id.split('.')[2][1:])\n",
    "    except:\n",
    "        print('exception',item)\n",
    "    if counter > 20:\n",
    "        break\n",
    "\n",
    "print(set(tile_ids))"
   ]
  },
  {
   "cell_type": "code",
   "execution_count": null,
   "id": "499af51e",
   "metadata": {},
   "outputs": [],
   "source": []
  },
  {
   "cell_type": "code",
   "execution_count": null,
   "id": "ecb95845",
   "metadata": {},
   "outputs": [],
   "source": []
  },
  {
   "cell_type": "code",
   "execution_count": null,
   "id": "984819fa",
   "metadata": {},
   "outputs": [],
   "source": []
  },
  {
   "cell_type": "code",
   "execution_count": null,
   "id": "b74de4bb",
   "metadata": {},
   "outputs": [],
   "source": []
  },
  {
   "cell_type": "code",
   "execution_count": null,
   "id": "e1033851",
   "metadata": {},
   "outputs": [],
   "source": []
  },
  {
   "cell_type": "code",
   "execution_count": null,
   "id": "a87c4dbf",
   "metadata": {},
   "outputs": [],
   "source": []
  },
  {
   "cell_type": "code",
   "execution_count": null,
   "id": "c6189e38",
   "metadata": {},
   "outputs": [],
   "source": []
  },
  {
   "cell_type": "code",
   "execution_count": null,
   "id": "a8b2d6a1",
   "metadata": {},
   "outputs": [],
   "source": []
  },
  {
   "cell_type": "code",
   "execution_count": 3,
   "id": "c036beea",
   "metadata": {},
   "outputs": [],
   "source": [
    "# # CO_select_1 = [29,4,25,2,6,19,33,3,23,18,11,13]\n",
    "# # CO_select_2 = [92,51,39,94,65,1,36,95,18,52,1,77]\n",
    "# # reducing based on the bad domains in CFL_select1\n",
    "# CO_select_1 = [29,4,25,2,6,33,3,23]\n",
    "# CO_select_2 = [92,51,39,94,65,36,95,18]\n",
    "# CFL_select_1 = [29,4,25,2,6,33,3,23]\n",
    "# CFL_select_2 = [77,82,63,85,87,2,79,15]\n",
    "# CFH_select_1 = [29,4,25,2,6,33,3,23]\n",
    "# CFH_select_2 = [42,98,10,12,16,6,87,99]\n",
    "\n",
    "# # SO_select_1 = [16,10,14,5,32,35,7,27,9,12,28,15]\n",
    "# # SO_select_2 = [1,9,25,40,29,54,85,54,41,54,45,83]\n",
    "# # reducing based on bad domains in SFL_select1\n",
    "# SO_select_1 = [16,10,14,5,32,35,7,27,9,12,15]\n",
    "# SO_select_2 = [1,9,25,40,29,54,85,54,41,54,83]\n",
    "# SFL_select_1 = [16,10,14,5,32,35,7,27,9,12,15]\n",
    "# SFL_select_2 = [71,40,72,44,73,55,54,9,49,18,76]\n",
    "# SFH_select_1 = [16,10,14,5,32,35,7,27,9,12,15]\n",
    "# SFH_select_2 = [48,1,16,10,26,5,33,95,91,57,25]"
   ]
  },
  {
   "cell_type": "code",
   "execution_count": 4,
   "id": "9c10185b",
   "metadata": {},
   "outputs": [],
   "source": [
    "def search_stac_for_HLS(pt, dt_min, dt_max, cloudcover_max=80, lim=100, url='https://cmr.earthdata.nasa.gov/stac/LPCLOUD', collections=['HLSL30_2.0', 'HLSS30_2.0']):\n",
    "    # open the catalog\n",
    "    catalog = Client.open(f'{url}')\n",
    "    \n",
    "    # perform the search\n",
    "    search = catalog.search(\n",
    "        collections=collections,\n",
    "        intersects=pt,\n",
    "        datetime=dt_min + '/' + dt_max,\n",
    "        limit=lim\n",
    "    )\n",
    "\n",
    "    links = []\n",
    "\n",
    "    if search.matched() == 0:\n",
    "        print('No granules found at point', pt, 'from', dt_min, 'to', dt_max)\n",
    "    else:\n",
    "        print('Found', search.matched(), 'granules at point', pt, 'from', dt_min, 'to', dt_max)\n",
    "        item_collection = search.get_all_items()\n",
    "\n",
    "    return item_collection\n",
    "\n",
    "def indentify_tiles(d1,d2,tiles,domains,trials):\n",
    "    for s1,s2 in zip(d1,d2):\n",
    "        fname = 'domain'+str(s1).zfill(2)+'_trial'+str(s2).zfill(2)+'_2019_MOD10Av61.nc'\n",
    "        ds = xr.open_dataset(mod_direcc+fname)\n",
    "\n",
    "        pt = {\"type\":\"Point\", \"coordinates\":[float(ds['lon'].mean()),float(ds['lat'].mean())]}\n",
    "        pt = json.dumps(pt)\n",
    "        \n",
    "        items = search_stac_for_HLS(pt, start_date.strftime(\"%Y-%m-%d\"), end_date.strftime(\"%Y-%m-%d\"))\n",
    "        tiles.append(items[0].id.split('.')[2][1:])\n",
    "        domains.append(s1)\n",
    "        trials.append(s2)\n",
    "    return tiles,domains,trials\n",
    "\n",
    "# # temporary code attempt. previous code is included above\n",
    "# def search_stac_for_HLS(pt, dt_min, dt_max, cloudcover_max=80, lim=100, url='https://cmr.earthdata.nasa.gov/stac/LPCLOUD/collections/', collections=['HLSL30_2.0', 'HLSS30_2.0']):\n",
    "#     # open the catalog\n",
    "#     catalog = Client.open(f'{url}')\n",
    "    \n",
    "#     # perform the search\n",
    "#     search = catalog.search(\n",
    "#         collections=collections,\n",
    "#         intersects=pt,  # This can now be a polygon\n",
    "#         datetime=dt_min + '/' + dt_max,\n",
    "#         limit=lim\n",
    "#     )\n",
    "\n",
    "#     links = []\n",
    "#     item_collection = None\n",
    "\n",
    "#     if search.matched() == 0:\n",
    "#         print('No granules found for area', pt, 'from', dt_min, 'to', dt_max)\n",
    "#     else:\n",
    "#         print('Found', search.matched(), 'granules for area', pt, 'from', dt_min, 'to', dt_max)\n",
    "#         item_collection = search.get_all_items()\n",
    "\n",
    "#     return item_collection\n",
    "\n",
    "# def identify_tiles(d1, d2, tiles, domains, trials):\n",
    "#     for s1, s2 in zip(d1, d2):\n",
    "#         fname = 'domain'+str(s1).zfill(2)+'_trial'+str(s2).zfill(2)+'_2019_MOD10Av61.nc'\n",
    "#         ds = xr.open_dataset(mod_direcc+fname)\n",
    "        \n",
    "#         # Get the bounding box coordinates from the xarray dataset\n",
    "#         min_lon, max_lon = ds['lon'].min().item(), ds['lon'].max().item()\n",
    "#         min_lat, max_lat = ds['lat'].min().item(), ds['lat'].max().item()\n",
    "\n",
    "#         # Create a polygon representing the bounding box\n",
    "#         pt = {\n",
    "#             \"type\": \"Polygon\",\n",
    "#             \"coordinates\": [[\n",
    "#                 [min_lon, min_lat],  # Lower-left corner\n",
    "#                 [min_lon, max_lat],  # Upper-left corner\n",
    "#                 [max_lon, max_lat],  # Upper-right corner\n",
    "#                 [max_lon, min_lat],  # Lower-right corner\n",
    "#                 [min_lon, min_lat]   # Closing the polygon\n",
    "#             ]]\n",
    "#         }\n",
    "#         pt = json.dumps(pt)\n",
    "\n",
    "#         items = search_stac_for_HLS(pt, start_date.strftime(\"%Y-%m-%d\"), end_date.strftime(\"%Y-%m-%d\"))\n",
    "#         if items:\n",
    "#             tiles.append(items[0].id.split('.')[2][1:])\n",
    "#             domains.append(s1)\n",
    "#             trials.append(s2)\n",
    "#     return tiles, domains, trials\n",
    "\n",
    "def write_txtFile(fname,strings_list):\n",
    "    with open(fname,'w') as file:\n",
    "        for item in strings_list:\n",
    "            file.write(f\"{item}\\n\")\n",
    "    return None"
   ]
  },
  {
   "cell_type": "code",
   "execution_count": 20,
   "id": "b44c1149",
   "metadata": {
    "scrolled": true
   },
   "outputs": [
    {
     "name": "stdout",
     "output_type": "stream",
     "text": [
      "{\"type\": \"Point\", \"coordinates\": [-120.91156885940596, 40.987461118918134]}\n",
      "Found 90 granules at point {\"type\": \"Point\", \"coordinates\": [-120.91156885940596, 40.987461118918134]} from 2018-09-01 to 2019-09-30\n"
     ]
    }
   ],
   "source": [
    "dt_min = start_date.strftime(\"%Y-%m-%d\")\n",
    "dt_max = end_date.strftime(\"%Y-%m-%d\")\n",
    "lim=100\n",
    "\n",
    "\n",
    "# fname = 'domain'+str(domain_id).zfill(2)+'_trial'+str(trial_id).zfill(2)+'_2019_MOD10Av61.nc'\n",
    "fname = 'domain'+str(domain_id).zfill(2)+'_trial'+str(trial_id).zfill(2)+'.tif'\n",
    "ds = xr.open_dataset(domains_direc+fname)\n",
    "ds = ds.rio.reproject(4326)\n",
    "pt = {\"type\":\"Point\", \"coordinates\":[float(ds['x'].mean()),float(ds['y'].mean())]}\n",
    "pt = json.dumps(pt)\n",
    "print(pt)\n",
    "\n",
    "# open the catalog\n",
    "catalog = Client.open(f'{url}')\n",
    "\n",
    "search = catalog.search(\n",
    "    collections=collections,\n",
    "    intersects=pt,\n",
    "    datetime=dt_min + '/' + dt_max,\n",
    "    limit=lim\n",
    ")\n",
    "\n",
    "print('Found', search.matched(), 'granules at point', pt, 'from', dt_min, 'to', dt_max)\n",
    "\n",
    "# Initialize an empty list to store tile IDs\n",
    "tile_ids = []\n",
    "\n",
    "# Iterate through paginated results\n",
    "for counter,item in enumerate(search.get_items()):\n",
    "#     print(item)\n",
    "    try:\n",
    "        tile_ids.append(item.id.split('.')[2][1:])\n",
    "    except:\n",
    "        print('exception',item)\n",
    "    if counter > 20:\n",
    "        break\n",
    "\n",
    "print(set(tile_ids))"
   ]
  },
  {
   "cell_type": "code",
   "execution_count": 46,
   "id": "f89eac61",
   "metadata": {},
   "outputs": [
    {
     "name": "stdout",
     "output_type": "stream",
     "text": [
      "<Item id=HLS.S30.T10TFL.2018245T184921.v2.0>\n",
      "<Item id=HLS.L30.T10TFL.2018248T184427.v2.0>\n",
      "<Item id=HLS.S30.T10TFL.2018255T184951.v2.0>\n",
      "<Item id=HLS.S30.T10TFL.2018260T185019.v2.0>\n",
      "<Item id=HLS.L30.T10TFL.2018264T184432.v2.0>\n",
      "<Item id=HLS.S30.T10TFL.2018265T185101.v2.0>\n",
      "<Item id=HLS.S30.T10TFL.2018270T185129.v2.0>\n",
      "<Item id=HLS.S30.T10TFL.2018275T185211.v2.0>\n",
      "<Item id=HLS.L30.T10TFL.2018280T184440.v2.0>\n",
      "<Item id=HLS.S30.T10TFL.2018280T185249.v2.0>\n",
      "<Item id=HLS.S30.T10TFL.2018285T185321.v2.0>\n",
      "<Item id=HLS.S30.T10TFL.2018290T185359.v2.0>\n",
      "<Item id=HLS.S30.T10TFL.2018295T185421.v2.0>\n",
      "<Item id=HLS.L30.T10TFL.2018296T184446.v2.0>\n",
      "<Item id=HLS.S30.T10TFL.2018300T185459.v2.0>\n",
      "<Item id=HLS.S30.T10TFL.2018305T185521.v2.0>\n",
      "<Item id=HLS.S30.T10TFL.2018310T185559.v2.0>\n",
      "<Item id=HLS.L30.T10TFL.2018312T184448.v2.0>\n",
      "<Item id=HLS.S30.T10TFL.2018315T185621.v2.0>\n",
      "<Item id=HLS.S30.T10TFL.2018320T185639.v2.0>\n",
      "<Item id=HLS.S30.T10TFL.2018325T185701.v2.0>\n",
      "<Item id=HLS.L30.T10TFL.2018328T184448.v2.0>\n",
      "{'10TFL'}\n"
     ]
    }
   ],
   "source": [
    "# Initialize an empty list to store tile IDs\n",
    "tile_ids = []\n",
    "\n",
    "# Iterate through paginated results\n",
    "for counter,item in enumerate(search.get_items()):\n",
    "#     print(item)\n",
    "    try:\n",
    "        tile_ids.append(item.id.split('.')[2][1:])\n",
    "    except:\n",
    "        print('exception',item)\n",
    "    if counter > 20:\n",
    "        break\n",
    "\n",
    "print(set(tile_ids))"
   ]
  },
  {
   "cell_type": "code",
   "execution_count": 45,
   "id": "d1efa67d",
   "metadata": {},
   "outputs": [
    {
     "data": {
      "text/plain": [
       "89"
      ]
     },
     "execution_count": 45,
     "metadata": {},
     "output_type": "execute_result"
    }
   ],
   "source": [
    "counter"
   ]
  },
  {
   "cell_type": "code",
   "execution_count": 60,
   "id": "e53f6da3",
   "metadata": {
    "scrolled": true
   },
   "outputs": [
    {
     "name": "stdout",
     "output_type": "stream",
     "text": [
      "Found 9 granules at point {\"type\": \"Point\", \"coordinates\": [-123.63125, 47.89375]} from 2018-09-01 to 2018-09-30\n"
     ]
    },
    {
     "name": "stderr",
     "output_type": "stream",
     "text": [
      "/Users/jpflug/opt/anaconda3/envs/pangeo/lib/python3.8/site-packages/pystac_client/item_search.py:849: FutureWarning: get_all_items() is deprecated, use item_collection() instead.\n",
      "  warnings.warn(\n"
     ]
    },
    {
     "name": "stdout",
     "output_type": "stream",
     "text": [
      "Found 7 granules at point {\"type\": \"Point\", \"coordinates\": [-105.62291666666667, 40.016666666666666]} from 2018-09-01 to 2018-09-30\n"
     ]
    },
    {
     "name": "stderr",
     "output_type": "stream",
     "text": [
      "/Users/jpflug/opt/anaconda3/envs/pangeo/lib/python3.8/site-packages/pystac_client/item_search.py:849: FutureWarning: get_all_items() is deprecated, use item_collection() instead.\n",
      "  warnings.warn(\n"
     ]
    },
    {
     "name": "stdout",
     "output_type": "stream",
     "text": [
      "Found 7 granules at point {\"type\": \"Point\", \"coordinates\": [-105.60624999999999, 40.104166666666664]} from 2018-09-01 to 2018-09-30\n"
     ]
    },
    {
     "name": "stderr",
     "output_type": "stream",
     "text": [
      "/Users/jpflug/opt/anaconda3/envs/pangeo/lib/python3.8/site-packages/pystac_client/item_search.py:849: FutureWarning: get_all_items() is deprecated, use item_collection() instead.\n",
      "  warnings.warn(\n"
     ]
    },
    {
     "name": "stdout",
     "output_type": "stream",
     "text": [
      "Found 7 granules at point {\"type\": \"Point\", \"coordinates\": [-105.60624999999999, 40.481249999999996]} from 2018-09-01 to 2018-09-30\n"
     ]
    },
    {
     "name": "stderr",
     "output_type": "stream",
     "text": [
      "/Users/jpflug/opt/anaconda3/envs/pangeo/lib/python3.8/site-packages/pystac_client/item_search.py:849: FutureWarning: get_all_items() is deprecated, use item_collection() instead.\n",
      "  warnings.warn(\n"
     ]
    },
    {
     "name": "stdout",
     "output_type": "stream",
     "text": [
      "Found 14 granules at point {\"type\": \"Point\", \"coordinates\": [-105.8125, 39.72083333333333]} from 2018-09-01 to 2018-09-30\n"
     ]
    },
    {
     "name": "stderr",
     "output_type": "stream",
     "text": [
      "/Users/jpflug/opt/anaconda3/envs/pangeo/lib/python3.8/site-packages/pystac_client/item_search.py:849: FutureWarning: get_all_items() is deprecated, use item_collection() instead.\n",
      "  warnings.warn(\n"
     ]
    },
    {
     "name": "stdout",
     "output_type": "stream",
     "text": [
      "Found 7 granules at point {\"type\": \"Point\", \"coordinates\": [-105.7, 40.15833333333333]} from 2018-09-01 to 2018-09-30\n"
     ]
    },
    {
     "name": "stderr",
     "output_type": "stream",
     "text": [
      "/Users/jpflug/opt/anaconda3/envs/pangeo/lib/python3.8/site-packages/pystac_client/item_search.py:849: FutureWarning: get_all_items() is deprecated, use item_collection() instead.\n",
      "  warnings.warn(\n"
     ]
    },
    {
     "name": "stdout",
     "output_type": "stream",
     "text": [
      "Found 13 granules at point {\"type\": \"Point\", \"coordinates\": [-106.1125, 39.40625]} from 2018-09-01 to 2018-09-30\n"
     ]
    },
    {
     "name": "stderr",
     "output_type": "stream",
     "text": [
      "/Users/jpflug/opt/anaconda3/envs/pangeo/lib/python3.8/site-packages/pystac_client/item_search.py:849: FutureWarning: get_all_items() is deprecated, use item_collection() instead.\n",
      "  warnings.warn(\n"
     ]
    },
    {
     "name": "stdout",
     "output_type": "stream",
     "text": [
      "Found 6 granules at point {\"type\": \"Point\", \"coordinates\": [-106.16041666666666, 39.25208333333334]} from 2018-09-01 to 2018-09-30\n"
     ]
    },
    {
     "name": "stderr",
     "output_type": "stream",
     "text": [
      "/Users/jpflug/opt/anaconda3/envs/pangeo/lib/python3.8/site-packages/pystac_client/item_search.py:849: FutureWarning: get_all_items() is deprecated, use item_collection() instead.\n",
      "  warnings.warn(\n"
     ]
    },
    {
     "name": "stdout",
     "output_type": "stream",
     "text": [
      "Found 7 granules at point {\"type\": \"Point\", \"coordinates\": [-123.2125, 47.87708333333334]} from 2018-09-01 to 2018-09-30\n"
     ]
    },
    {
     "name": "stderr",
     "output_type": "stream",
     "text": [
      "/Users/jpflug/opt/anaconda3/envs/pangeo/lib/python3.8/site-packages/pystac_client/item_search.py:849: FutureWarning: get_all_items() is deprecated, use item_collection() instead.\n",
      "  warnings.warn(\n"
     ]
    },
    {
     "name": "stdout",
     "output_type": "stream",
     "text": [
      "Found 7 granules at point {\"type\": \"Point\", \"coordinates\": [-105.59791666666666, 39.97083333333333]} from 2018-09-01 to 2018-09-30\n"
     ]
    },
    {
     "name": "stderr",
     "output_type": "stream",
     "text": [
      "/Users/jpflug/opt/anaconda3/envs/pangeo/lib/python3.8/site-packages/pystac_client/item_search.py:849: FutureWarning: get_all_items() is deprecated, use item_collection() instead.\n",
      "  warnings.warn(\n"
     ]
    },
    {
     "name": "stdout",
     "output_type": "stream",
     "text": [
      "Found 7 granules at point {\"type\": \"Point\", \"coordinates\": [-105.6375, 40.21458333333333]} from 2018-09-01 to 2018-09-30\n"
     ]
    },
    {
     "name": "stderr",
     "output_type": "stream",
     "text": [
      "/Users/jpflug/opt/anaconda3/envs/pangeo/lib/python3.8/site-packages/pystac_client/item_search.py:849: FutureWarning: get_all_items() is deprecated, use item_collection() instead.\n",
      "  warnings.warn(\n"
     ]
    },
    {
     "name": "stdout",
     "output_type": "stream",
     "text": [
      "Found 7 granules at point {\"type\": \"Point\", \"coordinates\": [-105.61041666666667, 40.449999999999996]} from 2018-09-01 to 2018-09-30\n"
     ]
    },
    {
     "name": "stderr",
     "output_type": "stream",
     "text": [
      "/Users/jpflug/opt/anaconda3/envs/pangeo/lib/python3.8/site-packages/pystac_client/item_search.py:849: FutureWarning: get_all_items() is deprecated, use item_collection() instead.\n",
      "  warnings.warn(\n"
     ]
    },
    {
     "name": "stdout",
     "output_type": "stream",
     "text": [
      "Found 7 granules at point {\"type\": \"Point\", \"coordinates\": [-105.69166666666668, 39.78333333333333]} from 2018-09-01 to 2018-09-30\n"
     ]
    },
    {
     "name": "stderr",
     "output_type": "stream",
     "text": [
      "/Users/jpflug/opt/anaconda3/envs/pangeo/lib/python3.8/site-packages/pystac_client/item_search.py:849: FutureWarning: get_all_items() is deprecated, use item_collection() instead.\n",
      "  warnings.warn(\n"
     ]
    },
    {
     "name": "stdout",
     "output_type": "stream",
     "text": [
      "Found 7 granules at point {\"type\": \"Point\", \"coordinates\": [-105.76666666666668, 39.87291666666666]} from 2018-09-01 to 2018-09-30\n"
     ]
    },
    {
     "name": "stderr",
     "output_type": "stream",
     "text": [
      "/Users/jpflug/opt/anaconda3/envs/pangeo/lib/python3.8/site-packages/pystac_client/item_search.py:849: FutureWarning: get_all_items() is deprecated, use item_collection() instead.\n",
      "  warnings.warn(\n"
     ]
    },
    {
     "name": "stdout",
     "output_type": "stream",
     "text": [
      "Found 6 granules at point {\"type\": \"Point\", \"coordinates\": [-106.18333333333335, 39.516666666666666]} from 2018-09-01 to 2018-09-30\n"
     ]
    },
    {
     "name": "stderr",
     "output_type": "stream",
     "text": [
      "/Users/jpflug/opt/anaconda3/envs/pangeo/lib/python3.8/site-packages/pystac_client/item_search.py:849: FutureWarning: get_all_items() is deprecated, use item_collection() instead.\n",
      "  warnings.warn(\n"
     ]
    },
    {
     "name": "stdout",
     "output_type": "stream",
     "text": [
      "Found 13 granules at point {\"type\": \"Point\", \"coordinates\": [-106.0625, 39.33125]} from 2018-09-01 to 2018-09-30\n"
     ]
    },
    {
     "name": "stderr",
     "output_type": "stream",
     "text": [
      "/Users/jpflug/opt/anaconda3/envs/pangeo/lib/python3.8/site-packages/pystac_client/item_search.py:849: FutureWarning: get_all_items() is deprecated, use item_collection() instead.\n",
      "  warnings.warn(\n"
     ]
    },
    {
     "name": "stdout",
     "output_type": "stream",
     "text": [
      "Found 9 granules at point {\"type\": \"Point\", \"coordinates\": [-123.64166666666668, 47.912499999999994]} from 2018-09-01 to 2018-09-30\n"
     ]
    },
    {
     "name": "stderr",
     "output_type": "stream",
     "text": [
      "/Users/jpflug/opt/anaconda3/envs/pangeo/lib/python3.8/site-packages/pystac_client/item_search.py:849: FutureWarning: get_all_items() is deprecated, use item_collection() instead.\n",
      "  warnings.warn(\n"
     ]
    },
    {
     "name": "stdout",
     "output_type": "stream",
     "text": [
      "Found 7 granules at point {\"type\": \"Point\", \"coordinates\": [-105.66458333333334, 39.914583333333326]} from 2018-09-01 to 2018-09-30\n"
     ]
    },
    {
     "name": "stderr",
     "output_type": "stream",
     "text": [
      "/Users/jpflug/opt/anaconda3/envs/pangeo/lib/python3.8/site-packages/pystac_client/item_search.py:849: FutureWarning: get_all_items() is deprecated, use item_collection() instead.\n",
      "  warnings.warn(\n"
     ]
    },
    {
     "name": "stdout",
     "output_type": "stream",
     "text": [
      "Found 7 granules at point {\"type\": \"Point\", \"coordinates\": [-105.575, 40.106249999999996]} from 2018-09-01 to 2018-09-30\n"
     ]
    },
    {
     "name": "stderr",
     "output_type": "stream",
     "text": [
      "/Users/jpflug/opt/anaconda3/envs/pangeo/lib/python3.8/site-packages/pystac_client/item_search.py:849: FutureWarning: get_all_items() is deprecated, use item_collection() instead.\n",
      "  warnings.warn(\n"
     ]
    },
    {
     "name": "stdout",
     "output_type": "stream",
     "text": [
      "Found 7 granules at point {\"type\": \"Point\", \"coordinates\": [-105.725, 40.39791666666666]} from 2018-09-01 to 2018-09-30\n"
     ]
    },
    {
     "name": "stderr",
     "output_type": "stream",
     "text": [
      "/Users/jpflug/opt/anaconda3/envs/pangeo/lib/python3.8/site-packages/pystac_client/item_search.py:849: FutureWarning: get_all_items() is deprecated, use item_collection() instead.\n",
      "  warnings.warn(\n"
     ]
    },
    {
     "name": "stdout",
     "output_type": "stream",
     "text": [
      "Found 14 granules at point {\"type\": \"Point\", \"coordinates\": [-105.85624999999999, 39.68333333333333]} from 2018-09-01 to 2018-09-30\n"
     ]
    },
    {
     "name": "stderr",
     "output_type": "stream",
     "text": [
      "/Users/jpflug/opt/anaconda3/envs/pangeo/lib/python3.8/site-packages/pystac_client/item_search.py:849: FutureWarning: get_all_items() is deprecated, use item_collection() instead.\n",
      "  warnings.warn(\n"
     ]
    },
    {
     "name": "stdout",
     "output_type": "stream",
     "text": [
      "Found 7 granules at point {\"type\": \"Point\", \"coordinates\": [-105.8875, 39.83541666666666]} from 2018-09-01 to 2018-09-30\n"
     ]
    },
    {
     "name": "stderr",
     "output_type": "stream",
     "text": [
      "/Users/jpflug/opt/anaconda3/envs/pangeo/lib/python3.8/site-packages/pystac_client/item_search.py:849: FutureWarning: get_all_items() is deprecated, use item_collection() instead.\n",
      "  warnings.warn(\n"
     ]
    },
    {
     "name": "stdout",
     "output_type": "stream",
     "text": [
      "Found 7 granules at point {\"type\": \"Point\", \"coordinates\": [-105.91041666666666, 39.58333333333333]} from 2018-09-01 to 2018-09-30\n"
     ]
    },
    {
     "name": "stderr",
     "output_type": "stream",
     "text": [
      "/Users/jpflug/opt/anaconda3/envs/pangeo/lib/python3.8/site-packages/pystac_client/item_search.py:849: FutureWarning: get_all_items() is deprecated, use item_collection() instead.\n",
      "  warnings.warn(\n"
     ]
    },
    {
     "name": "stdout",
     "output_type": "stream",
     "text": [
      "Found 7 granules at point {\"type\": \"Point\", \"coordinates\": [-105.7875, 39.516666666666666]} from 2018-09-01 to 2018-09-30\n"
     ]
    },
    {
     "name": "stderr",
     "output_type": "stream",
     "text": [
      "/Users/jpflug/opt/anaconda3/envs/pangeo/lib/python3.8/site-packages/pystac_client/item_search.py:849: FutureWarning: get_all_items() is deprecated, use item_collection() instead.\n",
      "  warnings.warn(\n"
     ]
    },
    {
     "name": "stdout",
     "output_type": "stream",
     "text": [
      "Found 7 granules at point {\"type\": \"Point\", \"coordinates\": [-120.9125, 40.9875]} from 2018-09-01 to 2018-09-30\n"
     ]
    },
    {
     "name": "stderr",
     "output_type": "stream",
     "text": [
      "/Users/jpflug/opt/anaconda3/envs/pangeo/lib/python3.8/site-packages/pystac_client/item_search.py:849: FutureWarning: get_all_items() is deprecated, use item_collection() instead.\n",
      "  warnings.warn(\n"
     ]
    },
    {
     "name": "stdout",
     "output_type": "stream",
     "text": [
      "Found 32 granules at point {\"type\": \"Point\", \"coordinates\": [-120.30416666666665, 39.856249999999996]} from 2018-09-01 to 2018-09-30\n"
     ]
    },
    {
     "name": "stderr",
     "output_type": "stream",
     "text": [
      "/Users/jpflug/opt/anaconda3/envs/pangeo/lib/python3.8/site-packages/pystac_client/item_search.py:849: FutureWarning: get_all_items() is deprecated, use item_collection() instead.\n",
      "  warnings.warn(\n"
     ]
    },
    {
     "name": "stdout",
     "output_type": "stream",
     "text": [
      "Found 29 granules at point {\"type\": \"Point\", \"coordinates\": [-121.53125, 41.4875]} from 2018-09-01 to 2018-09-30\n"
     ]
    },
    {
     "name": "stderr",
     "output_type": "stream",
     "text": [
      "/Users/jpflug/opt/anaconda3/envs/pangeo/lib/python3.8/site-packages/pystac_client/item_search.py:849: FutureWarning: get_all_items() is deprecated, use item_collection() instead.\n",
      "  warnings.warn(\n"
     ]
    },
    {
     "name": "stdout",
     "output_type": "stream",
     "text": [
      "Found 53 granules at point {\"type\": \"Point\", \"coordinates\": [-119.83125000000001, 38.78125]} from 2018-09-01 to 2018-09-30\n"
     ]
    },
    {
     "name": "stderr",
     "output_type": "stream",
     "text": [
      "/Users/jpflug/opt/anaconda3/envs/pangeo/lib/python3.8/site-packages/pystac_client/item_search.py:849: FutureWarning: get_all_items() is deprecated, use item_collection() instead.\n",
      "  warnings.warn(\n"
     ]
    },
    {
     "name": "stdout",
     "output_type": "stream",
     "text": [
      "Found 20 granules at point {\"type\": \"Point\", \"coordinates\": [-120.2625, 41.05]} from 2018-09-01 to 2018-09-30\n"
     ]
    },
    {
     "name": "stderr",
     "output_type": "stream",
     "text": [
      "/Users/jpflug/opt/anaconda3/envs/pangeo/lib/python3.8/site-packages/pystac_client/item_search.py:849: FutureWarning: get_all_items() is deprecated, use item_collection() instead.\n",
      "  warnings.warn(\n"
     ]
    },
    {
     "name": "stdout",
     "output_type": "stream",
     "text": [
      "Found 18 granules at point {\"type\": \"Point\", \"coordinates\": [-120.6375, 39.59166666666666]} from 2018-09-01 to 2018-09-30\n"
     ]
    },
    {
     "name": "stderr",
     "output_type": "stream",
     "text": [
      "/Users/jpflug/opt/anaconda3/envs/pangeo/lib/python3.8/site-packages/pystac_client/item_search.py:849: FutureWarning: get_all_items() is deprecated, use item_collection() instead.\n",
      "  warnings.warn(\n"
     ]
    },
    {
     "name": "stdout",
     "output_type": "stream",
     "text": [
      "Found 7 granules at point {\"type\": \"Point\", \"coordinates\": [-106.33125000000001, 37.06875]} from 2018-09-01 to 2018-09-30\n"
     ]
    },
    {
     "name": "stderr",
     "output_type": "stream",
     "text": [
      "/Users/jpflug/opt/anaconda3/envs/pangeo/lib/python3.8/site-packages/pystac_client/item_search.py:849: FutureWarning: get_all_items() is deprecated, use item_collection() instead.\n",
      "  warnings.warn(\n"
     ]
    },
    {
     "name": "stdout",
     "output_type": "stream",
     "text": [
      "Found 26 granules at point {\"type\": \"Point\", \"coordinates\": [-120.025, 39.508333333333326]} from 2018-09-01 to 2018-09-30\n"
     ]
    },
    {
     "name": "stderr",
     "output_type": "stream",
     "text": [
      "/Users/jpflug/opt/anaconda3/envs/pangeo/lib/python3.8/site-packages/pystac_client/item_search.py:849: FutureWarning: get_all_items() is deprecated, use item_collection() instead.\n",
      "  warnings.warn(\n"
     ]
    },
    {
     "name": "stdout",
     "output_type": "stream",
     "text": [
      "Found 17 granules at point {\"type\": \"Point\", \"coordinates\": [-106.8875, 38.74583333333333]} from 2018-09-01 to 2018-09-30\n"
     ]
    },
    {
     "name": "stderr",
     "output_type": "stream",
     "text": [
      "/Users/jpflug/opt/anaconda3/envs/pangeo/lib/python3.8/site-packages/pystac_client/item_search.py:849: FutureWarning: get_all_items() is deprecated, use item_collection() instead.\n",
      "  warnings.warn(\n"
     ]
    },
    {
     "name": "stdout",
     "output_type": "stream",
     "text": [
      "Found 14 granules at point {\"type\": \"Point\", \"coordinates\": [-118.38958333333332, 36.17916666666667]} from 2018-09-01 to 2018-09-30\n"
     ]
    },
    {
     "name": "stderr",
     "output_type": "stream",
     "text": [
      "/Users/jpflug/opt/anaconda3/envs/pangeo/lib/python3.8/site-packages/pystac_client/item_search.py:849: FutureWarning: get_all_items() is deprecated, use item_collection() instead.\n",
      "  warnings.warn(\n"
     ]
    },
    {
     "name": "stdout",
     "output_type": "stream",
     "text": [
      "Found 20 granules at point {\"type\": \"Point\", \"coordinates\": [-119.48958333333333, 37.8]} from 2018-09-01 to 2018-09-30\n"
     ]
    },
    {
     "name": "stderr",
     "output_type": "stream",
     "text": [
      "/Users/jpflug/opt/anaconda3/envs/pangeo/lib/python3.8/site-packages/pystac_client/item_search.py:849: FutureWarning: get_all_items() is deprecated, use item_collection() instead.\n",
      "  warnings.warn(\n"
     ]
    },
    {
     "name": "stdout",
     "output_type": "stream",
     "text": [
      "Found 7 granules at point {\"type\": \"Point\", \"coordinates\": [-121.05833333333335, 41.43541666666666]} from 2018-09-01 to 2018-09-30\n"
     ]
    },
    {
     "name": "stderr",
     "output_type": "stream",
     "text": [
      "/Users/jpflug/opt/anaconda3/envs/pangeo/lib/python3.8/site-packages/pystac_client/item_search.py:849: FutureWarning: get_all_items() is deprecated, use item_collection() instead.\n",
      "  warnings.warn(\n"
     ]
    },
    {
     "name": "stdout",
     "output_type": "stream",
     "text": [
      "Found 20 granules at point {\"type\": \"Point\", \"coordinates\": [-120.5625, 40.199999999999996]} from 2018-09-01 to 2018-09-30\n"
     ]
    },
    {
     "name": "stderr",
     "output_type": "stream",
     "text": [
      "/Users/jpflug/opt/anaconda3/envs/pangeo/lib/python3.8/site-packages/pystac_client/item_search.py:849: FutureWarning: get_all_items() is deprecated, use item_collection() instead.\n",
      "  warnings.warn(\n"
     ]
    },
    {
     "name": "stdout",
     "output_type": "stream",
     "text": [
      "Found 14 granules at point {\"type\": \"Point\", \"coordinates\": [-121.55416666666665, 41.44166666666666]} from 2018-09-01 to 2018-09-30\n"
     ]
    },
    {
     "name": "stderr",
     "output_type": "stream",
     "text": [
      "/Users/jpflug/opt/anaconda3/envs/pangeo/lib/python3.8/site-packages/pystac_client/item_search.py:849: FutureWarning: get_all_items() is deprecated, use item_collection() instead.\n",
      "  warnings.warn(\n"
     ]
    },
    {
     "name": "stdout",
     "output_type": "stream",
     "text": [
      "Found 29 granules at point {\"type\": \"Point\", \"coordinates\": [-119.62083333333335, 38.72083333333333]} from 2018-09-01 to 2018-09-30\n"
     ]
    },
    {
     "name": "stderr",
     "output_type": "stream",
     "text": [
      "/Users/jpflug/opt/anaconda3/envs/pangeo/lib/python3.8/site-packages/pystac_client/item_search.py:849: FutureWarning: get_all_items() is deprecated, use item_collection() instead.\n",
      "  warnings.warn(\n"
     ]
    },
    {
     "name": "stdout",
     "output_type": "stream",
     "text": [
      "Found 7 granules at point {\"type\": \"Point\", \"coordinates\": [-120.75416666666668, 41.262499999999996]} from 2018-09-01 to 2018-09-30\n"
     ]
    },
    {
     "name": "stderr",
     "output_type": "stream",
     "text": [
      "/Users/jpflug/opt/anaconda3/envs/pangeo/lib/python3.8/site-packages/pystac_client/item_search.py:849: FutureWarning: get_all_items() is deprecated, use item_collection() instead.\n",
      "  warnings.warn(\n"
     ]
    },
    {
     "name": "stdout",
     "output_type": "stream",
     "text": [
      "Found 30 granules at point {\"type\": \"Point\", \"coordinates\": [-120.48333333333335, 39.55]} from 2018-09-01 to 2018-09-30\n"
     ]
    },
    {
     "name": "stderr",
     "output_type": "stream",
     "text": [
      "/Users/jpflug/opt/anaconda3/envs/pangeo/lib/python3.8/site-packages/pystac_client/item_search.py:849: FutureWarning: get_all_items() is deprecated, use item_collection() instead.\n",
      "  warnings.warn(\n"
     ]
    },
    {
     "name": "stdout",
     "output_type": "stream",
     "text": [
      "Found 7 granules at point {\"type\": \"Point\", \"coordinates\": [-106.31458333333333, 37.1125]} from 2018-09-01 to 2018-09-30\n"
     ]
    },
    {
     "name": "stderr",
     "output_type": "stream",
     "text": [
      "/Users/jpflug/opt/anaconda3/envs/pangeo/lib/python3.8/site-packages/pystac_client/item_search.py:849: FutureWarning: get_all_items() is deprecated, use item_collection() instead.\n",
      "  warnings.warn(\n"
     ]
    },
    {
     "name": "stdout",
     "output_type": "stream",
     "text": [
      "Found 26 granules at point {\"type\": \"Point\", \"coordinates\": [-119.88958333333332, 39.420833333333334]} from 2018-09-01 to 2018-09-30\n"
     ]
    },
    {
     "name": "stderr",
     "output_type": "stream",
     "text": [
      "/Users/jpflug/opt/anaconda3/envs/pangeo/lib/python3.8/site-packages/pystac_client/item_search.py:849: FutureWarning: get_all_items() is deprecated, use item_collection() instead.\n",
      "  warnings.warn(\n"
     ]
    },
    {
     "name": "stdout",
     "output_type": "stream",
     "text": [
      "Found 8 granules at point {\"type\": \"Point\", \"coordinates\": [-107.01875000000001, 38.90833333333333]} from 2018-09-01 to 2018-09-30\n"
     ]
    },
    {
     "name": "stderr",
     "output_type": "stream",
     "text": [
      "/Users/jpflug/opt/anaconda3/envs/pangeo/lib/python3.8/site-packages/pystac_client/item_search.py:849: FutureWarning: get_all_items() is deprecated, use item_collection() instead.\n",
      "  warnings.warn(\n"
     ]
    },
    {
     "name": "stdout",
     "output_type": "stream",
     "text": [
      "Found 12 granules at point {\"type\": \"Point\", \"coordinates\": [-118.19583333333333, 36.24999999999999]} from 2018-09-01 to 2018-09-30\n"
     ]
    },
    {
     "name": "stderr",
     "output_type": "stream",
     "text": [
      "/Users/jpflug/opt/anaconda3/envs/pangeo/lib/python3.8/site-packages/pystac_client/item_search.py:849: FutureWarning: get_all_items() is deprecated, use item_collection() instead.\n",
      "  warnings.warn(\n"
     ]
    },
    {
     "name": "stdout",
     "output_type": "stream",
     "text": [
      "Found 20 granules at point {\"type\": \"Point\", \"coordinates\": [-119.73124999999999, 37.77083333333333]} from 2018-09-01 to 2018-09-30\n"
     ]
    },
    {
     "name": "stderr",
     "output_type": "stream",
     "text": [
      "/Users/jpflug/opt/anaconda3/envs/pangeo/lib/python3.8/site-packages/pystac_client/item_search.py:849: FutureWarning: get_all_items() is deprecated, use item_collection() instead.\n",
      "  warnings.warn(\n"
     ]
    },
    {
     "name": "stdout",
     "output_type": "stream",
     "text": [
      "Found 7 granules at point {\"type\": \"Point\", \"coordinates\": [-121.26875000000001, 41.197916666666664]} from 2018-09-01 to 2018-09-30\n"
     ]
    },
    {
     "name": "stderr",
     "output_type": "stream",
     "text": [
      "/Users/jpflug/opt/anaconda3/envs/pangeo/lib/python3.8/site-packages/pystac_client/item_search.py:849: FutureWarning: get_all_items() is deprecated, use item_collection() instead.\n",
      "  warnings.warn(\n"
     ]
    },
    {
     "name": "stdout",
     "output_type": "stream",
     "text": [
      "Found 38 granules at point {\"type\": \"Point\", \"coordinates\": [-120.56666666666668, 39.71666666666666]} from 2018-09-01 to 2018-09-30\n"
     ]
    },
    {
     "name": "stderr",
     "output_type": "stream",
     "text": [
      "/Users/jpflug/opt/anaconda3/envs/pangeo/lib/python3.8/site-packages/pystac_client/item_search.py:849: FutureWarning: get_all_items() is deprecated, use item_collection() instead.\n",
      "  warnings.warn(\n"
     ]
    },
    {
     "name": "stdout",
     "output_type": "stream",
     "text": [
      "Found 15 granules at point {\"type\": \"Point\", \"coordinates\": [-121.82083333333333, 40.912499999999994]} from 2018-09-01 to 2018-09-30\n"
     ]
    },
    {
     "name": "stderr",
     "output_type": "stream",
     "text": [
      "/Users/jpflug/opt/anaconda3/envs/pangeo/lib/python3.8/site-packages/pystac_client/item_search.py:849: FutureWarning: get_all_items() is deprecated, use item_collection() instead.\n",
      "  warnings.warn(\n"
     ]
    },
    {
     "name": "stdout",
     "output_type": "stream",
     "text": [
      "Found 26 granules at point {\"type\": \"Point\", \"coordinates\": [-119.82083333333333, 38.84583333333333]} from 2018-09-01 to 2018-09-30\n"
     ]
    },
    {
     "name": "stderr",
     "output_type": "stream",
     "text": [
      "/Users/jpflug/opt/anaconda3/envs/pangeo/lib/python3.8/site-packages/pystac_client/item_search.py:849: FutureWarning: get_all_items() is deprecated, use item_collection() instead.\n",
      "  warnings.warn(\n"
     ]
    },
    {
     "name": "stdout",
     "output_type": "stream",
     "text": [
      "Found 19 granules at point {\"type\": \"Point\", \"coordinates\": [-120.32916666666668, 41.74791666666666]} from 2018-09-01 to 2018-09-30\n"
     ]
    },
    {
     "name": "stderr",
     "output_type": "stream",
     "text": [
      "/Users/jpflug/opt/anaconda3/envs/pangeo/lib/python3.8/site-packages/pystac_client/item_search.py:849: FutureWarning: get_all_items() is deprecated, use item_collection() instead.\n",
      "  warnings.warn(\n"
     ]
    },
    {
     "name": "stdout",
     "output_type": "stream",
     "text": [
      "Found 18 granules at point {\"type\": \"Point\", \"coordinates\": [-120.6625, 39.59583333333333]} from 2018-09-01 to 2018-09-30\n"
     ]
    },
    {
     "name": "stderr",
     "output_type": "stream",
     "text": [
      "/Users/jpflug/opt/anaconda3/envs/pangeo/lib/python3.8/site-packages/pystac_client/item_search.py:849: FutureWarning: get_all_items() is deprecated, use item_collection() instead.\n",
      "  warnings.warn(\n"
     ]
    },
    {
     "name": "stdout",
     "output_type": "stream",
     "text": [
      "Found 7 granules at point {\"type\": \"Point\", \"coordinates\": [-106.54791666666667, 37.314583333333324]} from 2018-09-01 to 2018-09-30\n"
     ]
    },
    {
     "name": "stderr",
     "output_type": "stream",
     "text": [
      "/Users/jpflug/opt/anaconda3/envs/pangeo/lib/python3.8/site-packages/pystac_client/item_search.py:849: FutureWarning: get_all_items() is deprecated, use item_collection() instead.\n",
      "  warnings.warn(\n"
     ]
    },
    {
     "name": "stdout",
     "output_type": "stream",
     "text": [
      "Found 26 granules at point {\"type\": \"Point\", \"coordinates\": [-119.97291666666666, 39.46875]} from 2018-09-01 to 2018-09-30\n"
     ]
    },
    {
     "name": "stderr",
     "output_type": "stream",
     "text": [
      "/Users/jpflug/opt/anaconda3/envs/pangeo/lib/python3.8/site-packages/pystac_client/item_search.py:849: FutureWarning: get_all_items() is deprecated, use item_collection() instead.\n",
      "  warnings.warn(\n"
     ]
    },
    {
     "name": "stdout",
     "output_type": "stream",
     "text": [
      "Found 8 granules at point {\"type\": \"Point\", \"coordinates\": [-106.95833333333334, 38.84166666666666]} from 2018-09-01 to 2018-09-30\n"
     ]
    },
    {
     "name": "stderr",
     "output_type": "stream",
     "text": [
      "/Users/jpflug/opt/anaconda3/envs/pangeo/lib/python3.8/site-packages/pystac_client/item_search.py:849: FutureWarning: get_all_items() is deprecated, use item_collection() instead.\n",
      "  warnings.warn(\n"
     ]
    },
    {
     "name": "stdout",
     "output_type": "stream",
     "text": [
      "Found 14 granules at point {\"type\": \"Point\", \"coordinates\": [-118.45625000000001, 36.29374999999999]} from 2018-09-01 to 2018-09-30\n"
     ]
    },
    {
     "name": "stderr",
     "output_type": "stream",
     "text": [
      "/Users/jpflug/opt/anaconda3/envs/pangeo/lib/python3.8/site-packages/pystac_client/item_search.py:849: FutureWarning: get_all_items() is deprecated, use item_collection() instead.\n",
      "  warnings.warn(\n"
     ]
    },
    {
     "name": "stdout",
     "output_type": "stream",
     "text": [
      "Found 10 granules at point {\"type\": \"Point\", \"coordinates\": [-119.45, 37.65]} from 2018-09-01 to 2018-09-30\n"
     ]
    },
    {
     "name": "stderr",
     "output_type": "stream",
     "text": [
      "/Users/jpflug/opt/anaconda3/envs/pangeo/lib/python3.8/site-packages/pystac_client/item_search.py:849: FutureWarning: get_all_items() is deprecated, use item_collection() instead.\n",
      "  warnings.warn(\n"
     ]
    }
   ],
   "source": [
    "tiles_running = []\n",
    "domains_running = []\n",
    "trials_running =[]\n",
    "\n",
    "tiles_running,domains_running,trials_running = indentify_tiles(CO_select_1,CO_select_2,tiles_running,domains_running,trials_running)\n",
    "tiles_running,domains_running,trials_running = indentify_tiles(CFL_select_1,CFL_select_2,tiles_running,domains_running,trials_running)\n",
    "tiles_running,domains_running,trials_running = indentify_tiles(CFH_select_1,CFH_select_2,tiles_running,domains_running,trials_running)\n",
    "tiles_running,domains_running,trials_running = indentify_tiles(SO_select_1,SO_select_2,tiles_running,domains_running,trials_running)\n",
    "tiles_running,domains_running,trials_running = indentify_tiles(SFL_select_1,SFL_select_2,tiles_running,domains_running,trials_running)\n",
    "tiles_running,domains_running,trials_running = indentify_tiles(SFH_select_1,SFH_select_2,tiles_running,domains_running,trials_running)"
   ]
  },
  {
   "cell_type": "code",
   "execution_count": 69,
   "id": "e426ba56",
   "metadata": {},
   "outputs": [],
   "source": [
    "write_txtFile(hls_out+'all_tiles.txt',tiles_running)\n",
    "write_txtFile(hls_out+'all_domains.txt',domains_running)\n",
    "write_txtFile(hls_out+'all_trials.txt',trials_running)\n",
    "unique_tiles = list(set(tiles_running))\n",
    "write_txtFile(hls_out+'unique_tiles.txt',unique_tiles)"
   ]
  },
  {
   "cell_type": "code",
   "execution_count": 68,
   "id": "c6a07f31",
   "metadata": {},
   "outputs": [
    {
     "data": {
      "text/plain": [
       "['10SGH',\n",
       " '11SKB',\n",
       " '10TGK',\n",
       " '10SGG',\n",
       " '11SLA',\n",
       " '10TFM',\n",
       " '10SGJ',\n",
       " '10TFL',\n",
       " '13SCD',\n",
       " '10UDU',\n",
       " '13TDE',\n",
       " '13SCC',\n",
       " '13SCB',\n",
       " '10TGM',\n",
       " '13SDD',\n",
       " '11SKD',\n",
       " '10TEL',\n",
       " '10TGL']"
      ]
     },
     "execution_count": 68,
     "metadata": {},
     "output_type": "execute_result"
    }
   ],
   "source": [
    "unique_tiles = list(set(tiles_running))\n",
    "unique_tiles"
   ]
  },
  {
   "cell_type": "code",
   "execution_count": null,
   "id": "3b4c146f",
   "metadata": {},
   "outputs": [],
   "source": []
  }
 ],
 "metadata": {
  "kernelspec": {
   "display_name": "pangeo",
   "language": "python",
   "name": "pangeo"
  },
  "language_info": {
   "codemirror_mode": {
    "name": "ipython",
    "version": 3
   },
   "file_extension": ".py",
   "mimetype": "text/x-python",
   "name": "python",
   "nbconvert_exporter": "python",
   "pygments_lexer": "ipython3",
   "version": "3.8.13"
  }
 },
 "nbformat": 4,
 "nbformat_minor": 5
}
