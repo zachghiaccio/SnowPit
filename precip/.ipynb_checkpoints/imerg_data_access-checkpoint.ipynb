{
 "cells": [
  {
   "cell_type": "markdown",
   "id": "f67629a2-8458-4e6c-a5b2-4fca0c49753e",
   "metadata": {},
   "source": [
    "# IMERG Data Access\n",
    "\n",
    "The notebook uses `earthaccess` to download and examine precipitation from Integrated Multi-Satellite Retrievals for GPM (IMERG). Although not strictly snow-based, this information is useful to infer mid-latitude snowfall.\n",
    "\n",
    "This script was adapted from the GES DISC Github, which can be found here: https://github.com/nasa/gesdisc-tutorials/blob/main/notebooks/How_to_Read_IMERG_Data_Using_Python.ipynb"
   ]
  },
  {
   "cell_type": "code",
   "execution_count": null,
   "id": "61dd0300-066e-4900-8e20-b20bacbbf7c0",
   "metadata": {},
   "outputs": [],
   "source": [
    "import earthaccess\n",
    "import xarray as xr\n",
    "import numpy as np\n",
    "import matplotlib.pyplot as plt\n",
    "import cartopy.crs as ccrs\n",
    "from cartopy.mpl.gridliner import LONGITUDE_FORMATTER, LATITUDE_FORMATTER\n",
    "import matplotlib.ticker as mticker\n",
    "from matplotlib.colors import BoundaryNorm"
   ]
  },
  {
   "cell_type": "markdown",
   "id": "097435b0-cf7a-41c0-8449-830876c56713",
   "metadata": {},
   "source": [
    "As with other workbooks, we are using `earthaccess` to get the IMERG data globally. We will be grabbing a single days' worth of data for this example."
   ]
  },
  {
   "cell_type": "code",
   "execution_count": null,
   "id": "513b4779-6230-4f3a-a175-8bb6e64058f6",
   "metadata": {},
   "outputs": [],
   "source": [
    "# Authenticate with Earthdata Login servers\n",
    "auth = earthaccess.login()\n",
    "\n",
    "# Search for granules\n",
    "results = earthaccess.search_data(\n",
    "    short_name=\"GPM_3IMERGM\",\n",
    "    version=\"07\",\n",
    "    temporal=('2022-03-01', '2022-03-01'),\n",
    "    bounding_box=(-180, 0, 180, 90)\n",
    ")"
   ]
  },
  {
   "cell_type": "code",
   "execution_count": null,
   "id": "1cf40adb-fea5-4642-9ee3-b5c13985de84",
   "metadata": {},
   "outputs": [],
   "source": [
    "# Download the granule to the current working directory\n",
    "downloaded_files = earthaccess.download(\n",
    "    results,\n",
    "    local_path='/home/jovyan/tmp/', # Change this string to download to a different path\n",
    ")"
   ]
  },
  {
   "cell_type": "code",
   "execution_count": null,
   "id": "473eadb0-f0f6-4123-a61e-e864288ee3d5",
   "metadata": {},
   "outputs": [],
   "source": [
    "ds = xr.open_mfdataset(downloaded_files, group=\"Grid\")\n",
    "ds"
   ]
  },
  {
   "cell_type": "markdown",
   "id": "9db4f6ca-fda3-4df9-939a-cd6a7453dd3b",
   "metadata": {},
   "source": [
    "As we can see, the IMERG data has several variables for potential analysis, including the precipitation rate (`precipitation`) and the probability of liquid precipitation (`probabilityLiquidPrecipitation`). We will make plots of both of these variables for this example.\n",
    "\n",
    "To load the data into memory, we are going to place the values into numpy arrays. This is roughly the same as using the `compute()` function on a lazy-loaded DataArray, though it might not be as effective if you wish to use multiple days or time steps."
   ]
  },
  {
   "cell_type": "code",
   "execution_count": null,
   "id": "4e536dba-2504-4b40-8b9b-35c42d734d69",
   "metadata": {},
   "outputs": [],
   "source": [
    "# Get the precipitation, latitude, and longitude variables\n",
    "precip = ds['precipitation'][0,:,:].values\n",
    "precip = np.transpose(precip)\n",
    "probPrecip = ds['probabilityLiquidPrecipitation'][0,:,:].values\n",
    "probPrecip = np.transpose(probPrecip)\n",
    "theLats = ds['lat'].values\n",
    "theLons = ds['lon'].values\n",
    "x, y = np.float32(np.meshgrid(theLons, theLats))"
   ]
  },
  {
   "cell_type": "markdown",
   "id": "618a18c5-09bd-43b4-9c43-9e069ecf76f4",
   "metadata": {},
   "source": [
    "Finally, let's make contour maps of precipitation and liquid precipitation probability."
   ]
  },
  {
   "cell_type": "code",
   "execution_count": null,
   "id": "1f526d68-de09-4e5a-b23e-f90f6ff33a14",
   "metadata": {},
   "outputs": [],
   "source": [
    "# Set the figure size, projection, and extent\n",
    "fig = plt.figure(figsize=(21, 7))\n",
    "ax = plt.axes(projection=ccrs.PlateCarree())\n",
    "ax.set_extent([-180, 180, -60, 60])  \n",
    "\n",
    "# Add coastlines and formatted gridlines\n",
    "ax.coastlines(resolution=\"110m\", linewidth=1)\n",
    "gl = ax.gridlines(crs=ccrs.PlateCarree(), draw_labels=True,\n",
    "                  linewidth=1, color='black', linestyle='--')\n",
    "gl.xlabels_top = False\n",
    "gl.ylabels_right = False\n",
    "gl.xlines = True\n",
    "gl.xlocator = mticker.FixedLocator([-180, -90, 0, 90, 180])\n",
    "gl.ylocator = mticker.FixedLocator([-60, -50, -25, 0, 25, 50, 60])\n",
    "gl.xformatter = LONGITUDE_FORMATTER\n",
    "gl.yformatter = LATITUDE_FORMATTER\n",
    "gl.xlabel_style = {'size': 16, 'color': 'black'}\n",
    "gl.ylabel_style = {'size': 16, 'color': 'black'}\n",
    "\n",
    "# Set contour levels\n",
    "clevs = np.arange(0, 1, 0.05)\n",
    "\n",
    "# Normalize the data to match clevs\n",
    "norm = BoundaryNorm(clevs, ncolors=plt.cm.rainbow.N, clip=True)\n",
    "\n",
    "# Plot the data with pcolormesh\n",
    "mesh = plt.pcolormesh(x, y, precip, cmap=\"Greens\", norm=norm, shading=\"auto\")\n",
    "\n",
    "# Add a colorbar\n",
    "cb = plt.colorbar(mesh, ax=ax, orientation=\"vertical\", pad=0.05, aspect=16, shrink=0.8)\n",
    "cb.set_label('mm / hr', size=20)\n",
    "cb.ax.tick_params(labelsize=16)\n",
    "\n",
    "# Add a title\n",
    "#plt.title('GPM IMERG Monthly Mean Rain Rate for January 2014', size=24)\n",
    "\n",
    "# Show the plot\n",
    "plt.show()"
   ]
  },
  {
   "cell_type": "code",
   "execution_count": null,
   "id": "d4bb95f2-578a-4238-9683-ec8f84929a84",
   "metadata": {},
   "outputs": [],
   "source": [
    "# Set the figure size, projection, and extent\n",
    "fig = plt.figure(figsize=(21, 7))\n",
    "ax = plt.axes(projection=ccrs.PlateCarree())\n",
    "ax.set_extent([-180, 180, -60, 60])  \n",
    "\n",
    "# Add coastlines and formatted gridlines\n",
    "ax.coastlines(resolution=\"110m\", linewidth=1)\n",
    "gl = ax.gridlines(crs=ccrs.PlateCarree(), draw_labels=True,\n",
    "                  linewidth=1, color='black', linestyle='--')\n",
    "gl.xlabels_top = False\n",
    "gl.ylabels_right = False\n",
    "gl.xlines = True\n",
    "gl.xlocator = mticker.FixedLocator([-180, -90, 0, 90, 180])\n",
    "gl.ylocator = mticker.FixedLocator([-60, -50, -25, 0, 25, 50, 60])\n",
    "gl.xformatter = LONGITUDE_FORMATTER\n",
    "gl.yformatter = LATITUDE_FORMATTER\n",
    "gl.xlabel_style = {'size': 16, 'color': 'black'}\n",
    "gl.ylabel_style = {'size': 16, 'color': 'black'}\n",
    "\n",
    "# Set contour levels\n",
    "clevs = np.arange(0, 1, 0.05)\n",
    "\n",
    "# Normalize the data to match clevs\n",
    "norm = BoundaryNorm(clevs, ncolors=plt.cm.rainbow.N, clip=True)\n",
    "\n",
    "# Plot the data with pcolormesh\n",
    "mesh = plt.pcolormesh(x, y, probPrecip, cmap=\"Blues_r\", norm=norm, shading=\"auto\")\n",
    "\n",
    "# Add a colorbar\n",
    "cb = plt.colorbar(mesh, ax=ax, orientation=\"vertical\", pad=0.05, aspect=16, shrink=0.8)\n",
    "cb.set_label('Probability', size=20)\n",
    "cb.ax.tick_params(labelsize=16)\n",
    "\n",
    "# Add a title\n",
    "#plt.title('GPM IMERG Monthly Mean Rain Rate for January 2014', size=24)\n",
    "\n",
    "# Show the plot\n",
    "plt.show()"
   ]
  },
  {
   "cell_type": "markdown",
   "id": "fa947517-c842-495d-8ee0-0f8b6163198d",
   "metadata": {},
   "source": [
    "Note that IMERG only observes up to 60 degrees N/S, meaning that we can't use it for high-latitude analysis. However, it's still useful for mid-latitude applications!"
   ]
  }
 ],
 "metadata": {
  "kernelspec": {
   "display_name": "Python 3 (ipykernel)",
   "language": "python",
   "name": "python3"
  },
  "language_info": {
   "codemirror_mode": {
    "name": "ipython",
    "version": 3
   },
   "file_extension": ".py",
   "mimetype": "text/x-python",
   "name": "python",
   "nbconvert_exporter": "python",
   "pygments_lexer": "ipython3",
   "version": "3.11.9"
  }
 },
 "nbformat": 4,
 "nbformat_minor": 5
}
