{
 "cells": [
  {
   "cell_type": "markdown",
   "id": "ac9a4f52-15e3-48ba-b125-48939cf0815d",
   "metadata": {},
   "source": [
    "# SNOTEL Data Access\n",
    "\n",
    "This notebook allows for easy access to snow depths and SWE from the Snow Telemetry (SNOTEL) network. A simple example is used to show quick access to SNOTEL data over Creamer's Field, AK using the `metloom` package.\n",
    "\n",
    "Credit: M3Works for the `metloom` package, which can be found here: https://github.com/M3Works/metloom/tree/main"
   ]
  },
  {
   "cell_type": "code",
   "execution_count": null,
   "id": "d64d2462-1075-43ef-aad9-4d76c20bb128",
   "metadata": {
    "scrolled": true
   },
   "outputs": [],
   "source": [
    "# Install metloom, if not added yet\n",
    "!pip install metloom"
   ]
  },
  {
   "cell_type": "code",
   "execution_count": null,
   "id": "04577d34-85c3-48c8-b1ac-baa3b1579482",
   "metadata": {},
   "outputs": [],
   "source": [
    "from datetime import datetime\n",
    "import pandas as pd\n",
    "import geopandas as gpd\n",
    "from pathlib import Path"
   ]
  },
  {
   "cell_type": "markdown",
   "id": "392f4525-681b-4ef7-a5f0-8f77e4485b81",
   "metadata": {},
   "source": [
    "Metloom allows for easy access to several weather station types, including SNOTEL, MesoWest, and NorwayMet. The primary query function for each is `SnotelPointData` (replace \"Snotel\" with station of choice), which also allows us to view the locations of weather stations. We'll start this example doing just that. "
   ]
  },
  {
   "cell_type": "code",
   "execution_count": null,
   "id": "98e47be4-4e7e-4a0b-bc66-24fb372851b3",
   "metadata": {},
   "outputs": [],
   "source": [
    "# Import the SNOTEL pointdata classes\n",
    "from metloom.pointdata import SnotelPointData\n",
    "\n",
    "# Import the SNOTEL variable classes\n",
    "from metloom.variables import SnotelVariables"
   ]
  },
  {
   "cell_type": "code",
   "execution_count": null,
   "id": "2ec4d92d-0170-4d19-9b08-672465ba16d4",
   "metadata": {},
   "outputs": [],
   "source": [
    "SnotelPointData.ALLOWED_VARIABLES."
   ]
  },
  {
   "cell_type": "markdown",
   "id": "80d542a8-351d-4a54-9017-8ba0360fc44e",
   "metadata": {},
   "source": [
    "We are going to look for active SNOTEL stations near Creamer's Field in Fairbanks, AK. The below cells search for SNOTEL stations within 0.5 degrees latitude/longitude of the provided polygon. \n",
    "\n",
    "We will also go ahead and define the variables we want from the station, using `SnotelPointData.ALLOWED_VARIABLES`. Some of the allowed variables include:\n",
    "* `SNOWDEPTH`: Snow depth, typically in inches.\n",
    "* `SWE`: Snow water equivalent, typically in inches.\n",
    "* `PRECIPITATION`: Accumulated precipitation, in inches.\n",
    "* `TMP`: Air temperature, in degrees Fahrenheit."
   ]
  },
  {
   "cell_type": "code",
   "execution_count": null,
   "id": "a1eed475-6b55-4a72-b24b-bcbebb7cbd55",
   "metadata": {},
   "outputs": [],
   "source": [
    "# Load FLCF lidar box from SnowEx campaigns\n",
    "sf_path = Path(\"/home/jovyan/shared-public/SnowPit/cffl_lidar_box.geojson\").expanduser()\n",
    "sf = gpd.read_file(str(sf_path))\n",
    "sf[\"name\"] = [\"FLCF\"]\n",
    "\n",
    "# Load the desired variables for SNOTEL query\n",
    "variables = [SnotelPointData.ALLOWED_VARIABLES.SNOWDEPTH]"
   ]
  },
  {
   "cell_type": "code",
   "execution_count": null,
   "id": "f95d9652-d7af-4497-89e5-ae5e4e9b9dd4",
   "metadata": {},
   "outputs": [],
   "source": [
    "# Find SNOTEL stations within polygon with desired variables\n",
    "points = SnotelPointData.points_from_geometry(sf, variables)\n",
    "\n",
    "# Print nearby SNOTEL stations within 0.5 degrees of polygon\n",
    "print(SnotelPointData.points_from_geometry(sf, variables, buffer=0.5).points)"
   ]
  },
  {
   "cell_type": "markdown",
   "id": "cceaa562-252a-456a-bac3-1ade7231d799",
   "metadata": {},
   "source": [
    "Looks like we have a SNOTEL station here! Note the printed output: Metloom returns the station ID number (`1302`), the state it's in (`AK`), and the type of weather station (`SNTL`).\n",
    "\n",
    "Let's see where it's located in Creamer's Field, relative to the polyon we provided."
   ]
  },
  {
   "cell_type": "code",
   "execution_count": null,
   "id": "df1095d2-1d69-4f59-bce6-3b9d4131e535",
   "metadata": {},
   "outputs": [],
   "source": [
    "# Plot lidar box over ESRI tiles\n",
    "m = sf.explore(\n",
    "    tooltip=False, color=\"grey\", highlight=False, tiles=\"Esri.WorldImagery\",\n",
    "    style_kwds={\"opacity\": 0.2}, popup=[\"name\"]\n",
    ")\n",
    "# Add plot showing location of SNOTEL station(s)\n",
    "df = points.to_dataframe()\n",
    "df.explore(m=m, tooltip=[\"name\", \"id\"], color=\"red\", marker_kwds={\"radius\":4})"
   ]
  },
  {
   "cell_type": "markdown",
   "id": "ab37a337-143d-4adc-a40e-c89e784df097",
   "metadata": {},
   "source": [
    "Now that we know which SNOTEL is in the area, we can query for the data."
   ]
  },
  {
   "cell_type": "code",
   "execution_count": null,
   "id": "250ba2c7-2935-40b1-9795-5c1fdc7a2a3b",
   "metadata": {},
   "outputs": [],
   "source": [
    "# Define SNOTEL station from FLCF\n",
    "pt = SnotelPointData(\"1302:AK:SNTL\", \"Creamer's Field\")"
   ]
  },
  {
   "cell_type": "markdown",
   "id": "521e0577-fee1-4268-be3e-e95905969099",
   "metadata": {},
   "source": [
    "As with other API requests, we can subset the data with a date range, given as datetime objects.\n",
    "\n",
    "Note here that we are requesting for snow depths on a daily basis. If desired, we could also obtain the hourly data instead, using `pt.get_hourly_data()`."
   ]
  },
  {
   "cell_type": "code",
   "execution_count": null,
   "id": "0fa43a6d-2014-4e39-a128-fcfe9485ae3c",
   "metadata": {},
   "outputs": [],
   "source": [
    "# Start and end date of SNOTEL query\n",
    "start_date = datetime(2022, 3, 1)\n",
    "end_date = datetime(2023, 4, 1)\n",
    "\n",
    "# Query SNOTEL snow depths\n",
    "df = pt.get_daily_data(start_date, end_date, variables)"
   ]
  },
  {
   "cell_type": "code",
   "execution_count": null,
   "id": "6a6b31d0-144d-4057-85e8-7ffb8d77c385",
   "metadata": {},
   "outputs": [],
   "source": [
    "df.head()"
   ]
  },
  {
   "cell_type": "markdown",
   "id": "42452ce6-f1ed-4f53-8113-19aa53f6c55a",
   "metadata": {},
   "source": [
    "Easy enough! We now have a data frame containing the basic information of the SNOTEL site, as well as the snow depth in inches.\n",
    "\n",
    "Since inches aren't very useful in scientific analysis, and SNOWDEPTH can be a hassle to type out, let's make a new column that shows the depth in meters."
   ]
  },
  {
   "cell_type": "code",
   "execution_count": null,
   "id": "3b73fe5e-1291-4f20-84f3-16ebfa004cf8",
   "metadata": {},
   "outputs": [],
   "source": [
    "# Convert snow depth to meters\n",
    "df['snow_depth_meters'] = df['SNOWDEPTH']*0.0254"
   ]
  },
  {
   "cell_type": "markdown",
   "id": "8b40d60a-19f2-4a21-b8d5-2189fe206ace",
   "metadata": {},
   "source": [
    "From there, it's simple to plot the snow depth data as a time series."
   ]
  },
  {
   "cell_type": "code",
   "execution_count": null,
   "id": "ab3b73e4-721c-4813-80e6-dd906582fa45",
   "metadata": {},
   "outputs": [],
   "source": [
    "import matplotlib.pyplot as plt\n",
    "\n",
    "# Plot time series of daily SNOTEL data\n",
    "fig, ax = plt.subplots()\n",
    "df.reset_index().set_index(\"datetime\")[\"snow_depth_meters\"].plot(ax=ax)\n",
    "ax.set_xlabel(\"Date\", fontsize=12)\n",
    "ax.set_ylabel(\"Snow depth [m]\", fontsize=12)\n",
    "ax.set_title(\"SNOTEL: Creamer's Field (1302)\", fontsize=12)\n",
    "fig.tight_layout()"
   ]
  }
 ],
 "metadata": {
  "kernelspec": {
   "display_name": "Python 3 (ipykernel)",
   "language": "python",
   "name": "python3"
  },
  "language_info": {
   "codemirror_mode": {
    "name": "ipython",
    "version": 3
   },
   "file_extension": ".py",
   "mimetype": "text/x-python",
   "name": "python",
   "nbconvert_exporter": "python",
   "pygments_lexer": "ipython3",
   "version": "3.11.9"
  }
 },
 "nbformat": 4,
 "nbformat_minor": 5
}
