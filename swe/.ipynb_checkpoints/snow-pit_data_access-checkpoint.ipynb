{
 "cells": [
  {
   "cell_type": "markdown",
   "id": "f2f2717e-bd95-4152-88f6-9d81e9b2dfe0",
   "metadata": {},
   "source": [
    "# Snow Pit Data Access and SWE Calculation\n",
    "\n",
    "This notebook is designed to access data from snow pits gathered during the SnowEx field campaigns in Alaska. A combination of snow depth and density is gathered to estimate SWE across the Toolik field site (UKT).\n",
    "\n",
    "In this example, the snow pit data is accessed using the SnowEx Database and `snowexsql`. The code is adapted from a SnowEx Database example found here: https://snowexsql.readthedocs.io/en/latest/gallery/plot_pit_swe_example.html"
   ]
  },
  {
   "cell_type": "code",
   "execution_count": null,
   "id": "4f5ef930-69d6-459b-b989-875759619cb2",
   "metadata": {
    "scrolled": true
   },
   "outputs": [],
   "source": [
    "from snowexsql.api import PointMeasurements\n",
    "\n",
    "# Instantiate the class to use the properties!\n",
    "measurements = PointMeasurements()\n",
    "\n",
    "# Get the unique data names/types in the table\n",
    "results = measurements.all_types\n",
    "print('Available types = {}'.format(', '.join([str(r) for r in results])))\n",
    "\n",
    "# Get the unique instrument in the table\n",
    "results = measurements.all_instruments\n",
    "print('\\nAvailable Instruments = {}'.format(', '.join([str(r) for r in results])))\n",
    "\n",
    "# Get the unique dates in the table\n",
    "results = measurements.all_dates\n",
    "print('\\nAvailable Dates = {}'.format(', '.join(sorted([str(r) for r in results]))))\n",
    "\n",
    "# Get the unique site names in the table\n",
    "results = measurements.all_site_names\n",
    "print('\\nAvailable sites = {}'.format(', '.join([str(r) for r in results])))"
   ]
  },
  {
   "cell_type": "code",
   "execution_count": null,
   "id": "7d9f93c6-2e9c-4139-8520-090b9db88f7a",
   "metadata": {},
   "outputs": [],
   "source": [
    "# Import in our two classes to access the db\n",
    "from snowexsql.api import LayerMeasurements\n",
    "from datetime import datetime \n",
    "\n",
    "# Find some density pit measurements at the Boise site in december 2019.\n",
    "df = LayerMeasurements.from_filter(\n",
    "    type=\"density\",\n",
    "    site_name=\"North Slope\",\n",
    "    date_less_equal=datetime(2023, 3, 17),\n",
    "    date_greater_equal=datetime(2023, 3, 1),\n",
    "    limit=100\n",
    ")"
   ]
  },
  {
   "cell_type": "code",
   "execution_count": null,
   "id": "8ea33ebe-0344-4b03-9c21-57ca0d8bfdd6",
   "metadata": {},
   "outputs": [],
   "source": [
    "df"
   ]
  },
  {
   "cell_type": "code",
   "execution_count": null,
   "id": "f78d2e62-1498-478b-accf-bef96c2ee97d",
   "metadata": {
    "scrolled": true
   },
   "outputs": [],
   "source": [
    "df.plot()"
   ]
  },
  {
   "cell_type": "code",
   "execution_count": null,
   "id": "6e125aae-2633-4c41-8e32-44bffd236499",
   "metadata": {},
   "outputs": [],
   "source": [
    "import numpy as np\n",
    "df['value'].iloc[99]"
   ]
  },
  {
   "cell_type": "code",
   "execution_count": null,
   "id": "8782d958-b353-4173-a270-f58866dd199e",
   "metadata": {},
   "outputs": [],
   "source": [
    "# Import the class reflecting the points table in the db\n",
    "from snowexsql.api import PointMeasurements as measurements\n",
    "\n",
    "# Grab one measurement to see what attributes are available\n",
    "df = measurements.from_filter(type=\"depth\", limit=1)\n",
    "\n",
    "# Print out the results nicely\n",
    "print(\"These are the available columns in the table:\\n \\n* {}\\n\".format('\\n* '.join(df.columns)))"
   ]
  },
  {
   "cell_type": "code",
   "execution_count": null,
   "id": "9f380487-e647-4703-9fa9-1649eefd6aa8",
   "metadata": {},
   "outputs": [],
   "source": []
  }
 ],
 "metadata": {
  "kernelspec": {
   "display_name": "Python 3 (ipykernel)",
   "language": "python",
   "name": "python3"
  },
  "language_info": {
   "codemirror_mode": {
    "name": "ipython",
    "version": 3
   },
   "file_extension": ".py",
   "mimetype": "text/x-python",
   "name": "python",
   "nbconvert_exporter": "python",
   "pygments_lexer": "ipython3",
   "version": "3.11.11"
  }
 },
 "nbformat": 4,
 "nbformat_minor": 5
}
