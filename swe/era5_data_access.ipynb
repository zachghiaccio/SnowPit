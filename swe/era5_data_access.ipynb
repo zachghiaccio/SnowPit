{
 "cells": [
  {
   "cell_type": "code",
   "execution_count": 9,
   "id": "0ecf36f2-1ba7-49f7-ba95-999af28d59c0",
   "metadata": {
    "scrolled": true
   },
   "outputs": [
    {
     "name": "stdout",
     "output_type": "stream",
     "text": [
      "Collecting cdsapi\n",
      "  Downloading cdsapi-0.7.5-py2.py3-none-any.whl.metadata (2.9 kB)\n",
      "Collecting datapi (from cdsapi)\n",
      "  Downloading datapi-0.3.1-py3-none-any.whl.metadata (20 kB)\n",
      "Requirement already satisfied: requests>=2.5.0 in /srv/conda/envs/notebook/lib/python3.11/site-packages (from cdsapi) (2.32.3)\n",
      "Requirement already satisfied: tqdm in /srv/conda/envs/notebook/lib/python3.11/site-packages (from cdsapi) (4.66.5)\n",
      "Requirement already satisfied: charset-normalizer<4,>=2 in /srv/conda/envs/notebook/lib/python3.11/site-packages (from requests>=2.5.0->cdsapi) (3.3.2)\n",
      "Requirement already satisfied: idna<4,>=2.5 in /srv/conda/envs/notebook/lib/python3.11/site-packages (from requests>=2.5.0->cdsapi) (3.7)\n",
      "Requirement already satisfied: urllib3<3,>=1.21.1 in /srv/conda/envs/notebook/lib/python3.11/site-packages (from requests>=2.5.0->cdsapi) (1.26.19)\n",
      "Requirement already satisfied: certifi>=2017.4.17 in /srv/conda/envs/notebook/lib/python3.11/site-packages (from requests>=2.5.0->cdsapi) (2024.7.4)\n",
      "Requirement already satisfied: attrs in /srv/conda/envs/notebook/lib/python3.11/site-packages (from datapi->cdsapi) (23.2.0)\n",
      "Collecting multiurl>=0.3.2 (from datapi->cdsapi)\n",
      "  Downloading multiurl-0.3.5-py3-none-any.whl.metadata (2.8 kB)\n",
      "Requirement already satisfied: typing-extensions in /srv/conda/envs/notebook/lib/python3.11/site-packages (from datapi->cdsapi) (4.12.2)\n",
      "Requirement already satisfied: pytz in /srv/conda/envs/notebook/lib/python3.11/site-packages (from multiurl>=0.3.2->datapi->cdsapi) (2024.1)\n",
      "Requirement already satisfied: python-dateutil in /srv/conda/envs/notebook/lib/python3.11/site-packages (from multiurl>=0.3.2->datapi->cdsapi) (2.8.2)\n",
      "Requirement already satisfied: six>=1.5 in /srv/conda/envs/notebook/lib/python3.11/site-packages (from python-dateutil->multiurl>=0.3.2->datapi->cdsapi) (1.16.0)\n",
      "Downloading cdsapi-0.7.5-py2.py3-none-any.whl (12 kB)\n",
      "Downloading datapi-0.3.1-py3-none-any.whl (28 kB)\n",
      "Downloading multiurl-0.3.5-py3-none-any.whl (21 kB)\n",
      "Installing collected packages: multiurl, datapi, cdsapi\n",
      "Successfully installed cdsapi-0.7.5 datapi-0.3.1 multiurl-0.3.5\n",
      "Note: you may need to restart the kernel to use updated packages.\n"
     ]
    }
   ],
   "source": [
    "%pip install cdsapi"
   ]
  },
  {
   "cell_type": "code",
   "execution_count": 1,
   "id": "51652349-27fb-4da4-8747-0f5b1cf3dafb",
   "metadata": {},
   "outputs": [],
   "source": [
    "import cdsapi\n",
    "import os"
   ]
  },
  {
   "cell_type": "code",
   "execution_count": 2,
   "id": "47ff968a-d95d-49b8-9199-3ce275fcb379",
   "metadata": {},
   "outputs": [],
   "source": [
    "file_format = \"netcdf\"  # 'grib' or 'netcdf' (but ONLY netcdf is supported by the code below for mapping and time serie extraction)\n",
    "folder_out = \"/home/jovyan/shared-public/SnowPit/tmp\"\n",
    "downloaded_file = 'ERA5-Land hourly.nc'"
   ]
  },
  {
   "cell_type": "code",
   "execution_count": 3,
   "id": "34b6cbfe-c169-422d-b7d9-6c6923f4be0e",
   "metadata": {},
   "outputs": [],
   "source": [
    "# List of years\n",
    "start_year = 2022\n",
    "end_year = 2022\n",
    "years = [str(start_year+i) for i in range(end_year-start_year+1)] \n",
    "\n",
    "# List of days\n",
    "start_day = 1\n",
    "end_day = 31\n",
    "days = [str(start_day+i).zfill(2) for i in range(end_day-start_day+1)]\n",
    "\n",
    "# Month(s) and time(s)\n",
    "month = '3'\n",
    "time = '00:00'\n",
    "\n",
    "# Variables\n",
    "variables_list = 'snow_depth_water_equivalent'"
   ]
  },
  {
   "cell_type": "code",
   "execution_count": 6,
   "id": "c61e50d8-4ca4-497f-ac87-bcdc0bcc9ed9",
   "metadata": {},
   "outputs": [
    {
     "name": "stderr",
     "output_type": "stream",
     "text": [
      "2025-04-01 20:17:42,203 INFO [2024-09-26T00:00:00] Watch our [Forum](https://forum.ecmwf.int/) for Announcements, news and other discussed topics.\n",
      "2025-04-01 20:17:42,203 WARNING [2024-06-16T00:00:00] CDS API syntax is changed and some keys or parameter names may have also changed. To avoid requests failing, please use the \"Show API request code\" tool on the dataset Download Form to check you are using the correct syntax for your API request.\n",
      "2025-04-01 20:17:44,312 INFO Request ID is 86c478f6-cdfa-41c9-945b-65f570abd176\n",
      "2025-04-01 20:17:44,535 INFO status has been updated to accepted\n",
      "2025-04-01 20:17:47,819 INFO status has been updated to running\n",
      "2025-04-01 20:18:20,400 INFO status has been updated to successful\n"
     ]
    },
    {
     "data": {
      "application/vnd.jupyter.widget-view+json": {
       "model_id": "",
       "version_major": 2,
       "version_minor": 0
      },
      "text/plain": [
       "738079a1ed41eef894c743498a4bfccb.zip:   0%|          | 0.00/55.9M [00:00<?, ?B/s]"
      ]
     },
     "metadata": {},
     "output_type": "display_data"
    },
    {
     "name": "stdout",
     "output_type": "stream",
     "text": [
      "CPU times: user 254 ms, sys: 117 ms, total: 372 ms\n",
      "Wall time: 52.3 s\n"
     ]
    },
    {
     "data": {
      "text/plain": [
       "'/home/jovyan/shared-public/SnowPit/tmp/ERA5-Land hourly.nc'"
      ]
     },
     "execution_count": 6,
     "metadata": {},
     "output_type": "execute_result"
    }
   ],
   "source": [
    "%%time\n",
    "downloaded_file = os.path.join(folder_out, downloaded_file)\n",
    "\n",
    "c = cdsapi.Client()\n",
    "\n",
    "c.retrieve(\n",
    "    'reanalysis-era5-land',\n",
    "    {\n",
    "        'year': years,\n",
    "        'variable': variables_list,\n",
    "        'month': month,\n",
    "        'day': days,\n",
    "        'time': time,\n",
    "        'format': file_format,\n",
    "    },\n",
    "    downloaded_file)"
   ]
  },
  {
   "cell_type": "code",
   "execution_count": 14,
   "id": "ead95b35-5789-4a54-852b-e922c8216600",
   "metadata": {},
   "outputs": [],
   "source": [
    "import netCDF4 as netcdf\n",
    "import xarray as xr\n",
    "import rioxarray as rxr"
   ]
  },
  {
   "cell_type": "code",
   "execution_count": 16,
   "id": "ed50f234-35b7-41fa-8666-505a2193f094",
   "metadata": {},
   "outputs": [
    {
     "ename": "OSError",
     "evalue": "[Errno -51] NetCDF: Unknown file format: '/home/jovyan/shared-public/SnowPit/tmp/ERA5-Land_hourly.nc'",
     "output_type": "error",
     "traceback": [
      "\u001b[0;31m---------------------------------------------------------------------------\u001b[0m",
      "\u001b[0;31mOSError\u001b[0m                                   Traceback (most recent call last)",
      "Cell \u001b[0;32mIn[16], line 1\u001b[0m\n\u001b[0;32m----> 1\u001b[0m ds \u001b[38;5;241m=\u001b[39m \u001b[43mnetcdf\u001b[49m\u001b[38;5;241;43m.\u001b[39;49m\u001b[43mDataset\u001b[49m\u001b[43m(\u001b[49m\u001b[38;5;124;43m'\u001b[39;49m\u001b[38;5;124;43m/home/jovyan/shared-public/SnowPit/tmp/ERA5-Land_hourly.nc\u001b[39;49m\u001b[38;5;124;43m'\u001b[39;49m\u001b[43m,\u001b[49m\u001b[43m \u001b[49m\u001b[38;5;124;43m'\u001b[39;49m\u001b[38;5;124;43mr\u001b[39;49m\u001b[38;5;124;43m'\u001b[39;49m\u001b[43m)\u001b[49m\n\u001b[1;32m      2\u001b[0m ds\n",
      "File \u001b[0;32msrc/netCDF4/_netCDF4.pyx:2470\u001b[0m, in \u001b[0;36mnetCDF4._netCDF4.Dataset.__init__\u001b[0;34m()\u001b[0m\n",
      "File \u001b[0;32msrc/netCDF4/_netCDF4.pyx:2107\u001b[0m, in \u001b[0;36mnetCDF4._netCDF4._ensure_nc_success\u001b[0;34m()\u001b[0m\n",
      "\u001b[0;31mOSError\u001b[0m: [Errno -51] NetCDF: Unknown file format: '/home/jovyan/shared-public/SnowPit/tmp/ERA5-Land_hourly.nc'"
     ]
    }
   ],
   "source": [
    "ds = netcdf.Dataset('/home/jovyan/shared-public/SnowPit/tmp/ERA5-Land_hourly.nc', 'r')\n",
    "ds"
   ]
  },
  {
   "cell_type": "code",
   "execution_count": null,
   "id": "0002fe07-23cc-4c53-a3a7-360918b8d480",
   "metadata": {},
   "outputs": [],
   "source": []
  }
 ],
 "metadata": {
  "kernelspec": {
   "display_name": "Python 3 (ipykernel)",
   "language": "python",
   "name": "python3"
  },
  "language_info": {
   "codemirror_mode": {
    "name": "ipython",
    "version": 3
   },
   "file_extension": ".py",
   "mimetype": "text/x-python",
   "name": "python",
   "nbconvert_exporter": "python",
   "pygments_lexer": "ipython3",
   "version": "3.11.9"
  }
 },
 "nbformat": 4,
 "nbformat_minor": 5
}
