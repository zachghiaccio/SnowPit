{
 "cells": [
  {
   "cell_type": "markdown",
   "id": "6c47f8ef-1c7d-4693-892c-29d2efceab9e",
   "metadata": {},
   "source": [
    "This code is adapted from Tasha Snow's ERA5 downloading script: https://github.com/tsnow03/Landsat_SST_algorithm/blob/main/ERADownload.ipynb"
   ]
  },
  {
   "cell_type": "code",
   "execution_count": 3,
   "id": "0ecf36f2-1ba7-49f7-ba95-999af28d59c0",
   "metadata": {
    "scrolled": true
   },
   "outputs": [
    {
     "name": "stdout",
     "output_type": "stream",
     "text": [
      "Collecting ecmwf-api-client\n",
      "  Using cached ecmwf_api_client-1.6.5-py3-none-any.whl.metadata (4.8 kB)\n",
      "Using cached ecmwf_api_client-1.6.5-py3-none-any.whl (13 kB)\n",
      "Installing collected packages: ecmwf-api-client\n",
      "Successfully installed ecmwf-api-client-1.6.5\n",
      "Note: you may need to restart the kernel to use updated packages.\n",
      "Collecting cdsapi\n",
      "  Using cached cdsapi-0.7.5-py2.py3-none-any.whl.metadata (2.9 kB)\n",
      "Collecting datapi (from cdsapi)\n",
      "  Using cached datapi-0.3.1-py3-none-any.whl.metadata (20 kB)\n",
      "Requirement already satisfied: requests>=2.5.0 in /srv/conda/envs/notebook/lib/python3.11/site-packages (from cdsapi) (2.32.3)\n",
      "Requirement already satisfied: tqdm in /srv/conda/envs/notebook/lib/python3.11/site-packages (from cdsapi) (4.66.5)\n",
      "Requirement already satisfied: charset-normalizer<4,>=2 in /srv/conda/envs/notebook/lib/python3.11/site-packages (from requests>=2.5.0->cdsapi) (3.3.2)\n",
      "Requirement already satisfied: idna<4,>=2.5 in /srv/conda/envs/notebook/lib/python3.11/site-packages (from requests>=2.5.0->cdsapi) (3.7)\n",
      "Requirement already satisfied: urllib3<3,>=1.21.1 in /srv/conda/envs/notebook/lib/python3.11/site-packages (from requests>=2.5.0->cdsapi) (1.26.19)\n",
      "Requirement already satisfied: certifi>=2017.4.17 in /srv/conda/envs/notebook/lib/python3.11/site-packages (from requests>=2.5.0->cdsapi) (2024.7.4)\n",
      "Requirement already satisfied: attrs in /srv/conda/envs/notebook/lib/python3.11/site-packages (from datapi->cdsapi) (23.2.0)\n",
      "Collecting multiurl>=0.3.2 (from datapi->cdsapi)\n",
      "  Using cached multiurl-0.3.5-py3-none-any.whl.metadata (2.8 kB)\n",
      "Requirement already satisfied: typing-extensions in /srv/conda/envs/notebook/lib/python3.11/site-packages (from datapi->cdsapi) (4.12.2)\n",
      "Requirement already satisfied: pytz in /srv/conda/envs/notebook/lib/python3.11/site-packages (from multiurl>=0.3.2->datapi->cdsapi) (2024.1)\n",
      "Requirement already satisfied: python-dateutil in /srv/conda/envs/notebook/lib/python3.11/site-packages (from multiurl>=0.3.2->datapi->cdsapi) (2.8.2)\n",
      "Requirement already satisfied: six>=1.5 in /srv/conda/envs/notebook/lib/python3.11/site-packages (from python-dateutil->multiurl>=0.3.2->datapi->cdsapi) (1.16.0)\n",
      "Using cached cdsapi-0.7.5-py2.py3-none-any.whl (12 kB)\n",
      "Using cached datapi-0.3.1-py3-none-any.whl (28 kB)\n",
      "Using cached multiurl-0.3.5-py3-none-any.whl (21 kB)\n",
      "Installing collected packages: multiurl, datapi, cdsapi\n",
      "Successfully installed cdsapi-0.7.5 datapi-0.3.1 multiurl-0.3.5\n",
      "Note: you may need to restart the kernel to use updated packages.\n"
     ]
    }
   ],
   "source": [
    "%pip install ecmwf-api-client\n",
    "%pip install cdsapi"
   ]
  },
  {
   "cell_type": "code",
   "execution_count": 2,
   "id": "51652349-27fb-4da4-8747-0f5b1cf3dafb",
   "metadata": {},
   "outputs": [],
   "source": [
    "import calendar\n",
    "from ecmwfapi import ECMWFDataServer # Need a ecmwf user name and password first\n",
    "import cdsapi"
   ]
  },
  {
   "cell_type": "markdown",
   "id": "881d22eb-92db-4e93-8a27-c33e343983a2",
   "metadata": {},
   "source": [
    "The CDS API can be a bit picky with inputs from ERA5, so first-time users are encouraged to use the online request form (https://cds.climate.copernicus.eu/datasets/reanalysis-era5-single-levels?tab=download) to automatically generate a code for their API request, to ensure that the syntax is correct."
   ]
  },
  {
   "cell_type": "code",
   "execution_count": null,
   "id": "d10ef511-edcb-467f-975b-bcbd7f5a2652",
   "metadata": {
    "scrolled": true
   },
   "outputs": [
    {
     "name": "stderr",
     "output_type": "stream",
     "text": [
      "2025-04-08 15:10:31,639 INFO [2024-09-26T00:00:00] Watch our [Forum](https://forum.ecmwf.int/) for Announcements, news and other discussed topics.\n",
      "2025-04-08 15:10:31,639 WARNING [2024-06-16T00:00:00] CDS API syntax is changed and some keys or parameter names may have also changed. To avoid requests failing, please use the \"Show API request code\" tool on the dataset Download Form to check you are using the correct syntax for your API request.\n",
      "2025-04-08 15:10:33,465 INFO Request ID is 5dc98c7e-bf9c-4049-b056-93cd7c3d53a6\n",
      "2025-04-08 15:10:33,751 INFO status has been updated to accepted\n",
      "2025-04-08 15:10:56,304 INFO status has been updated to successful\n"
     ]
    },
    {
     "data": {
      "application/vnd.jupyter.widget-view+json": {
       "model_id": "",
       "version_major": 2,
       "version_minor": 0
      },
      "text/plain": [
       "c974b10974d9c96a9cdcb4d86003932b.nc:   0%|          | 0.00/663k [00:00<?, ?B/s]"
      ]
     },
     "metadata": {},
     "output_type": "display_data"
    },
    {
     "name": "stderr",
     "output_type": "stream",
     "text": [
      "2025-04-08 15:11:01,149 INFO Request ID is 229a848c-0bbc-44b5-83db-1828774621cf\n",
      "2025-04-08 15:11:01,908 INFO status has been updated to accepted\n",
      "2025-04-08 15:11:07,520 INFO status has been updated to running\n",
      "2025-04-08 15:11:11,191 INFO status has been updated to successful\n"
     ]
    },
    {
     "data": {
      "application/vnd.jupyter.widget-view+json": {
       "model_id": "",
       "version_major": 2,
       "version_minor": 0
      },
      "text/plain": [
       "7127fba25df2f3fc5bf76a5ac25da550.nc:   0%|          | 0.00/659k [00:00<?, ?B/s]"
      ]
     },
     "metadata": {},
     "output_type": "display_data"
    },
    {
     "name": "stderr",
     "output_type": "stream",
     "text": [
      "2025-04-08 15:11:16,140 INFO Request ID is d5eebf75-9a86-4bce-a14f-75810c5cc034\n",
      "2025-04-08 15:11:16,399 INFO status has been updated to accepted\n",
      "2025-04-08 15:11:21,968 INFO status has been updated to running\n",
      "2025-04-08 15:11:25,620 INFO status has been updated to successful\n"
     ]
    },
    {
     "data": {
      "application/vnd.jupyter.widget-view+json": {
       "model_id": "",
       "version_major": 2,
       "version_minor": 0
      },
      "text/plain": [
       "38e7532c8677adf4200d4c1a52099f14.nc:   0%|          | 0.00/654k [00:00<?, ?B/s]"
      ]
     },
     "metadata": {},
     "output_type": "display_data"
    },
    {
     "name": "stderr",
     "output_type": "stream",
     "text": [
      "2025-04-08 15:11:31,221 INFO Request ID is 4be5c314-32b8-40a1-9cee-c7d3b9a56936\n",
      "2025-04-08 15:11:31,509 INFO status has been updated to accepted\n",
      "2025-04-08 15:11:34,553 INFO status has been updated to running\n",
      "2025-04-08 15:11:46,076 INFO status has been updated to accepted\n",
      "2025-04-08 15:11:53,957 INFO status has been updated to successful\n"
     ]
    },
    {
     "data": {
      "application/vnd.jupyter.widget-view+json": {
       "model_id": "",
       "version_major": 2,
       "version_minor": 0
      },
      "text/plain": [
       "3dba27bf3c6be5ccee08eee4c8428ad8.nc:   0%|          | 0.00/650k [00:00<?, ?B/s]"
      ]
     },
     "metadata": {},
     "output_type": "display_data"
    },
    {
     "name": "stderr",
     "output_type": "stream",
     "text": [
      "2025-04-08 15:11:58,973 INFO Request ID is ae46a23f-2137-45fd-aad5-5e632ca529a3\n",
      "2025-04-08 15:11:59,250 INFO status has been updated to accepted\n",
      "2025-04-08 15:12:05,296 INFO status has been updated to running\n",
      "2025-04-08 15:12:08,936 INFO status has been updated to successful\n"
     ]
    },
    {
     "data": {
      "application/vnd.jupyter.widget-view+json": {
       "model_id": "",
       "version_major": 2,
       "version_minor": 0
      },
      "text/plain": [
       "274f3bac28c955e39fb03bf2e3a32721.nc:   0%|          | 0.00/647k [00:00<?, ?B/s]"
      ]
     },
     "metadata": {},
     "output_type": "display_data"
    },
    {
     "name": "stderr",
     "output_type": "stream",
     "text": [
      "2025-04-08 15:12:14,093 INFO Request ID is 6db9dff8-d0b6-47da-beea-3ae738d01645\n",
      "2025-04-08 15:12:14,367 INFO status has been updated to accepted\n",
      "2025-04-08 15:12:19,965 INFO status has been updated to running\n",
      "2025-04-08 15:12:28,954 INFO status has been updated to successful\n"
     ]
    },
    {
     "data": {
      "application/vnd.jupyter.widget-view+json": {
       "model_id": "",
       "version_major": 2,
       "version_minor": 0
      },
      "text/plain": [
       "78790075bf9be4ac1222080a281e9b85.nc:   0%|          | 0.00/648k [00:00<?, ?B/s]"
      ]
     },
     "metadata": {},
     "output_type": "display_data"
    },
    {
     "name": "stderr",
     "output_type": "stream",
     "text": [
      "2025-04-08 15:13:16,799 INFO Request ID is b310dbd2-fab8-49fc-ad1c-cc92b4696373\n",
      "2025-04-08 15:13:17,565 INFO status has been updated to accepted\n",
      "2025-04-08 15:13:23,691 INFO status has been updated to running\n",
      "2025-04-08 15:13:27,358 INFO status has been updated to successful\n"
     ]
    },
    {
     "data": {
      "application/vnd.jupyter.widget-view+json": {
       "model_id": "",
       "version_major": 2,
       "version_minor": 0
      },
      "text/plain": [
       "a0f6c4115a7df28be8bca7929f1b0966.nc:   0%|          | 0.00/648k [00:00<?, ?B/s]"
      ]
     },
     "metadata": {},
     "output_type": "display_data"
    },
    {
     "name": "stderr",
     "output_type": "stream",
     "text": [
      "2025-04-08 15:13:33,105 INFO Request ID is a65119e1-1772-4bdd-a39c-0fce2df53497\n",
      "2025-04-08 15:13:33,395 INFO status has been updated to accepted\n",
      "2025-04-08 15:13:39,640 INFO status has been updated to running\n",
      "2025-04-08 15:13:50,200 INFO status has been updated to successful\n"
     ]
    },
    {
     "data": {
      "application/vnd.jupyter.widget-view+json": {
       "model_id": "",
       "version_major": 2,
       "version_minor": 0
      },
      "text/plain": [
       "5ad5853a2eb345b3905627398b6f9762.nc:   0%|          | 0.00/647k [00:00<?, ?B/s]"
      ]
     },
     "metadata": {},
     "output_type": "display_data"
    },
    {
     "name": "stderr",
     "output_type": "stream",
     "text": [
      "2025-04-08 15:14:44,549 INFO Request ID is f6bb4476-2010-4c7f-becf-6cdc08ca8e03\n",
      "2025-04-08 15:14:44,767 INFO status has been updated to accepted\n",
      "2025-04-08 15:14:50,178 INFO status has been updated to running\n",
      "2025-04-08 15:14:53,780 INFO status has been updated to accepted\n",
      "2025-04-08 15:14:59,063 INFO status has been updated to successful\n"
     ]
    },
    {
     "data": {
      "application/vnd.jupyter.widget-view+json": {
       "model_id": "",
       "version_major": 2,
       "version_minor": 0
      },
      "text/plain": [
       "9083e76bcd6dbd49aa501b0e23784952.nc:   0%|          | 0.00/641k [00:00<?, ?B/s]"
      ]
     },
     "metadata": {},
     "output_type": "display_data"
    },
    {
     "name": "stderr",
     "output_type": "stream",
     "text": [
      "2025-04-08 15:15:02,631 INFO Request ID is a2d10823-d76e-4a11-9c06-11b2f5496fb5\n",
      "2025-04-08 15:15:02,970 INFO status has been updated to accepted\n",
      "2025-04-08 15:15:08,375 INFO status has been updated to running\n",
      "2025-04-08 15:15:11,960 INFO status has been updated to successful\n"
     ]
    },
    {
     "data": {
      "application/vnd.jupyter.widget-view+json": {
       "model_id": "",
       "version_major": 2,
       "version_minor": 0
      },
      "text/plain": [
       "e48275ac72e7ab0dea32f7927d9f9d1b.nc:   0%|          | 0.00/636k [00:00<?, ?B/s]"
      ]
     },
     "metadata": {},
     "output_type": "display_data"
    },
    {
     "name": "stderr",
     "output_type": "stream",
     "text": [
      "2025-04-08 15:15:15,444 INFO Request ID is e7660f23-3ee7-4da5-be8b-7929895fede2\n",
      "2025-04-08 15:15:15,660 INFO status has been updated to accepted\n",
      "2025-04-08 15:15:24,622 INFO status has been updated to running\n",
      "2025-04-08 15:15:29,911 INFO status has been updated to successful\n"
     ]
    },
    {
     "data": {
      "application/vnd.jupyter.widget-view+json": {
       "model_id": "",
       "version_major": 2,
       "version_minor": 0
      },
      "text/plain": [
       "6f66a488fb808175660df2b942c46886.nc:   0%|          | 0.00/631k [00:00<?, ?B/s]"
      ]
     },
     "metadata": {},
     "output_type": "display_data"
    },
    {
     "name": "stderr",
     "output_type": "stream",
     "text": [
      "2025-04-08 15:16:21,463 INFO Request ID is af6b6255-ed96-4c98-96cb-1098c790fe90\n",
      "2025-04-08 15:16:21,693 INFO status has been updated to accepted\n",
      "2025-04-08 15:16:30,690 INFO status has been updated to running\n",
      "2025-04-08 15:16:35,975 INFO status has been updated to successful\n"
     ]
    },
    {
     "data": {
      "application/vnd.jupyter.widget-view+json": {
       "model_id": "",
       "version_major": 2,
       "version_minor": 0
      },
      "text/plain": [
       "a1bc7523d80b1b04ee9e6c175e30b53d.nc:   0%|          | 0.00/633k [00:00<?, ?B/s]"
      ]
     },
     "metadata": {},
     "output_type": "display_data"
    },
    {
     "name": "stderr",
     "output_type": "stream",
     "text": [
      "2025-04-08 15:17:19,102 INFO Request ID is d33bb0f9-676d-4e19-b863-e916ff1e3d9b\n",
      "2025-04-08 15:17:19,307 INFO status has been updated to accepted\n",
      "2025-04-08 15:17:24,695 INFO status has been updated to running\n",
      "2025-04-08 15:17:28,278 INFO status has been updated to successful\n"
     ]
    },
    {
     "data": {
      "application/vnd.jupyter.widget-view+json": {
       "model_id": "",
       "version_major": 2,
       "version_minor": 0
      },
      "text/plain": [
       "4ae8399f9e2ab72263ed0c1c8e078558.nc:   0%|          | 0.00/630k [00:00<?, ?B/s]"
      ]
     },
     "metadata": {},
     "output_type": "display_data"
    },
    {
     "name": "stderr",
     "output_type": "stream",
     "text": [
      "2025-04-08 15:18:05,964 INFO Request ID is 90147a66-8437-4a48-921e-40a0dd166e3a\n",
      "2025-04-08 15:18:06,175 INFO status has been updated to accepted\n",
      "2025-04-08 15:18:11,610 INFO status has been updated to running\n",
      "2025-04-08 15:18:15,180 INFO status has been updated to successful\n"
     ]
    },
    {
     "data": {
      "application/vnd.jupyter.widget-view+json": {
       "model_id": "",
       "version_major": 2,
       "version_minor": 0
      },
      "text/plain": [
       "f388f57f5791e4840917debd7898eb34.nc:   0%|          | 0.00/645k [00:00<?, ?B/s]"
      ]
     },
     "metadata": {},
     "output_type": "display_data"
    },
    {
     "name": "stderr",
     "output_type": "stream",
     "text": [
      "2025-04-08 15:18:57,707 INFO Request ID is 1b1b61c4-dca8-4da5-a816-52c87e201f1d\n",
      "2025-04-08 15:18:57,904 INFO status has been updated to accepted\n",
      "2025-04-08 15:19:06,844 INFO status has been updated to running\n",
      "2025-04-08 15:19:12,114 INFO status has been updated to successful\n"
     ]
    },
    {
     "data": {
      "application/vnd.jupyter.widget-view+json": {
       "model_id": "",
       "version_major": 2,
       "version_minor": 0
      },
      "text/plain": [
       "c127f9629f65cb2df4f3a3f705168c1b.nc:   0%|          | 0.00/653k [00:00<?, ?B/s]"
      ]
     },
     "metadata": {},
     "output_type": "display_data"
    },
    {
     "name": "stderr",
     "output_type": "stream",
     "text": [
      "2025-04-08 15:19:43,370 INFO Request ID is 4ba81141-fa22-45bb-ac12-8aa0c3eb1c21\n",
      "2025-04-08 15:19:43,606 INFO status has been updated to accepted\n",
      "2025-04-08 15:19:48,970 INFO status has been updated to running\n",
      "2025-04-08 15:19:57,839 INFO status has been updated to successful\n"
     ]
    },
    {
     "data": {
      "application/vnd.jupyter.widget-view+json": {
       "model_id": "",
       "version_major": 2,
       "version_minor": 0
      },
      "text/plain": [
       "1ad6ba6ebdddfcf007a12beabb74675e.nc:   0%|          | 0.00/656k [00:00<?, ?B/s]"
      ]
     },
     "metadata": {},
     "output_type": "display_data"
    },
    {
     "name": "stderr",
     "output_type": "stream",
     "text": [
      "2025-04-08 15:20:32,731 INFO Request ID is 67203099-0a39-4600-a999-5a7e0023cc2d\n",
      "2025-04-08 15:20:32,946 INFO status has been updated to accepted\n",
      "2025-04-08 15:20:41,864 INFO status has been updated to running\n",
      "2025-04-08 15:20:47,142 INFO status has been updated to successful\n"
     ]
    },
    {
     "data": {
      "application/vnd.jupyter.widget-view+json": {
       "model_id": "",
       "version_major": 2,
       "version_minor": 0
      },
      "text/plain": [
       "496db3b163850054b358a7d477bfabea.nc:   0%|          | 0.00/648k [00:00<?, ?B/s]"
      ]
     },
     "metadata": {},
     "output_type": "display_data"
    },
    {
     "name": "stderr",
     "output_type": "stream",
     "text": [
      "2025-04-08 15:20:50,811 INFO Request ID is 1d941b03-8441-4e3f-a61c-84035bf5551f\n",
      "2025-04-08 15:20:51,011 INFO status has been updated to accepted\n",
      "2025-04-08 15:20:56,374 INFO status has been updated to running\n",
      "2025-04-08 15:21:05,208 INFO status has been updated to successful\n"
     ]
    },
    {
     "data": {
      "application/vnd.jupyter.widget-view+json": {
       "model_id": "",
       "version_major": 2,
       "version_minor": 0
      },
      "text/plain": [
       "255f01096dca07c89683507b63ea35e2.nc:   0%|          | 0.00/636k [00:00<?, ?B/s]"
      ]
     },
     "metadata": {},
     "output_type": "display_data"
    },
    {
     "name": "stderr",
     "output_type": "stream",
     "text": [
      "2025-04-08 15:21:08,986 INFO Request ID is 2c576782-6bc5-4cf9-bab4-a68ec4597c03\n",
      "2025-04-08 15:21:09,185 INFO status has been updated to accepted\n",
      "2025-04-08 15:21:14,575 INFO status has been updated to running\n",
      "2025-04-08 15:21:18,163 INFO status has been updated to successful\n"
     ]
    },
    {
     "data": {
      "application/vnd.jupyter.widget-view+json": {
       "model_id": "",
       "version_major": 2,
       "version_minor": 0
      },
      "text/plain": [
       "24ae09af3a482dc4e007e84be7eae021.nc:   0%|          | 0.00/630k [00:00<?, ?B/s]"
      ]
     },
     "metadata": {},
     "output_type": "display_data"
    },
    {
     "name": "stderr",
     "output_type": "stream",
     "text": [
      "2025-04-08 15:21:21,676 INFO Request ID is 0e2339e2-3a16-4caa-b285-2c5525c14f6a\n",
      "2025-04-08 15:21:21,876 INFO status has been updated to accepted\n",
      "2025-04-08 15:21:27,222 INFO status has been updated to running\n",
      "2025-04-08 15:21:36,065 INFO status has been updated to successful\n"
     ]
    },
    {
     "data": {
      "application/vnd.jupyter.widget-view+json": {
       "model_id": "",
       "version_major": 2,
       "version_minor": 0
      },
      "text/plain": [
       "7187b404eebe3ebb9dc73fa116db6708.nc:   0%|          | 0.00/630k [00:00<?, ?B/s]"
      ]
     },
     "metadata": {},
     "output_type": "display_data"
    },
    {
     "name": "stderr",
     "output_type": "stream",
     "text": [
      "2025-04-08 15:21:39,765 INFO Request ID is b1405c57-beb3-4217-b4e4-c950a4dc23e3\n",
      "2025-04-08 15:21:39,993 INFO status has been updated to accepted\n",
      "2025-04-08 15:21:45,324 INFO status has been updated to running\n",
      "2025-04-08 15:21:48,892 INFO status has been updated to successful\n"
     ]
    },
    {
     "data": {
      "application/vnd.jupyter.widget-view+json": {
       "model_id": "",
       "version_major": 2,
       "version_minor": 0
      },
      "text/plain": [
       "bc1882c3578586c3f8c979d0daa35e89.nc:   0%|          | 0.00/638k [00:00<?, ?B/s]"
      ]
     },
     "metadata": {},
     "output_type": "display_data"
    },
    {
     "name": "stderr",
     "output_type": "stream",
     "text": [
      "2025-04-08 15:21:52,786 INFO Request ID is 7ba25f29-ae66-435f-a14d-f4e918c6add9\n",
      "2025-04-08 15:21:52,988 INFO status has been updated to accepted\n",
      "2025-04-08 15:21:58,338 INFO status has been updated to running\n",
      "2025-04-08 15:22:01,910 INFO status has been updated to accepted\n",
      "2025-04-08 15:22:14,963 INFO status has been updated to successful\n"
     ]
    },
    {
     "data": {
      "application/vnd.jupyter.widget-view+json": {
       "model_id": "",
       "version_major": 2,
       "version_minor": 0
      },
      "text/plain": [
       "f096e426a16dc6aa04d796917927088.nc:   0%|          | 0.00/645k [00:00<?, ?B/s]"
      ]
     },
     "metadata": {},
     "output_type": "display_data"
    },
    {
     "name": "stderr",
     "output_type": "stream",
     "text": [
      "2025-04-08 15:22:18,995 INFO Request ID is 358d066b-afab-430e-849a-a6c28b52476e\n",
      "2025-04-08 15:22:19,213 INFO status has been updated to accepted\n",
      "2025-04-08 15:22:24,580 INFO status has been updated to running\n",
      "2025-04-08 15:22:28,194 INFO status has been updated to successful\n"
     ]
    },
    {
     "data": {
      "application/vnd.jupyter.widget-view+json": {
       "model_id": "",
       "version_major": 2,
       "version_minor": 0
      },
      "text/plain": [
       "464b20cfbe23ca9c163099c7c688657c.nc:   0%|          | 0.00/653k [00:00<?, ?B/s]"
      ]
     },
     "metadata": {},
     "output_type": "display_data"
    },
    {
     "name": "stderr",
     "output_type": "stream",
     "text": [
      "2025-04-08 15:22:31,740 INFO Request ID is 21ecee02-6e3c-43e2-959a-2da044916c78\n",
      "2025-04-08 15:22:31,933 INFO status has been updated to accepted\n",
      "2025-04-08 15:22:40,858 INFO status has been updated to running\n",
      "2025-04-08 15:22:46,140 INFO status has been updated to successful\n"
     ]
    },
    {
     "data": {
      "application/vnd.jupyter.widget-view+json": {
       "model_id": "",
       "version_major": 2,
       "version_minor": 0
      },
      "text/plain": [
       "c92a5195d1573f11464f64b3838db97.nc:   0%|          | 0.00/646k [00:00<?, ?B/s]"
      ]
     },
     "metadata": {},
     "output_type": "display_data"
    },
    {
     "name": "stderr",
     "output_type": "stream",
     "text": [
      "2025-04-08 15:22:49,516 INFO Request ID is 7e98c0e6-3610-42df-8596-f1970577ee61\n",
      "2025-04-08 15:22:49,725 INFO status has been updated to accepted\n",
      "2025-04-08 15:22:58,684 INFO status has been updated to running\n",
      "2025-04-08 15:23:03,949 INFO status has been updated to successful\n"
     ]
    },
    {
     "data": {
      "application/vnd.jupyter.widget-view+json": {
       "model_id": "",
       "version_major": 2,
       "version_minor": 0
      },
      "text/plain": [
       "dd398f414a7e27f49623fcd27d961c55.nc:   0%|          | 0.00/643k [00:00<?, ?B/s]"
      ]
     },
     "metadata": {},
     "output_type": "display_data"
    },
    {
     "name": "stderr",
     "output_type": "stream",
     "text": [
      "2025-04-08 15:23:07,353 INFO Request ID is 8bf8c966-9e20-41a0-bf41-14d9c0269119\n",
      "2025-04-08 15:23:07,559 INFO status has been updated to accepted\n",
      "2025-04-08 15:23:10,835 INFO status has been updated to running\n",
      "2025-04-08 15:23:16,884 INFO status has been updated to successful\n"
     ]
    },
    {
     "data": {
      "application/vnd.jupyter.widget-view+json": {
       "model_id": "e82f47c6b5c2463b980ab1217eb4cf8b",
       "version_major": 2,
       "version_minor": 0
      },
      "text/plain": [
       "d4614e13f89d8ac3cae797f8392a32c.nc:   0%|          | 0.00/641k [00:00<?, ?B/s]"
      ]
     },
     "metadata": {},
     "output_type": "display_data"
    },
    {
     "name": "stderr",
     "output_type": "stream",
     "text": [
      "2025-04-08 15:23:50,765 INFO Request ID is 2fbf5e5e-49c5-4651-b141-b29da67cf831\n",
      "2025-04-08 15:23:50,967 INFO status has been updated to accepted\n",
      "2025-04-08 15:23:56,362 INFO status has been updated to running\n",
      "2025-04-08 15:23:59,935 INFO status has been updated to successful\n"
     ]
    },
    {
     "data": {
      "application/vnd.jupyter.widget-view+json": {
       "model_id": "dcd82e5292f043b9bb0bff3d0baf7f98",
       "version_major": 2,
       "version_minor": 0
      },
      "text/plain": [
       "544c4839eafbee69f2628492a1b7c326.nc:   0%|          | 0.00/636k [00:00<?, ?B/s]"
      ]
     },
     "metadata": {},
     "output_type": "display_data"
    },
    {
     "name": "stderr",
     "output_type": "stream",
     "text": [
      "2025-04-08 15:24:39,895 INFO Request ID is 70c246e0-b9eb-414b-a63b-b43bd242b998\n",
      "2025-04-08 15:24:40,108 INFO status has been updated to accepted\n",
      "2025-04-08 15:24:49,049 INFO status has been updated to running\n",
      "2025-04-08 15:24:54,331 INFO status has been updated to successful\n"
     ]
    },
    {
     "data": {
      "application/vnd.jupyter.widget-view+json": {
       "model_id": "061702c267144cefaf3d8e0e7ddd5ad6",
       "version_major": 2,
       "version_minor": 0
      },
      "text/plain": [
       "234b3826cde81df9e4f41dc2dc784c08.nc:   0%|          | 0.00/631k [00:00<?, ?B/s]"
      ]
     },
     "metadata": {},
     "output_type": "display_data"
    },
    {
     "name": "stderr",
     "output_type": "stream",
     "text": [
      "2025-04-08 15:24:58,032 INFO Request ID is 29a35bb6-58e3-43df-a6eb-953b45aca6a4\n",
      "2025-04-08 15:24:58,223 INFO status has been updated to accepted\n",
      "2025-04-08 15:25:07,137 INFO status has been updated to running\n",
      "2025-04-08 15:25:12,396 INFO status has been updated to successful\n"
     ]
    },
    {
     "data": {
      "application/vnd.jupyter.widget-view+json": {
       "model_id": "2b1592ca50844787bcb31ab9b3637e75",
       "version_major": 2,
       "version_minor": 0
      },
      "text/plain": [
       "d5443633976c23943bab05c7fedb5c0f.nc:   0%|          | 0.00/635k [00:00<?, ?B/s]"
      ]
     },
     "metadata": {},
     "output_type": "display_data"
    },
    {
     "name": "stderr",
     "output_type": "stream",
     "text": [
      "2025-04-08 15:25:24,917 INFO Request ID is 86ff7416-7008-43ac-b6db-33f2ffeb4566\n",
      "2025-04-08 15:25:25,109 INFO status has been updated to accepted\n",
      "2025-04-08 15:25:30,459 INFO status has been updated to running\n",
      "2025-04-08 15:25:39,347 INFO status has been updated to successful\n"
     ]
    },
    {
     "data": {
      "application/vnd.jupyter.widget-view+json": {
       "model_id": "2299dbb3e22347a5b0f39cbf25c99b0f",
       "version_major": 2,
       "version_minor": 0
      },
      "text/plain": [
       "26cb3078411fb515c35fb63ffbf717b9.nc:   0%|          | 0.00/639k [00:00<?, ?B/s]"
      ]
     },
     "metadata": {},
     "output_type": "display_data"
    },
    {
     "name": "stderr",
     "output_type": "stream",
     "text": [
      "2025-04-08 15:25:42,908 INFO Request ID is ccad7f12-9411-434a-9aea-0ced844aabfa\n",
      "2025-04-08 15:25:43,127 INFO status has been updated to accepted\n",
      "2025-04-08 15:25:52,050 INFO status has been updated to running\n",
      "2025-04-08 15:26:16,719 INFO status has been updated to successful\n"
     ]
    },
    {
     "data": {
      "application/vnd.jupyter.widget-view+json": {
       "model_id": "74f4925dedab42459b60130dd2a04ab0",
       "version_major": 2,
       "version_minor": 0
      },
      "text/plain": [
       "162e20ba62ba1e232d8e07ff2eb9fbb2.nc:   0%|          | 0.00/640k [00:00<?, ?B/s]"
      ]
     },
     "metadata": {},
     "output_type": "display_data"
    },
    {
     "name": "stderr",
     "output_type": "stream",
     "text": [
      "2025-04-08 15:26:59,556 INFO Request ID is 8c205077-7872-436b-a9f4-39d4258d5163\n",
      "2025-04-08 15:26:59,769 INFO status has been updated to accepted\n",
      "2025-04-08 15:27:08,859 INFO status has been updated to running\n",
      "2025-04-08 15:27:14,151 INFO status has been updated to successful\n"
     ]
    },
    {
     "data": {
      "application/vnd.jupyter.widget-view+json": {
       "model_id": "4d8764783e3e4993844cca7153446fae",
       "version_major": 2,
       "version_minor": 0
      },
      "text/plain": [
       "bbc57bf3349de7a3f731792a04916904.nc:   0%|          | 0.00/637k [00:00<?, ?B/s]"
      ]
     },
     "metadata": {},
     "output_type": "display_data"
    },
    {
     "name": "stderr",
     "output_type": "stream",
     "text": [
      "2025-04-08 15:27:18,072 INFO Request ID is c9863dc9-be86-40e3-909d-2cf93bb4c97f\n",
      "2025-04-08 15:27:18,274 INFO status has been updated to accepted\n",
      "2025-04-08 15:27:27,212 INFO status has been updated to running\n",
      "2025-04-08 15:27:51,856 INFO status has been updated to successful\n"
     ]
    },
    {
     "data": {
      "application/vnd.jupyter.widget-view+json": {
       "model_id": "da8ad612da4840d3b9b4c89bab3aade0",
       "version_major": 2,
       "version_minor": 0
      },
      "text/plain": [
       "91272f6a639344b154a558f5e7614770.nc:   0%|          | 0.00/628k [00:00<?, ?B/s]"
      ]
     },
     "metadata": {},
     "output_type": "display_data"
    }
   ],
   "source": [
    "c = cdsapi.Client()\n",
    "\n",
    "def retrieve_era5():\n",
    "    \"\"\"      \n",
    "       A function to demonstrate how to iterate efficiently over several years and months etc    \n",
    "       for a particular interim_request.     \n",
    "       Change the variables below to adapt the iteration to your needs.\n",
    "       You can use the variable 'target' to organise the requested data in files as you wish.\n",
    "       In the example below the data are organised in files per month. (eg \"interim_daily_201510.grb\")\n",
    "    \"\"\"\n",
    "    yearStart = 2020\n",
    "    yearEnd = 2020\n",
    "    monthStart = 3\n",
    "    monthEnd = 4\n",
    "    dayStart = 1\n",
    "    dayEnd = 30\n",
    "    for year in list(range(yearStart, yearEnd + 1)):\n",
    "        for month in list(range(monthStart, monthEnd + 1)):\n",
    "            for day in list(range(dayStart, dayEnd + 1)):\n",
    "                startDy = '%02d' % (day)\n",
    "                startMo = '%02d' % (month)\n",
    "                startYr = '%04d' % (year)\n",
    "                target = \"/home/jovyan/tmp/era5_SWE_%04d%02d%02d.nc\" % (year, month, day)\n",
    "                era5_request(startYr, startMo, startDy, target)\n",
    "\n",
    "def era5_request(startYr, startMo, startDy, target):\n",
    "    \"\"\"      \n",
    "        An ERA-5 request for analysis pressure level data.\n",
    "        Change the keywords below to adapt it to your needs.\n",
    "        (eg to add or to remove  levels, parameters, times etc)\n",
    "        Request cost per day is 112 fields, 14.2326 Mbytes\n",
    "    \"\"\"\n",
    "    c.retrieve(\n",
    "    'reanalysis-era5-single-levels',\n",
    "    {\n",
    "        'product_type':['reanalysis'],\n",
    "        'data_format':'netcdf',\n",
    "        'variable':['snow_depth', 'snow_density'],\n",
    "        'year':[startYr],\n",
    "        'month':[startMo],\n",
    "        'day':[startDy],\n",
    "        'time':['12:00']\n",
    "    },\n",
    "    target)\n",
    "        \n",
    "if __name__ == '__main__':\n",
    "    retrieve_era5()"
   ]
  },
  {
   "cell_type": "markdown",
   "id": "8ddc7e52-b22d-40fa-a6c7-8d95de61b62c",
   "metadata": {},
   "source": []
  },
  {
   "cell_type": "code",
   "execution_count": 9,
   "id": "ead95b35-5789-4a54-852b-e922c8216600",
   "metadata": {},
   "outputs": [],
   "source": [
    "import netCDF4 as netcdf\n",
    "import xarray as xr\n",
    "import rioxarray as rxr\n",
    "\n",
    "from os import listdir\n",
    "from os.path import isfile, join"
   ]
  },
  {
   "cell_type": "code",
   "execution_count": 12,
   "id": "ed50f234-35b7-41fa-8666-505a2193f094",
   "metadata": {},
   "outputs": [],
   "source": [
    "tmp_path = \"/home/jovyan/tmp/\"\n",
    "era5_files = [join(tmp_path,f) for f in listdir(tmp_path) if isfile(join(tmp_path, f))]"
   ]
  },
  {
   "cell_type": "code",
   "execution_count": 16,
   "id": "6b463508-6676-471e-b527-cc27a8f8d048",
   "metadata": {},
   "outputs": [
    {
     "data": {
      "text/plain": [
       "61"
      ]
     },
     "execution_count": 16,
     "metadata": {},
     "output_type": "execute_result"
    }
   ],
   "source": [
    "len(era5_files)"
   ]
  },
  {
   "cell_type": "code",
   "execution_count": 18,
   "id": "4a7dc1e0-f90a-4ce5-98ad-ebfac0b0b2de",
   "metadata": {
    "scrolled": true
   },
   "outputs": [
    {
     "data": {
      "text/html": [
       "<div><svg style=\"position: absolute; width: 0; height: 0; overflow: hidden\">\n",
       "<defs>\n",
       "<symbol id=\"icon-database\" viewBox=\"0 0 32 32\">\n",
       "<path d=\"M16 0c-8.837 0-16 2.239-16 5v4c0 2.761 7.163 5 16 5s16-2.239 16-5v-4c0-2.761-7.163-5-16-5z\"></path>\n",
       "<path d=\"M16 17c-8.837 0-16-2.239-16-5v6c0 2.761 7.163 5 16 5s16-2.239 16-5v-6c0 2.761-7.163 5-16 5z\"></path>\n",
       "<path d=\"M16 26c-8.837 0-16-2.239-16-5v6c0 2.761 7.163 5 16 5s16-2.239 16-5v-6c0 2.761-7.163 5-16 5z\"></path>\n",
       "</symbol>\n",
       "<symbol id=\"icon-file-text2\" viewBox=\"0 0 32 32\">\n",
       "<path d=\"M28.681 7.159c-0.694-0.947-1.662-2.053-2.724-3.116s-2.169-2.030-3.116-2.724c-1.612-1.182-2.393-1.319-2.841-1.319h-15.5c-1.378 0-2.5 1.121-2.5 2.5v27c0 1.378 1.122 2.5 2.5 2.5h23c1.378 0 2.5-1.122 2.5-2.5v-19.5c0-0.448-0.137-1.23-1.319-2.841zM24.543 5.457c0.959 0.959 1.712 1.825 2.268 2.543h-4.811v-4.811c0.718 0.556 1.584 1.309 2.543 2.268zM28 29.5c0 0.271-0.229 0.5-0.5 0.5h-23c-0.271 0-0.5-0.229-0.5-0.5v-27c0-0.271 0.229-0.5 0.5-0.5 0 0 15.499-0 15.5 0v7c0 0.552 0.448 1 1 1h7v19.5z\"></path>\n",
       "<path d=\"M23 26h-14c-0.552 0-1-0.448-1-1s0.448-1 1-1h14c0.552 0 1 0.448 1 1s-0.448 1-1 1z\"></path>\n",
       "<path d=\"M23 22h-14c-0.552 0-1-0.448-1-1s0.448-1 1-1h14c0.552 0 1 0.448 1 1s-0.448 1-1 1z\"></path>\n",
       "<path d=\"M23 18h-14c-0.552 0-1-0.448-1-1s0.448-1 1-1h14c0.552 0 1 0.448 1 1s-0.448 1-1 1z\"></path>\n",
       "</symbol>\n",
       "</defs>\n",
       "</svg>\n",
       "<style>/* CSS stylesheet for displaying xarray objects in jupyterlab.\n",
       " *\n",
       " */\n",
       "\n",
       ":root {\n",
       "  --xr-font-color0: var(--jp-content-font-color0, rgba(0, 0, 0, 1));\n",
       "  --xr-font-color2: var(--jp-content-font-color2, rgba(0, 0, 0, 0.54));\n",
       "  --xr-font-color3: var(--jp-content-font-color3, rgba(0, 0, 0, 0.38));\n",
       "  --xr-border-color: var(--jp-border-color2, #e0e0e0);\n",
       "  --xr-disabled-color: var(--jp-layout-color3, #bdbdbd);\n",
       "  --xr-background-color: var(--jp-layout-color0, white);\n",
       "  --xr-background-color-row-even: var(--jp-layout-color1, white);\n",
       "  --xr-background-color-row-odd: var(--jp-layout-color2, #eeeeee);\n",
       "}\n",
       "\n",
       "html[theme=dark],\n",
       "html[data-theme=dark],\n",
       "body[data-theme=dark],\n",
       "body.vscode-dark {\n",
       "  --xr-font-color0: rgba(255, 255, 255, 1);\n",
       "  --xr-font-color2: rgba(255, 255, 255, 0.54);\n",
       "  --xr-font-color3: rgba(255, 255, 255, 0.38);\n",
       "  --xr-border-color: #1F1F1F;\n",
       "  --xr-disabled-color: #515151;\n",
       "  --xr-background-color: #111111;\n",
       "  --xr-background-color-row-even: #111111;\n",
       "  --xr-background-color-row-odd: #313131;\n",
       "}\n",
       "\n",
       ".xr-wrap {\n",
       "  display: block !important;\n",
       "  min-width: 300px;\n",
       "  max-width: 700px;\n",
       "}\n",
       "\n",
       ".xr-text-repr-fallback {\n",
       "  /* fallback to plain text repr when CSS is not injected (untrusted notebook) */\n",
       "  display: none;\n",
       "}\n",
       "\n",
       ".xr-header {\n",
       "  padding-top: 6px;\n",
       "  padding-bottom: 6px;\n",
       "  margin-bottom: 4px;\n",
       "  border-bottom: solid 1px var(--xr-border-color);\n",
       "}\n",
       "\n",
       ".xr-header > div,\n",
       ".xr-header > ul {\n",
       "  display: inline;\n",
       "  margin-top: 0;\n",
       "  margin-bottom: 0;\n",
       "}\n",
       "\n",
       ".xr-obj-type,\n",
       ".xr-array-name {\n",
       "  margin-left: 2px;\n",
       "  margin-right: 10px;\n",
       "}\n",
       "\n",
       ".xr-obj-type {\n",
       "  color: var(--xr-font-color2);\n",
       "}\n",
       "\n",
       ".xr-sections {\n",
       "  padding-left: 0 !important;\n",
       "  display: grid;\n",
       "  grid-template-columns: 150px auto auto 1fr 20px 20px;\n",
       "}\n",
       "\n",
       ".xr-section-item {\n",
       "  display: contents;\n",
       "}\n",
       "\n",
       ".xr-section-item input {\n",
       "  display: none;\n",
       "}\n",
       "\n",
       ".xr-section-item input + label {\n",
       "  color: var(--xr-disabled-color);\n",
       "}\n",
       "\n",
       ".xr-section-item input:enabled + label {\n",
       "  cursor: pointer;\n",
       "  color: var(--xr-font-color2);\n",
       "}\n",
       "\n",
       ".xr-section-item input:enabled + label:hover {\n",
       "  color: var(--xr-font-color0);\n",
       "}\n",
       "\n",
       ".xr-section-summary {\n",
       "  grid-column: 1;\n",
       "  color: var(--xr-font-color2);\n",
       "  font-weight: 500;\n",
       "}\n",
       "\n",
       ".xr-section-summary > span {\n",
       "  display: inline-block;\n",
       "  padding-left: 0.5em;\n",
       "}\n",
       "\n",
       ".xr-section-summary-in:disabled + label {\n",
       "  color: var(--xr-font-color2);\n",
       "}\n",
       "\n",
       ".xr-section-summary-in + label:before {\n",
       "  display: inline-block;\n",
       "  content: '►';\n",
       "  font-size: 11px;\n",
       "  width: 15px;\n",
       "  text-align: center;\n",
       "}\n",
       "\n",
       ".xr-section-summary-in:disabled + label:before {\n",
       "  color: var(--xr-disabled-color);\n",
       "}\n",
       "\n",
       ".xr-section-summary-in:checked + label:before {\n",
       "  content: '▼';\n",
       "}\n",
       "\n",
       ".xr-section-summary-in:checked + label > span {\n",
       "  display: none;\n",
       "}\n",
       "\n",
       ".xr-section-summary,\n",
       ".xr-section-inline-details {\n",
       "  padding-top: 4px;\n",
       "  padding-bottom: 4px;\n",
       "}\n",
       "\n",
       ".xr-section-inline-details {\n",
       "  grid-column: 2 / -1;\n",
       "}\n",
       "\n",
       ".xr-section-details {\n",
       "  display: none;\n",
       "  grid-column: 1 / -1;\n",
       "  margin-bottom: 5px;\n",
       "}\n",
       "\n",
       ".xr-section-summary-in:checked ~ .xr-section-details {\n",
       "  display: contents;\n",
       "}\n",
       "\n",
       ".xr-array-wrap {\n",
       "  grid-column: 1 / -1;\n",
       "  display: grid;\n",
       "  grid-template-columns: 20px auto;\n",
       "}\n",
       "\n",
       ".xr-array-wrap > label {\n",
       "  grid-column: 1;\n",
       "  vertical-align: top;\n",
       "}\n",
       "\n",
       ".xr-preview {\n",
       "  color: var(--xr-font-color3);\n",
       "}\n",
       "\n",
       ".xr-array-preview,\n",
       ".xr-array-data {\n",
       "  padding: 0 5px !important;\n",
       "  grid-column: 2;\n",
       "}\n",
       "\n",
       ".xr-array-data,\n",
       ".xr-array-in:checked ~ .xr-array-preview {\n",
       "  display: none;\n",
       "}\n",
       "\n",
       ".xr-array-in:checked ~ .xr-array-data,\n",
       ".xr-array-preview {\n",
       "  display: inline-block;\n",
       "}\n",
       "\n",
       ".xr-dim-list {\n",
       "  display: inline-block !important;\n",
       "  list-style: none;\n",
       "  padding: 0 !important;\n",
       "  margin: 0;\n",
       "}\n",
       "\n",
       ".xr-dim-list li {\n",
       "  display: inline-block;\n",
       "  padding: 0;\n",
       "  margin: 0;\n",
       "}\n",
       "\n",
       ".xr-dim-list:before {\n",
       "  content: '(';\n",
       "}\n",
       "\n",
       ".xr-dim-list:after {\n",
       "  content: ')';\n",
       "}\n",
       "\n",
       ".xr-dim-list li:not(:last-child):after {\n",
       "  content: ',';\n",
       "  padding-right: 5px;\n",
       "}\n",
       "\n",
       ".xr-has-index {\n",
       "  font-weight: bold;\n",
       "}\n",
       "\n",
       ".xr-var-list,\n",
       ".xr-var-item {\n",
       "  display: contents;\n",
       "}\n",
       "\n",
       ".xr-var-item > div,\n",
       ".xr-var-item label,\n",
       ".xr-var-item > .xr-var-name span {\n",
       "  background-color: var(--xr-background-color-row-even);\n",
       "  margin-bottom: 0;\n",
       "}\n",
       "\n",
       ".xr-var-item > .xr-var-name:hover span {\n",
       "  padding-right: 5px;\n",
       "}\n",
       "\n",
       ".xr-var-list > li:nth-child(odd) > div,\n",
       ".xr-var-list > li:nth-child(odd) > label,\n",
       ".xr-var-list > li:nth-child(odd) > .xr-var-name span {\n",
       "  background-color: var(--xr-background-color-row-odd);\n",
       "}\n",
       "\n",
       ".xr-var-name {\n",
       "  grid-column: 1;\n",
       "}\n",
       "\n",
       ".xr-var-dims {\n",
       "  grid-column: 2;\n",
       "}\n",
       "\n",
       ".xr-var-dtype {\n",
       "  grid-column: 3;\n",
       "  text-align: right;\n",
       "  color: var(--xr-font-color2);\n",
       "}\n",
       "\n",
       ".xr-var-preview {\n",
       "  grid-column: 4;\n",
       "}\n",
       "\n",
       ".xr-index-preview {\n",
       "  grid-column: 2 / 5;\n",
       "  color: var(--xr-font-color2);\n",
       "}\n",
       "\n",
       ".xr-var-name,\n",
       ".xr-var-dims,\n",
       ".xr-var-dtype,\n",
       ".xr-preview,\n",
       ".xr-attrs dt {\n",
       "  white-space: nowrap;\n",
       "  overflow: hidden;\n",
       "  text-overflow: ellipsis;\n",
       "  padding-right: 10px;\n",
       "}\n",
       "\n",
       ".xr-var-name:hover,\n",
       ".xr-var-dims:hover,\n",
       ".xr-var-dtype:hover,\n",
       ".xr-attrs dt:hover {\n",
       "  overflow: visible;\n",
       "  width: auto;\n",
       "  z-index: 1;\n",
       "}\n",
       "\n",
       ".xr-var-attrs,\n",
       ".xr-var-data,\n",
       ".xr-index-data {\n",
       "  display: none;\n",
       "  background-color: var(--xr-background-color) !important;\n",
       "  padding-bottom: 5px !important;\n",
       "}\n",
       "\n",
       ".xr-var-attrs-in:checked ~ .xr-var-attrs,\n",
       ".xr-var-data-in:checked ~ .xr-var-data,\n",
       ".xr-index-data-in:checked ~ .xr-index-data {\n",
       "  display: block;\n",
       "}\n",
       "\n",
       ".xr-var-data > table {\n",
       "  float: right;\n",
       "}\n",
       "\n",
       ".xr-var-name span,\n",
       ".xr-var-data,\n",
       ".xr-index-name div,\n",
       ".xr-index-data,\n",
       ".xr-attrs {\n",
       "  padding-left: 25px !important;\n",
       "}\n",
       "\n",
       ".xr-attrs,\n",
       ".xr-var-attrs,\n",
       ".xr-var-data,\n",
       ".xr-index-data {\n",
       "  grid-column: 1 / -1;\n",
       "}\n",
       "\n",
       "dl.xr-attrs {\n",
       "  padding: 0;\n",
       "  margin: 0;\n",
       "  display: grid;\n",
       "  grid-template-columns: 125px auto;\n",
       "}\n",
       "\n",
       ".xr-attrs dt,\n",
       ".xr-attrs dd {\n",
       "  padding: 0;\n",
       "  margin: 0;\n",
       "  float: left;\n",
       "  padding-right: 10px;\n",
       "  width: auto;\n",
       "}\n",
       "\n",
       ".xr-attrs dt {\n",
       "  font-weight: normal;\n",
       "  grid-column: 1;\n",
       "}\n",
       "\n",
       ".xr-attrs dt:hover span {\n",
       "  display: inline-block;\n",
       "  background: var(--xr-background-color);\n",
       "  padding-right: 10px;\n",
       "}\n",
       "\n",
       ".xr-attrs dd {\n",
       "  grid-column: 2;\n",
       "  white-space: pre-wrap;\n",
       "  word-break: break-all;\n",
       "}\n",
       "\n",
       ".xr-icon-database,\n",
       ".xr-icon-file-text2,\n",
       ".xr-no-icon {\n",
       "  display: inline-block;\n",
       "  vertical-align: middle;\n",
       "  width: 1em;\n",
       "  height: 1.5em !important;\n",
       "  stroke-width: 0;\n",
       "  stroke: currentColor;\n",
       "  fill: currentColor;\n",
       "}\n",
       "</style><pre class='xr-text-repr-fallback'>&lt;xarray.DataArray &#x27;valid_time&#x27; (valid_time: 61)&gt; Size: 488B\n",
       "array([&#x27;2020-03-01T12:00:00.000000000&#x27;, &#x27;2020-03-02T12:00:00.000000000&#x27;,\n",
       "       &#x27;2020-03-03T12:00:00.000000000&#x27;, &#x27;2020-03-04T12:00:00.000000000&#x27;,\n",
       "       &#x27;2020-03-05T12:00:00.000000000&#x27;, &#x27;2020-03-06T12:00:00.000000000&#x27;,\n",
       "       &#x27;2020-03-07T12:00:00.000000000&#x27;, &#x27;2020-03-08T12:00:00.000000000&#x27;,\n",
       "       &#x27;2020-03-09T12:00:00.000000000&#x27;, &#x27;2020-03-10T12:00:00.000000000&#x27;,\n",
       "       &#x27;2020-03-11T12:00:00.000000000&#x27;, &#x27;2020-03-12T12:00:00.000000000&#x27;,\n",
       "       &#x27;2020-03-13T12:00:00.000000000&#x27;, &#x27;2020-03-14T12:00:00.000000000&#x27;,\n",
       "       &#x27;2020-03-15T12:00:00.000000000&#x27;, &#x27;2020-03-16T12:00:00.000000000&#x27;,\n",
       "       &#x27;2020-03-17T12:00:00.000000000&#x27;, &#x27;2020-03-18T12:00:00.000000000&#x27;,\n",
       "       &#x27;2020-03-19T12:00:00.000000000&#x27;, &#x27;2020-03-20T12:00:00.000000000&#x27;,\n",
       "       &#x27;2020-03-21T12:00:00.000000000&#x27;, &#x27;2020-03-22T12:00:00.000000000&#x27;,\n",
       "       &#x27;2020-03-23T12:00:00.000000000&#x27;, &#x27;2020-03-24T12:00:00.000000000&#x27;,\n",
       "       &#x27;2020-03-25T12:00:00.000000000&#x27;, &#x27;2020-03-26T12:00:00.000000000&#x27;,\n",
       "       &#x27;2020-03-27T12:00:00.000000000&#x27;, &#x27;2020-03-28T12:00:00.000000000&#x27;,\n",
       "       &#x27;2020-03-29T12:00:00.000000000&#x27;, &#x27;2020-03-30T12:00:00.000000000&#x27;,\n",
       "       &#x27;2020-03-31T12:00:00.000000000&#x27;, &#x27;2020-04-01T12:00:00.000000000&#x27;,\n",
       "       &#x27;2020-04-02T12:00:00.000000000&#x27;, &#x27;2020-04-03T12:00:00.000000000&#x27;,\n",
       "       &#x27;2020-04-04T12:00:00.000000000&#x27;, &#x27;2020-04-05T12:00:00.000000000&#x27;,\n",
       "       &#x27;2020-04-06T12:00:00.000000000&#x27;, &#x27;2020-04-07T12:00:00.000000000&#x27;,\n",
       "       &#x27;2020-04-08T12:00:00.000000000&#x27;, &#x27;2020-04-09T12:00:00.000000000&#x27;,\n",
       "       &#x27;2020-04-10T12:00:00.000000000&#x27;, &#x27;2020-04-11T12:00:00.000000000&#x27;,\n",
       "       &#x27;2020-04-12T12:00:00.000000000&#x27;, &#x27;2020-04-13T12:00:00.000000000&#x27;,\n",
       "       &#x27;2020-04-14T12:00:00.000000000&#x27;, &#x27;2020-04-15T12:00:00.000000000&#x27;,\n",
       "       &#x27;2020-04-16T12:00:00.000000000&#x27;, &#x27;2020-04-17T12:00:00.000000000&#x27;,\n",
       "       &#x27;2020-04-18T12:00:00.000000000&#x27;, &#x27;2020-04-19T12:00:00.000000000&#x27;,\n",
       "       &#x27;2020-04-20T12:00:00.000000000&#x27;, &#x27;2020-04-21T12:00:00.000000000&#x27;,\n",
       "       &#x27;2020-04-22T12:00:00.000000000&#x27;, &#x27;2020-04-23T12:00:00.000000000&#x27;,\n",
       "       &#x27;2020-04-24T12:00:00.000000000&#x27;, &#x27;2020-04-25T12:00:00.000000000&#x27;,\n",
       "       &#x27;2020-04-26T12:00:00.000000000&#x27;, &#x27;2020-04-27T12:00:00.000000000&#x27;,\n",
       "       &#x27;2020-04-28T12:00:00.000000000&#x27;, &#x27;2020-04-29T12:00:00.000000000&#x27;,\n",
       "       &#x27;2020-04-30T12:00:00.000000000&#x27;], dtype=&#x27;datetime64[ns]&#x27;)\n",
       "Coordinates:\n",
       "    number      int64 8B 0\n",
       "  * valid_time  (valid_time) datetime64[ns] 488B 2020-03-01T12:00:00 ... 2020...\n",
       "    expver      &lt;U4 16B &#x27;0001&#x27;\n",
       "Attributes:\n",
       "    long_name:      time\n",
       "    standard_name:  time</pre><div class='xr-wrap' style='display:none'><div class='xr-header'><div class='xr-obj-type'>xarray.DataArray</div><div class='xr-array-name'>'valid_time'</div><ul class='xr-dim-list'><li><span class='xr-has-index'>valid_time</span>: 61</li></ul></div><ul class='xr-sections'><li class='xr-section-item'><div class='xr-array-wrap'><input id='section-18354b95-1078-4e80-ac64-4f9ef2dad922' class='xr-array-in' type='checkbox' checked><label for='section-18354b95-1078-4e80-ac64-4f9ef2dad922' title='Show/hide data repr'><svg class='icon xr-icon-database'><use xlink:href='#icon-database'></use></svg></label><div class='xr-array-preview xr-preview'><span>2020-03-01T12:00:00 2020-03-02T12:00:00 ... 2020-04-30T12:00:00</span></div><div class='xr-array-data'><pre>array([&#x27;2020-03-01T12:00:00.000000000&#x27;, &#x27;2020-03-02T12:00:00.000000000&#x27;,\n",
       "       &#x27;2020-03-03T12:00:00.000000000&#x27;, &#x27;2020-03-04T12:00:00.000000000&#x27;,\n",
       "       &#x27;2020-03-05T12:00:00.000000000&#x27;, &#x27;2020-03-06T12:00:00.000000000&#x27;,\n",
       "       &#x27;2020-03-07T12:00:00.000000000&#x27;, &#x27;2020-03-08T12:00:00.000000000&#x27;,\n",
       "       &#x27;2020-03-09T12:00:00.000000000&#x27;, &#x27;2020-03-10T12:00:00.000000000&#x27;,\n",
       "       &#x27;2020-03-11T12:00:00.000000000&#x27;, &#x27;2020-03-12T12:00:00.000000000&#x27;,\n",
       "       &#x27;2020-03-13T12:00:00.000000000&#x27;, &#x27;2020-03-14T12:00:00.000000000&#x27;,\n",
       "       &#x27;2020-03-15T12:00:00.000000000&#x27;, &#x27;2020-03-16T12:00:00.000000000&#x27;,\n",
       "       &#x27;2020-03-17T12:00:00.000000000&#x27;, &#x27;2020-03-18T12:00:00.000000000&#x27;,\n",
       "       &#x27;2020-03-19T12:00:00.000000000&#x27;, &#x27;2020-03-20T12:00:00.000000000&#x27;,\n",
       "       &#x27;2020-03-21T12:00:00.000000000&#x27;, &#x27;2020-03-22T12:00:00.000000000&#x27;,\n",
       "       &#x27;2020-03-23T12:00:00.000000000&#x27;, &#x27;2020-03-24T12:00:00.000000000&#x27;,\n",
       "       &#x27;2020-03-25T12:00:00.000000000&#x27;, &#x27;2020-03-26T12:00:00.000000000&#x27;,\n",
       "       &#x27;2020-03-27T12:00:00.000000000&#x27;, &#x27;2020-03-28T12:00:00.000000000&#x27;,\n",
       "       &#x27;2020-03-29T12:00:00.000000000&#x27;, &#x27;2020-03-30T12:00:00.000000000&#x27;,\n",
       "       &#x27;2020-03-31T12:00:00.000000000&#x27;, &#x27;2020-04-01T12:00:00.000000000&#x27;,\n",
       "       &#x27;2020-04-02T12:00:00.000000000&#x27;, &#x27;2020-04-03T12:00:00.000000000&#x27;,\n",
       "       &#x27;2020-04-04T12:00:00.000000000&#x27;, &#x27;2020-04-05T12:00:00.000000000&#x27;,\n",
       "       &#x27;2020-04-06T12:00:00.000000000&#x27;, &#x27;2020-04-07T12:00:00.000000000&#x27;,\n",
       "       &#x27;2020-04-08T12:00:00.000000000&#x27;, &#x27;2020-04-09T12:00:00.000000000&#x27;,\n",
       "       &#x27;2020-04-10T12:00:00.000000000&#x27;, &#x27;2020-04-11T12:00:00.000000000&#x27;,\n",
       "       &#x27;2020-04-12T12:00:00.000000000&#x27;, &#x27;2020-04-13T12:00:00.000000000&#x27;,\n",
       "       &#x27;2020-04-14T12:00:00.000000000&#x27;, &#x27;2020-04-15T12:00:00.000000000&#x27;,\n",
       "       &#x27;2020-04-16T12:00:00.000000000&#x27;, &#x27;2020-04-17T12:00:00.000000000&#x27;,\n",
       "       &#x27;2020-04-18T12:00:00.000000000&#x27;, &#x27;2020-04-19T12:00:00.000000000&#x27;,\n",
       "       &#x27;2020-04-20T12:00:00.000000000&#x27;, &#x27;2020-04-21T12:00:00.000000000&#x27;,\n",
       "       &#x27;2020-04-22T12:00:00.000000000&#x27;, &#x27;2020-04-23T12:00:00.000000000&#x27;,\n",
       "       &#x27;2020-04-24T12:00:00.000000000&#x27;, &#x27;2020-04-25T12:00:00.000000000&#x27;,\n",
       "       &#x27;2020-04-26T12:00:00.000000000&#x27;, &#x27;2020-04-27T12:00:00.000000000&#x27;,\n",
       "       &#x27;2020-04-28T12:00:00.000000000&#x27;, &#x27;2020-04-29T12:00:00.000000000&#x27;,\n",
       "       &#x27;2020-04-30T12:00:00.000000000&#x27;], dtype=&#x27;datetime64[ns]&#x27;)</pre></div></div></li><li class='xr-section-item'><input id='section-59e2da7c-7ca0-49a5-9f1a-2b0e7ff59265' class='xr-section-summary-in' type='checkbox'  checked><label for='section-59e2da7c-7ca0-49a5-9f1a-2b0e7ff59265' class='xr-section-summary' >Coordinates: <span>(3)</span></label><div class='xr-section-inline-details'></div><div class='xr-section-details'><ul class='xr-var-list'><li class='xr-var-item'><div class='xr-var-name'><span>number</span></div><div class='xr-var-dims'>()</div><div class='xr-var-dtype'>int64</div><div class='xr-var-preview xr-preview'>0</div><input id='attrs-0973bd4e-74c3-4d15-9989-6a9793c2f533' class='xr-var-attrs-in' type='checkbox' ><label for='attrs-0973bd4e-74c3-4d15-9989-6a9793c2f533' title='Show/Hide attributes'><svg class='icon xr-icon-file-text2'><use xlink:href='#icon-file-text2'></use></svg></label><input id='data-bc083009-f658-4282-a469-8f1df62dd677' class='xr-var-data-in' type='checkbox'><label for='data-bc083009-f658-4282-a469-8f1df62dd677' title='Show/Hide data repr'><svg class='icon xr-icon-database'><use xlink:href='#icon-database'></use></svg></label><div class='xr-var-attrs'><dl class='xr-attrs'><dt><span>long_name :</span></dt><dd>ensemble member numerical id</dd><dt><span>units :</span></dt><dd>1</dd><dt><span>standard_name :</span></dt><dd>realization</dd></dl></div><div class='xr-var-data'><pre>array(0)</pre></div></li><li class='xr-var-item'><div class='xr-var-name'><span class='xr-has-index'>valid_time</span></div><div class='xr-var-dims'>(valid_time)</div><div class='xr-var-dtype'>datetime64[ns]</div><div class='xr-var-preview xr-preview'>2020-03-01T12:00:00 ... 2020-04-...</div><input id='attrs-8e08d7be-2569-4ccc-87cb-98a90d012b39' class='xr-var-attrs-in' type='checkbox' ><label for='attrs-8e08d7be-2569-4ccc-87cb-98a90d012b39' title='Show/Hide attributes'><svg class='icon xr-icon-file-text2'><use xlink:href='#icon-file-text2'></use></svg></label><input id='data-bbae6615-08fe-46fb-8e28-89dc593c077f' class='xr-var-data-in' type='checkbox'><label for='data-bbae6615-08fe-46fb-8e28-89dc593c077f' title='Show/Hide data repr'><svg class='icon xr-icon-database'><use xlink:href='#icon-database'></use></svg></label><div class='xr-var-attrs'><dl class='xr-attrs'><dt><span>long_name :</span></dt><dd>time</dd><dt><span>standard_name :</span></dt><dd>time</dd></dl></div><div class='xr-var-data'><pre>array([&#x27;2020-03-01T12:00:00.000000000&#x27;, &#x27;2020-03-02T12:00:00.000000000&#x27;,\n",
       "       &#x27;2020-03-03T12:00:00.000000000&#x27;, &#x27;2020-03-04T12:00:00.000000000&#x27;,\n",
       "       &#x27;2020-03-05T12:00:00.000000000&#x27;, &#x27;2020-03-06T12:00:00.000000000&#x27;,\n",
       "       &#x27;2020-03-07T12:00:00.000000000&#x27;, &#x27;2020-03-08T12:00:00.000000000&#x27;,\n",
       "       &#x27;2020-03-09T12:00:00.000000000&#x27;, &#x27;2020-03-10T12:00:00.000000000&#x27;,\n",
       "       &#x27;2020-03-11T12:00:00.000000000&#x27;, &#x27;2020-03-12T12:00:00.000000000&#x27;,\n",
       "       &#x27;2020-03-13T12:00:00.000000000&#x27;, &#x27;2020-03-14T12:00:00.000000000&#x27;,\n",
       "       &#x27;2020-03-15T12:00:00.000000000&#x27;, &#x27;2020-03-16T12:00:00.000000000&#x27;,\n",
       "       &#x27;2020-03-17T12:00:00.000000000&#x27;, &#x27;2020-03-18T12:00:00.000000000&#x27;,\n",
       "       &#x27;2020-03-19T12:00:00.000000000&#x27;, &#x27;2020-03-20T12:00:00.000000000&#x27;,\n",
       "       &#x27;2020-03-21T12:00:00.000000000&#x27;, &#x27;2020-03-22T12:00:00.000000000&#x27;,\n",
       "       &#x27;2020-03-23T12:00:00.000000000&#x27;, &#x27;2020-03-24T12:00:00.000000000&#x27;,\n",
       "       &#x27;2020-03-25T12:00:00.000000000&#x27;, &#x27;2020-03-26T12:00:00.000000000&#x27;,\n",
       "       &#x27;2020-03-27T12:00:00.000000000&#x27;, &#x27;2020-03-28T12:00:00.000000000&#x27;,\n",
       "       &#x27;2020-03-29T12:00:00.000000000&#x27;, &#x27;2020-03-30T12:00:00.000000000&#x27;,\n",
       "       &#x27;2020-03-31T12:00:00.000000000&#x27;, &#x27;2020-04-01T12:00:00.000000000&#x27;,\n",
       "       &#x27;2020-04-02T12:00:00.000000000&#x27;, &#x27;2020-04-03T12:00:00.000000000&#x27;,\n",
       "       &#x27;2020-04-04T12:00:00.000000000&#x27;, &#x27;2020-04-05T12:00:00.000000000&#x27;,\n",
       "       &#x27;2020-04-06T12:00:00.000000000&#x27;, &#x27;2020-04-07T12:00:00.000000000&#x27;,\n",
       "       &#x27;2020-04-08T12:00:00.000000000&#x27;, &#x27;2020-04-09T12:00:00.000000000&#x27;,\n",
       "       &#x27;2020-04-10T12:00:00.000000000&#x27;, &#x27;2020-04-11T12:00:00.000000000&#x27;,\n",
       "       &#x27;2020-04-12T12:00:00.000000000&#x27;, &#x27;2020-04-13T12:00:00.000000000&#x27;,\n",
       "       &#x27;2020-04-14T12:00:00.000000000&#x27;, &#x27;2020-04-15T12:00:00.000000000&#x27;,\n",
       "       &#x27;2020-04-16T12:00:00.000000000&#x27;, &#x27;2020-04-17T12:00:00.000000000&#x27;,\n",
       "       &#x27;2020-04-18T12:00:00.000000000&#x27;, &#x27;2020-04-19T12:00:00.000000000&#x27;,\n",
       "       &#x27;2020-04-20T12:00:00.000000000&#x27;, &#x27;2020-04-21T12:00:00.000000000&#x27;,\n",
       "       &#x27;2020-04-22T12:00:00.000000000&#x27;, &#x27;2020-04-23T12:00:00.000000000&#x27;,\n",
       "       &#x27;2020-04-24T12:00:00.000000000&#x27;, &#x27;2020-04-25T12:00:00.000000000&#x27;,\n",
       "       &#x27;2020-04-26T12:00:00.000000000&#x27;, &#x27;2020-04-27T12:00:00.000000000&#x27;,\n",
       "       &#x27;2020-04-28T12:00:00.000000000&#x27;, &#x27;2020-04-29T12:00:00.000000000&#x27;,\n",
       "       &#x27;2020-04-30T12:00:00.000000000&#x27;], dtype=&#x27;datetime64[ns]&#x27;)</pre></div></li><li class='xr-var-item'><div class='xr-var-name'><span>expver</span></div><div class='xr-var-dims'>()</div><div class='xr-var-dtype'>&lt;U4</div><div class='xr-var-preview xr-preview'>&#x27;0001&#x27;</div><input id='attrs-d6757f48-2ce9-4f2c-a59b-4468f3aa943e' class='xr-var-attrs-in' type='checkbox' disabled><label for='attrs-d6757f48-2ce9-4f2c-a59b-4468f3aa943e' title='Show/Hide attributes'><svg class='icon xr-icon-file-text2'><use xlink:href='#icon-file-text2'></use></svg></label><input id='data-f544ddf6-b0e5-4af5-8e62-b83ee66b2aa1' class='xr-var-data-in' type='checkbox'><label for='data-f544ddf6-b0e5-4af5-8e62-b83ee66b2aa1' title='Show/Hide data repr'><svg class='icon xr-icon-database'><use xlink:href='#icon-database'></use></svg></label><div class='xr-var-attrs'><dl class='xr-attrs'></dl></div><div class='xr-var-data'><pre>array(&#x27;0001&#x27;, dtype=&#x27;&lt;U4&#x27;)</pre></div></li></ul></div></li><li class='xr-section-item'><input id='section-5fb0a9ff-55d2-49d8-8e37-f5705f94b3fc' class='xr-section-summary-in' type='checkbox'  ><label for='section-5fb0a9ff-55d2-49d8-8e37-f5705f94b3fc' class='xr-section-summary' >Indexes: <span>(1)</span></label><div class='xr-section-inline-details'></div><div class='xr-section-details'><ul class='xr-var-list'><li class='xr-var-item'><div class='xr-index-name'><div>valid_time</div></div><div class='xr-index-preview'>PandasIndex</div><div></div><input id='index-119e0712-ac43-441a-a97a-90d050e3c25c' class='xr-index-data-in' type='checkbox'/><label for='index-119e0712-ac43-441a-a97a-90d050e3c25c' title='Show/Hide index repr'><svg class='icon xr-icon-database'><use xlink:href='#icon-database'></use></svg></label><div class='xr-index-data'><pre>PandasIndex(DatetimeIndex([&#x27;2020-03-01 12:00:00&#x27;, &#x27;2020-03-02 12:00:00&#x27;,\n",
       "               &#x27;2020-03-03 12:00:00&#x27;, &#x27;2020-03-04 12:00:00&#x27;,\n",
       "               &#x27;2020-03-05 12:00:00&#x27;, &#x27;2020-03-06 12:00:00&#x27;,\n",
       "               &#x27;2020-03-07 12:00:00&#x27;, &#x27;2020-03-08 12:00:00&#x27;,\n",
       "               &#x27;2020-03-09 12:00:00&#x27;, &#x27;2020-03-10 12:00:00&#x27;,\n",
       "               &#x27;2020-03-11 12:00:00&#x27;, &#x27;2020-03-12 12:00:00&#x27;,\n",
       "               &#x27;2020-03-13 12:00:00&#x27;, &#x27;2020-03-14 12:00:00&#x27;,\n",
       "               &#x27;2020-03-15 12:00:00&#x27;, &#x27;2020-03-16 12:00:00&#x27;,\n",
       "               &#x27;2020-03-17 12:00:00&#x27;, &#x27;2020-03-18 12:00:00&#x27;,\n",
       "               &#x27;2020-03-19 12:00:00&#x27;, &#x27;2020-03-20 12:00:00&#x27;,\n",
       "               &#x27;2020-03-21 12:00:00&#x27;, &#x27;2020-03-22 12:00:00&#x27;,\n",
       "               &#x27;2020-03-23 12:00:00&#x27;, &#x27;2020-03-24 12:00:00&#x27;,\n",
       "               &#x27;2020-03-25 12:00:00&#x27;, &#x27;2020-03-26 12:00:00&#x27;,\n",
       "               &#x27;2020-03-27 12:00:00&#x27;, &#x27;2020-03-28 12:00:00&#x27;,\n",
       "               &#x27;2020-03-29 12:00:00&#x27;, &#x27;2020-03-30 12:00:00&#x27;,\n",
       "               &#x27;2020-03-31 12:00:00&#x27;, &#x27;2020-04-01 12:00:00&#x27;,\n",
       "               &#x27;2020-04-02 12:00:00&#x27;, &#x27;2020-04-03 12:00:00&#x27;,\n",
       "               &#x27;2020-04-04 12:00:00&#x27;, &#x27;2020-04-05 12:00:00&#x27;,\n",
       "               &#x27;2020-04-06 12:00:00&#x27;, &#x27;2020-04-07 12:00:00&#x27;,\n",
       "               &#x27;2020-04-08 12:00:00&#x27;, &#x27;2020-04-09 12:00:00&#x27;,\n",
       "               &#x27;2020-04-10 12:00:00&#x27;, &#x27;2020-04-11 12:00:00&#x27;,\n",
       "               &#x27;2020-04-12 12:00:00&#x27;, &#x27;2020-04-13 12:00:00&#x27;,\n",
       "               &#x27;2020-04-14 12:00:00&#x27;, &#x27;2020-04-15 12:00:00&#x27;,\n",
       "               &#x27;2020-04-16 12:00:00&#x27;, &#x27;2020-04-17 12:00:00&#x27;,\n",
       "               &#x27;2020-04-18 12:00:00&#x27;, &#x27;2020-04-19 12:00:00&#x27;,\n",
       "               &#x27;2020-04-20 12:00:00&#x27;, &#x27;2020-04-21 12:00:00&#x27;,\n",
       "               &#x27;2020-04-22 12:00:00&#x27;, &#x27;2020-04-23 12:00:00&#x27;,\n",
       "               &#x27;2020-04-24 12:00:00&#x27;, &#x27;2020-04-25 12:00:00&#x27;,\n",
       "               &#x27;2020-04-26 12:00:00&#x27;, &#x27;2020-04-27 12:00:00&#x27;,\n",
       "               &#x27;2020-04-28 12:00:00&#x27;, &#x27;2020-04-29 12:00:00&#x27;,\n",
       "               &#x27;2020-04-30 12:00:00&#x27;],\n",
       "              dtype=&#x27;datetime64[ns]&#x27;, name=&#x27;valid_time&#x27;, freq=None))</pre></div></li></ul></div></li><li class='xr-section-item'><input id='section-c8b9c9d2-3977-482a-b22e-b8f7bfac7ae3' class='xr-section-summary-in' type='checkbox'  checked><label for='section-c8b9c9d2-3977-482a-b22e-b8f7bfac7ae3' class='xr-section-summary' >Attributes: <span>(2)</span></label><div class='xr-section-inline-details'></div><div class='xr-section-details'><dl class='xr-attrs'><dt><span>long_name :</span></dt><dd>time</dd><dt><span>standard_name :</span></dt><dd>time</dd></dl></div></li></ul></div></div>"
      ],
      "text/plain": [
       "<xarray.DataArray 'valid_time' (valid_time: 61)> Size: 488B\n",
       "array(['2020-03-01T12:00:00.000000000', '2020-03-02T12:00:00.000000000',\n",
       "       '2020-03-03T12:00:00.000000000', '2020-03-04T12:00:00.000000000',\n",
       "       '2020-03-05T12:00:00.000000000', '2020-03-06T12:00:00.000000000',\n",
       "       '2020-03-07T12:00:00.000000000', '2020-03-08T12:00:00.000000000',\n",
       "       '2020-03-09T12:00:00.000000000', '2020-03-10T12:00:00.000000000',\n",
       "       '2020-03-11T12:00:00.000000000', '2020-03-12T12:00:00.000000000',\n",
       "       '2020-03-13T12:00:00.000000000', '2020-03-14T12:00:00.000000000',\n",
       "       '2020-03-15T12:00:00.000000000', '2020-03-16T12:00:00.000000000',\n",
       "       '2020-03-17T12:00:00.000000000', '2020-03-18T12:00:00.000000000',\n",
       "       '2020-03-19T12:00:00.000000000', '2020-03-20T12:00:00.000000000',\n",
       "       '2020-03-21T12:00:00.000000000', '2020-03-22T12:00:00.000000000',\n",
       "       '2020-03-23T12:00:00.000000000', '2020-03-24T12:00:00.000000000',\n",
       "       '2020-03-25T12:00:00.000000000', '2020-03-26T12:00:00.000000000',\n",
       "       '2020-03-27T12:00:00.000000000', '2020-03-28T12:00:00.000000000',\n",
       "       '2020-03-29T12:00:00.000000000', '2020-03-30T12:00:00.000000000',\n",
       "       '2020-03-31T12:00:00.000000000', '2020-04-01T12:00:00.000000000',\n",
       "       '2020-04-02T12:00:00.000000000', '2020-04-03T12:00:00.000000000',\n",
       "       '2020-04-04T12:00:00.000000000', '2020-04-05T12:00:00.000000000',\n",
       "       '2020-04-06T12:00:00.000000000', '2020-04-07T12:00:00.000000000',\n",
       "       '2020-04-08T12:00:00.000000000', '2020-04-09T12:00:00.000000000',\n",
       "       '2020-04-10T12:00:00.000000000', '2020-04-11T12:00:00.000000000',\n",
       "       '2020-04-12T12:00:00.000000000', '2020-04-13T12:00:00.000000000',\n",
       "       '2020-04-14T12:00:00.000000000', '2020-04-15T12:00:00.000000000',\n",
       "       '2020-04-16T12:00:00.000000000', '2020-04-17T12:00:00.000000000',\n",
       "       '2020-04-18T12:00:00.000000000', '2020-04-19T12:00:00.000000000',\n",
       "       '2020-04-20T12:00:00.000000000', '2020-04-21T12:00:00.000000000',\n",
       "       '2020-04-22T12:00:00.000000000', '2020-04-23T12:00:00.000000000',\n",
       "       '2020-04-24T12:00:00.000000000', '2020-04-25T12:00:00.000000000',\n",
       "       '2020-04-26T12:00:00.000000000', '2020-04-27T12:00:00.000000000',\n",
       "       '2020-04-28T12:00:00.000000000', '2020-04-29T12:00:00.000000000',\n",
       "       '2020-04-30T12:00:00.000000000'], dtype='datetime64[ns]')\n",
       "Coordinates:\n",
       "    number      int64 8B 0\n",
       "  * valid_time  (valid_time) datetime64[ns] 488B 2020-03-01T12:00:00 ... 2020...\n",
       "    expver      <U4 16B '0001'\n",
       "Attributes:\n",
       "    long_name:      time\n",
       "    standard_name:  time"
      ]
     },
     "execution_count": 18,
     "metadata": {},
     "output_type": "execute_result"
    }
   ],
   "source": [
    "ds = xr.open_mfdataset(era5_files)\n",
    "ds['valid_time']"
   ]
  },
  {
   "cell_type": "code",
   "execution_count": 22,
   "id": "37d6d442-03b3-4a50-9002-618ec98fef64",
   "metadata": {},
   "outputs": [],
   "source": [
    "era5_monthly = ds.resample(valid_time='1ME').mean()"
   ]
  },
  {
   "cell_type": "code",
   "execution_count": 28,
   "id": "ef2119bd-8f26-4b52-870f-8957a47608f2",
   "metadata": {},
   "outputs": [],
   "source": [
    "era5_sd_march = era5_monthly['sd'].isel(valid_time=0).compute()"
   ]
  },
  {
   "cell_type": "code",
   "execution_count": 31,
   "id": "e30b9007-4f0e-476e-841f-9cc7f89d3917",
   "metadata": {},
   "outputs": [
    {
     "data": {
      "text/plain": [
       "<matplotlib.image.AxesImage at 0x7ff1efd85d10>"
      ]
     },
     "execution_count": 31,
     "metadata": {},
     "output_type": "execute_result"
    },
    {
     "data": {
      "image/png": "[encoded data removed]",
      "text/plain": [
       "<Figure size 640x480 with 2 Axes>"
      ]
     },
     "metadata": {},
     "output_type": "display_data"
    }
   ],
   "source": [
    "era5_sd_march.plot.imshow(vmin=0, vmax=1, cmap='Blues')"
   ]
  },
  {
   "cell_type": "code",
   "execution_count": null,
   "id": "ae5e9127-69e9-4db3-b2ed-c0462739efbf",
   "metadata": {},
   "outputs": [],
   "source": []
  }
 ],
 "metadata": {
  "kernelspec": {
   "display_name": "Python 3 (ipykernel)",
   "language": "python",
   "name": "python3"
  },
  "language_info": {
   "codemirror_mode": {
    "name": "ipython",
    "version": 3
   },
   "file_extension": ".py",
   "mimetype": "text/x-python",
   "name": "python",
   "nbconvert_exporter": "python",
   "pygments_lexer": "ipython3",
   "version": "3.11.9"
  }
 },
 "nbformat": 4,
 "nbformat_minor": 5
}
