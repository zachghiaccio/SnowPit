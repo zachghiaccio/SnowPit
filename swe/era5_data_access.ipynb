{
 "cells": [
  {
   "cell_type": "markdown",
   "id": "6c47f8ef-1c7d-4693-892c-29d2efceab9e",
   "metadata": {},
   "source": [
    "# ERA5 Reanalysis Data Access\n",
    "\n",
    "This is a script designed to obtain snow data from the ERA5 reanalysis product. We will be using the Copernicus API to get global, daily snow cover and snow depth information.\n",
    "\n",
    "This code is adapted from Tasha Snow's ERA5 downloading script: https://github.com/tsnow03/Landsat_SST_algorithm/blob/main/ERADownload.ipynb\n",
    "\n",
    "The Copernicus Climate Data Store (CDS) API is not on CryoCloud by default, so the following cell needs to be run, followed by restarting the kernel."
   ]
  },
  {
   "cell_type": "code",
   "execution_count": null,
   "id": "0ecf36f2-1ba7-49f7-ba95-999af28d59c0",
   "metadata": {
    "scrolled": true
   },
   "outputs": [],
   "source": [
    "!pip install ecmwf-api-client\n",
    "!pip install cdsapi"
   ]
  },
  {
   "cell_type": "markdown",
   "id": "ce2004ed-d591-4f36-827e-7ef00e57d01c",
   "metadata": {},
   "source": [
    "To use the CDS API, the user needs credentials to the Copernicus Climate Data Store (CDS). Upon getting a user ID (`uid`) and an API key (`api-key`), they need to run the following cell (skip if you already have `./cdsapirc` in the `/home/jovyan/` directory)."
   ]
  },
  {
   "cell_type": "code",
   "execution_count": null,
   "id": "2c8c707e-6306-42a2-a668-ff48cac57a00",
   "metadata": {},
   "outputs": [],
   "source": [
    "# !echo url: https://cds.climate.copernicus.eu/api/v2 >> /home/jovyan/.cdsapirc\n",
    "# !echo key: {uid}:{api-key} >> /home/jovyan/.cdsapirc"
   ]
  },
  {
   "cell_type": "code",
   "execution_count": null,
   "id": "51652349-27fb-4da4-8747-0f5b1cf3dafb",
   "metadata": {},
   "outputs": [],
   "source": [
    "from ecmwfapi import ECMWFDataServer # Need a ecmwf user name and password first\n",
    "import cdsapi"
   ]
  },
  {
   "cell_type": "markdown",
   "id": "881d22eb-92db-4e93-8a27-c33e343983a2",
   "metadata": {},
   "source": [
    "The CDS API can be a bit picky with inputs from ERA5, so first-time users are encouraged to use the online request form (https://cds.climate.copernicus.eu/datasets/reanalysis-era5-single-levels?tab=download) to automatically generate a code for their API request, to ensure that the syntax is correct.\n",
    "\n",
    "The below functions retrieve ERA5 snow depth and snow density and download them to a `tmp/` folder. Additional parameters to consider:\n",
    "* `yearStart` and `yearEnd`: Start and end year.\n",
    "* `monthStart` and `monthEnd`: Start and end month.\n",
    "* `dayStart` and `dayEnd`: Start and end day.\n",
    "\n",
    "The function currently grabs daily data from March 1, 2020 - April 30, 2020 at 12:00 UTC each day, and downloads as daily netCDF files. Because ERA5 is generated hourly, users can expand the `time` entry to include more hours per day."
   ]
  },
  {
   "cell_type": "code",
   "execution_count": null,
   "id": "d10ef511-edcb-467f-975b-bcbd7f5a2652",
   "metadata": {
    "scrolled": true
   },
   "outputs": [],
   "source": [
    "# Initialize the CDS API\n",
    "c = cdsapi.Client()\n",
    "\n",
    "def retrieve_era5():\n",
    "    \"\"\"      \n",
    "       A function to demonstrate how to iterate efficiently over several years and months etc    \n",
    "       for a particular ERA5 request.\n",
    "    \"\"\"\n",
    "    yearStart = 2020\n",
    "    yearEnd = 2020\n",
    "    monthStart = 3\n",
    "    monthEnd = 3\n",
    "    dayStart = 1\n",
    "    dayEnd = 31\n",
    "    for year in list(range(yearStart, yearEnd + 1)):\n",
    "        for month in list(range(monthStart, monthEnd + 1)):\n",
    "            for day in list(range(dayStart, dayEnd + 1)):\n",
    "                startDy = '%02d' % (day)\n",
    "                startMo = '%02d' % (month)\n",
    "                startYr = '%04d' % (year)\n",
    "                target = \"/home/jovyan/tmp/era5_SWE_%04d%02d%02d.nc\" % (year, month, day)\n",
    "                era5_request(startYr, startMo, startDy, target)\n",
    "\n",
    "def era5_request(startYr, startMo, startDy, target):\n",
    "    \"\"\"      \n",
    "        Helper function for era5_retrieve. An ERA-5 request for snow\n",
    "        depth and snow cover data for the given years/months/days.\n",
    "\n",
    "        Inputs\n",
    "        ------------\n",
    "        startYr: str\n",
    "            Starting year of data query, in YYYY format.\n",
    "        startMo: str\n",
    "            Starting month of data query, in MM format.\n",
    "        startDy: str\n",
    "            Starting day of data query, in DD format.\n",
    "        target: str\n",
    "            Path and name of netCDF file to be saved.\n",
    "    \"\"\"\n",
    "    c.retrieve(\n",
    "    'reanalysis-era5-single-levels',\n",
    "    {\n",
    "        'product_type':['reanalysis'],\n",
    "        'data_format':'netcdf',\n",
    "        'variable':['snow_depth', 'snow_density'],\n",
    "        'year':[startYr],\n",
    "        'month':[startMo],\n",
    "        'day':[startDy],\n",
    "        'time':['12:00']\n",
    "    },\n",
    "    target)\n",
    "        \n",
    "if __name__ == '__main__':\n",
    "    retrieve_era5()"
   ]
  },
  {
   "cell_type": "markdown",
   "id": "8ddc7e52-b22d-40fa-a6c7-8d95de61b62c",
   "metadata": {},
   "source": [
    "Depending on the number of files downloaded (61 in the case of the above example), it can take a while to download everything.\n",
    "\n",
    "When it finishes, there should now be daily ERA5 data in netCDF format! To efficiently load all of this data, we are going to use Xarray and its `open_mfdataset()` function. "
   ]
  },
  {
   "cell_type": "code",
   "execution_count": null,
   "id": "ead95b35-5789-4a54-852b-e922c8216600",
   "metadata": {},
   "outputs": [],
   "source": [
    "import xarray as xr\n",
    "\n",
    "from os import listdir\n",
    "from os.path import isfile, join"
   ]
  },
  {
   "cell_type": "code",
   "execution_count": null,
   "id": "ed50f234-35b7-41fa-8666-505a2193f094",
   "metadata": {},
   "outputs": [],
   "source": [
    "# Path to ERA5 files\n",
    "tmp_path = \"/home/jovyan/tmp/\"\n",
    "era5_files = [join(tmp_path,f) for f in listdir(tmp_path) if isfile(join(tmp_path, f))]"
   ]
  },
  {
   "cell_type": "code",
   "execution_count": null,
   "id": "8ed15ceb-16b5-4b2c-8e4d-010a86d5bb75",
   "metadata": {},
   "outputs": [],
   "source": [
    "era5_files"
   ]
  },
  {
   "cell_type": "code",
   "execution_count": null,
   "id": "4a7dc1e0-f90a-4ce5-98ad-ebfac0b0b2de",
   "metadata": {
    "scrolled": true
   },
   "outputs": [],
   "source": [
    "# Open all ERA5 files into single DataArray\n",
    "ds = xr.open_mfdataset(era5_files)"
   ]
  },
  {
   "cell_type": "markdown",
   "id": "cdf97889-cc26-468a-be4a-2c4d6a7344c0",
   "metadata": {},
   "source": [
    "Thanks to the above function, loading all of that data is pretty easy! However, it is important to note that the data is currently \"lazy-loaded\" - we can easily subset and resample the data for our needs, but we will need to load it into memory if we wish to make figures.\n",
    "\n",
    "Fully loading the data as is can be time-consuming, so let's reduce the data first, starting with making monthly means of snow depth."
   ]
  },
  {
   "cell_type": "code",
   "execution_count": null,
   "id": "37d6d442-03b3-4a50-9002-618ec98fef64",
   "metadata": {},
   "outputs": [],
   "source": [
    "# Calculate monthly mean snow depth and snow cover\n",
    "era5_monthly = ds.resample(valid_time='1ME').mean()"
   ]
  },
  {
   "cell_type": "markdown",
   "id": "ce048ebf-9f9f-4116-8bc0-aad55b596656",
   "metadata": {},
   "source": [
    "Resampling to monthly means reduces the data volume by quite a bit, so let's now look at global snow depth from the month of March. We will go ahead and load the result into memory using the `compute()` function."
   ]
  },
  {
   "cell_type": "code",
   "execution_count": null,
   "id": "ef2119bd-8f26-4b52-870f-8957a47608f2",
   "metadata": {},
   "outputs": [],
   "source": [
    "# Load March snow depths into memory\n",
    "era5_sd_march = era5_monthly['sd'].isel(valid_time=0).compute()"
   ]
  },
  {
   "cell_type": "markdown",
   "id": "fceb09d0-1e5a-4f3b-9762-480c31e3b8d2",
   "metadata": {},
   "source": [
    "Finally, we can make a map figure showing global, monthly-averaged snow depth from ERA5."
   ]
  },
  {
   "cell_type": "code",
   "execution_count": null,
   "id": "e30b9007-4f0e-476e-841f-9cc7f89d3917",
   "metadata": {},
   "outputs": [],
   "source": [
    "fig, ax = plt.subplots()\n",
    "era5_sd_march.plot.imshow(ax=ax,vmin=0, vmax=1, cmap='Blues')\n",
    "ax.set_xlabel(\"Longitude\", fontsize=12)\n",
    "ax.set_ylabel(\"Latitude\", fontsize=12)\n",
    "ax.set_title(\"ERA5 Snow Depth, March 2020\", fontsize=12)\n",
    "fig.tight_layout()"
   ]
  },
  {
   "cell_type": "markdown",
   "id": "7e956f48-4415-4880-a077-26fd4e5b5603",
   "metadata": {},
   "source": [
    "Now for a different example. Here, we will examine snow depths over Alaska only, and generate a state-wide time series for the month of March."
   ]
  },
  {
   "cell_type": "code",
   "execution_count": null,
   "id": "ae5e9127-69e9-4db3-b2ed-c0462739efbf",
   "metadata": {},
   "outputs": [],
   "source": [
    "# Making bounds for Alaska\n",
    "mask_lon = (ds.longitude >= -168.75+360) & (ds.longitude <= -136.01+360)\n",
    "mask_lat = (ds.latitude >= 52.64) & (ds.latitude <= 71.59)\n",
    "\n",
    "# Subset ERA5 data to Alaska lats/lons only\n",
    "era5_alaska = ds.where(mask_lon & mask_lat, drop=True)"
   ]
  },
  {
   "cell_type": "markdown",
   "id": "fd8505c7-036b-4102-9c3d-57a4a75d3563",
   "metadata": {},
   "source": [
    "As before, we need to load the Alaska data into memory. Because we are looking over a much smaller spatial domain, `compute()` will be much faster."
   ]
  },
  {
   "cell_type": "code",
   "execution_count": null,
   "id": "666ad5f2-1aa7-4e92-ad9c-28a734d542ea",
   "metadata": {},
   "outputs": [],
   "source": [
    "# Load Alaska data into memory\n",
    "era5_alaska = era5_alaska.compute()"
   ]
  },
  {
   "cell_type": "markdown",
   "id": "a23681f2-c338-4e78-94e0-cdafe51e6bc1",
   "metadata": {},
   "source": [
    "Again, we can make a map figure showing snow depth over the state of Alaska, this time for March 1, 2020:"
   ]
  },
  {
   "cell_type": "code",
   "execution_count": null,
   "id": "547c0d68-7a6a-4725-b685-c448aaa2e181",
   "metadata": {},
   "outputs": [],
   "source": [
    "# Map plot of Alaska snow depths\n",
    "era5_alaska['sd'].isel(valid_time=0).plot.imshow(vmin=0, vmax=1, cmap=\"Blues\")"
   ]
  },
  {
   "cell_type": "markdown",
   "id": "befb764c-9d2c-48ce-b1f2-98c9a77b5eac",
   "metadata": {},
   "source": [
    "We can also create a spatially-averaged time series of snow depth over the state of Alaska for the entire time period March 1 - April 30:"
   ]
  },
  {
   "cell_type": "code",
   "execution_count": null,
   "id": "d8ddbd96-d587-48ff-99e2-31a69b41059d",
   "metadata": {},
   "outputs": [],
   "source": [
    "# Calculate spatial average of snow depths over Alaska\n",
    "era5_sd_alaska = era5_alaska['sd'].mean(('longitude', 'latitude'))"
   ]
  },
  {
   "cell_type": "code",
   "execution_count": null,
   "id": "c71d720d-476e-4bf8-8c9a-fa37937c23d8",
   "metadata": {},
   "outputs": [],
   "source": [
    "# Time series plot of Alaska snow depths\n",
    "fig, ax = plt.subplots()\n",
    "era5_sd_alaska.plot(ax=ax)\n",
    "ax.set_xlabel(\"Day\", fontsize=12)\n",
    "ax.set_ylabel(\"Snow depth [m]\", fontsize=12)\n",
    "ax.set_title(\"March 1 - April 30, 2020\", fontsize=12)\n",
    "fig.tight_layout()"
   ]
  }
 ],
 "metadata": {
  "kernelspec": {
   "display_name": "Python 3 (ipykernel)",
   "language": "python",
   "name": "python3"
  },
  "language_info": {
   "codemirror_mode": {
    "name": "ipython",
    "version": 3
   },
   "file_extension": ".py",
   "mimetype": "text/x-python",
   "name": "python",
   "nbconvert_exporter": "python",
   "pygments_lexer": "ipython3",
   "version": "3.11.9"
  }
 },
 "nbformat": 4,
 "nbformat_minor": 5
}
