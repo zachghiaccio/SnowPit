{
 "cells": [
  {
   "cell_type": "markdown",
   "id": "6c47f8ef-1c7d-4693-892c-29d2efceab9e",
   "metadata": {},
   "source": [
    "This code is adapted from Tasha Snow's ERA5 downloading script: https://github.com/tsnow03/Landsat_SST_algorithm/blob/main/ERADownload.ipynb"
   ]
  },
  {
   "cell_type": "code",
   "execution_count": null,
   "id": "0ecf36f2-1ba7-49f7-ba95-999af28d59c0",
   "metadata": {
    "scrolled": true
   },
   "outputs": [],
   "source": [
    "%pip install ecmwf-api-client\n",
    "%pip install cdsapi"
   ]
  },
  {
   "cell_type": "code",
   "execution_count": null,
   "id": "51652349-27fb-4da4-8747-0f5b1cf3dafb",
   "metadata": {},
   "outputs": [],
   "source": [
    "import calendar\n",
    "from ecmwfapi import ECMWFDataServer # Need a ecmwf user name and password first\n",
    "import cdsapi"
   ]
  },
  {
   "cell_type": "markdown",
   "id": "881d22eb-92db-4e93-8a27-c33e343983a2",
   "metadata": {},
   "source": [
    "The CDS API can be a bit picky with inputs from ERA5, so first-time users are encouraged to use the online request form (https://cds.climate.copernicus.eu/datasets/reanalysis-era5-single-levels?tab=download) to automatically generate a code for their API request, to ensure that the syntax is correct."
   ]
  },
  {
   "cell_type": "code",
   "execution_count": null,
   "id": "d10ef511-edcb-467f-975b-bcbd7f5a2652",
   "metadata": {
    "scrolled": true
   },
   "outputs": [],
   "source": [
    "c = cdsapi.Client()\n",
    "\n",
    "def retrieve_era5():\n",
    "    \"\"\"      \n",
    "       A function to demonstrate how to iterate efficiently over several years and months etc    \n",
    "       for a particular interim_request.     \n",
    "       Change the variables below to adapt the iteration to your needs.\n",
    "       You can use the variable 'target' to organise the requested data in files as you wish.\n",
    "       In the example below the data are organised in files per month. (eg \"interim_daily_201510.grb\")\n",
    "    \"\"\"\n",
    "    yearStart = 2020\n",
    "    yearEnd = 2020\n",
    "    monthStart = 3\n",
    "    monthEnd = 4\n",
    "    dayStart = 1\n",
    "    dayEnd = 30\n",
    "    for year in list(range(yearStart, yearEnd + 1)):\n",
    "        for month in list(range(monthStart, monthEnd + 1)):\n",
    "            for day in list(range(dayStart, dayEnd + 1)):\n",
    "                startDy = '%02d' % (day)\n",
    "                startMo = '%02d' % (month)\n",
    "                startYr = '%04d' % (year)\n",
    "                target = \"/home/jovyan/tmp/era5_SWE_%04d%02d%02d.nc\" % (year, month, day)\n",
    "                era5_request(startYr, startMo, startDy, target)\n",
    "\n",
    "def era5_request(startYr, startMo, startDy, target):\n",
    "    \"\"\"      \n",
    "        An ERA-5 request for analysis pressure level data.\n",
    "        Change the keywords below to adapt it to your needs.\n",
    "        (eg to add or to remove  levels, parameters, times etc)\n",
    "        Request cost per day is 112 fields, 14.2326 Mbytes\n",
    "    \"\"\"\n",
    "    c.retrieve(\n",
    "    'reanalysis-era5-single-levels',\n",
    "    {\n",
    "        'product_type':['reanalysis'],\n",
    "        'data_format':'netcdf',\n",
    "        'variable':['snow_depth', 'snow_density'],\n",
    "        'year':[startYr],\n",
    "        'month':[startMo],\n",
    "        'day':[startDy],\n",
    "        'time':['12:00']\n",
    "    },\n",
    "    target)\n",
    "        \n",
    "if __name__ == '__main__':\n",
    "    retrieve_era5()"
   ]
  },
  {
   "cell_type": "markdown",
   "id": "8ddc7e52-b22d-40fa-a6c7-8d95de61b62c",
   "metadata": {},
   "source": []
  },
  {
   "cell_type": "code",
   "execution_count": null,
   "id": "ead95b35-5789-4a54-852b-e922c8216600",
   "metadata": {},
   "outputs": [],
   "source": [
    "import netCDF4 as netcdf\n",
    "import xarray as xr\n",
    "import rioxarray as rxr\n",
    "\n",
    "from os import listdir\n",
    "from os.path import isfile, join"
   ]
  },
  {
   "cell_type": "code",
   "execution_count": null,
   "id": "ed50f234-35b7-41fa-8666-505a2193f094",
   "metadata": {},
   "outputs": [],
   "source": [
    "tmp_path = \"/home/jovyan/tmp/\"\n",
    "era5_files = [join(tmp_path,f) for f in listdir(tmp_path) if isfile(join(tmp_path, f))]"
   ]
  },
  {
   "cell_type": "code",
   "execution_count": null,
   "id": "6b463508-6676-471e-b527-cc27a8f8d048",
   "metadata": {},
   "outputs": [],
   "source": [
    "len(era5_files)"
   ]
  },
  {
   "cell_type": "code",
   "execution_count": null,
   "id": "4a7dc1e0-f90a-4ce5-98ad-ebfac0b0b2de",
   "metadata": {
    "scrolled": true
   },
   "outputs": [],
   "source": [
    "ds = xr.open_mfdataset(era5_files)\n",
    "ds['valid_time']"
   ]
  },
  {
   "cell_type": "code",
   "execution_count": null,
   "id": "37d6d442-03b3-4a50-9002-618ec98fef64",
   "metadata": {},
   "outputs": [],
   "source": [
    "era5_monthly = ds.resample(valid_time='1ME').mean()"
   ]
  },
  {
   "cell_type": "code",
   "execution_count": null,
   "id": "ef2119bd-8f26-4b52-870f-8957a47608f2",
   "metadata": {},
   "outputs": [],
   "source": [
    "era5_sd_march = era5_monthly['sd'].isel(valid_time=0).compute()"
   ]
  },
  {
   "cell_type": "code",
   "execution_count": null,
   "id": "e30b9007-4f0e-476e-841f-9cc7f89d3917",
   "metadata": {},
   "outputs": [],
   "source": [
    "era5_sd_march.plot.imshow(vmin=0, vmax=1, cmap='Blues')"
   ]
  },
  {
   "cell_type": "code",
   "execution_count": null,
   "id": "574f50cf-d04c-4b81-94ee-3cc14bfdd73e",
   "metadata": {},
   "outputs": [],
   "source": [
    "ds"
   ]
  },
  {
   "cell_type": "code",
   "execution_count": null,
   "id": "ae5e9127-69e9-4db3-b2ed-c0462739efbf",
   "metadata": {},
   "outputs": [],
   "source": [
    "# Making bounds for Alaska\n",
    "mask_lon = (ds.longitude >= -168.75+360) & (ds.longitude <= -136.01+360)\n",
    "mask_lat = (ds.latitude >= 52.64) & (ds.latitude <= 71.59)\n",
    "\n",
    "# Subset MERRA-2 data to Alaska lats/lons only\n",
    "era5_alaska = ds.where(mask_lon & mask_lat, drop=True)"
   ]
  },
  {
   "cell_type": "code",
   "execution_count": null,
   "id": "666ad5f2-1aa7-4e92-ad9c-28a734d542ea",
   "metadata": {},
   "outputs": [],
   "source": [
    "era5_alaska = era5_alaska.compute()"
   ]
  },
  {
   "cell_type": "code",
   "execution_count": null,
   "id": "547c0d68-7a6a-4725-b685-c448aaa2e181",
   "metadata": {},
   "outputs": [],
   "source": [
    "era5_alaska['sd'].isel(valid_time=0).plot.imshow(vmin=0, vmax=1, cmap=\"Blues\")"
   ]
  },
  {
   "cell_type": "code",
   "execution_count": null,
   "id": "d8ddbd96-d587-48ff-99e2-31a69b41059d",
   "metadata": {},
   "outputs": [],
   "source": [
    "era5_sd_alaska = era5_alaska['sd'].mean(('longitude', 'latitude'))"
   ]
  },
  {
   "cell_type": "code",
   "execution_count": null,
   "id": "c71d720d-476e-4bf8-8c9a-fa37937c23d8",
   "metadata": {},
   "outputs": [],
   "source": [
    "era5_sd_alaska.plot()"
   ]
  },
  {
   "cell_type": "code",
   "execution_count": null,
   "id": "a514a76f-15ce-40c1-a35b-9299eb809fdb",
   "metadata": {},
   "outputs": [],
   "source": []
  }
 ],
 "metadata": {
  "kernelspec": {
   "display_name": "Python 3 (ipykernel)",
   "language": "python",
   "name": "python3"
  },
  "language_info": {
   "codemirror_mode": {
    "name": "ipython",
    "version": 3
   },
   "file_extension": ".py",
   "mimetype": "text/x-python",
   "name": "python",
   "nbconvert_exporter": "python",
   "pygments_lexer": "ipython3",
   "version": "3.11.9"
  }
 },
 "nbformat": 4,
 "nbformat_minor": 5
}
