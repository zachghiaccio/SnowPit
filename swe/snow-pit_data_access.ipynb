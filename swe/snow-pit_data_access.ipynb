{
 "cells": [
  {
   "cell_type": "markdown",
   "id": "f2f2717e-bd95-4152-88f6-9d81e9b2dfe0",
   "metadata": {},
   "source": [
    "# Snow Pit Data Access and SWE Calculation\n",
    "\n",
    "This notebook is designed to access data from snow pits gathered during the SnowEx field campaigns in Alaska. A combination of snow depth and density is gathered to estimate SWE across the Toolik field site (UKT).\n",
    "\n",
    "In this example, the snow pit data is accessed using the SnowEx Database and `snowexsql`. The code is adapted from a SnowEx Database example found here: https://snowexsql.readthedocs.io/en/latest/gallery/plot_pit_swe_example.html"
   ]
  },
  {
   "cell_type": "code",
   "execution_count": null,
   "id": "1adec356-f881-4906-a3cd-ad84ccc47d1c",
   "metadata": {},
   "outputs": [],
   "source": [
    "import earthaccess\n",
    "import pandas as pd\n",
    "import geopandas as gpd\n",
    "import os\n",
    "import tempfile\n",
    "from shapely.geometry import Point\n",
    "import shutil"
   ]
  },
  {
   "cell_type": "code",
   "execution_count": null,
   "id": "9ce46209-b63d-4586-800c-19299b2e9118",
   "metadata": {},
   "outputs": [],
   "source": [
    "# Authenticate with Earthdata Login servers\n",
    "auth = earthaccess.login(strategy=\"interactive\")\n",
    "\n",
    "# Search for granules\n",
    "results = earthaccess.search_data(\n",
    "    short_name=\"SNEX20_SD\",\n",
    "    temporal=('2020-01-01', '2020-02-01'),\n",
    ")"
   ]
  },
  {
   "cell_type": "code",
   "execution_count": null,
   "id": "3921406e-d469-474b-a22b-050ba811b7ea",
   "metadata": {},
   "outputs": [],
   "source": [
    "display(results[0])"
   ]
  },
  {
   "cell_type": "code",
   "execution_count": null,
   "id": "f120bf32-6f2f-4e9d-9447-f500ccb74dfc",
   "metadata": {
    "scrolled": true
   },
   "outputs": [],
   "source": [
    "# Create a temporary directory for downloads\n",
    "temp_dir = tempfile.mkdtemp()\n",
    "print(f\"Using temporary directory: {temp_dir}\")\n",
    "\n",
    "# Download the data to the temp directory\n",
    "downloaded_files = earthaccess.download(\n",
    "    results,\n",
    "    local_path=\"/home/jovyan/tmp\",\n",
    ")\n",
    "print(f\"Downloaded {len(downloaded_files)} files to {temp_dir}\")\n",
    "\n",
    "# Process CSV files and convert to GeoDataFrame\n",
    "gdf = []\n",
    "csv_files = [file for file in downloaded_files if file.endswith('.csv')]\n",
    "if csv_files:\n",
    "    for i, csv_file in enumerate(csv_files):\n",
    "        print(f\"Processing: {os.path.basename(csv_file)}\")\n",
    "\n",
    "        # Read the csv file\n",
    "        tmp_df = pd.read_csv(csv_file)\n",
    "\n",
    "        # Convert to GeoDataFrame\n",
    "        geometry = [Point(xy) for xy in zip(df['Easting'], df['Northing'])]\n",
    "        tmp_gdf = gpd.GeoDataFrame(df, geometry=geometry, crs=\"EPSG:32612\")\n",
    "\n",
    "        # Add to final GeoDataFrame\n",
    "        gdf = pd.concat([gdf, tmp_gdf])\n",
    "\n",
    "shutil.rmtree(temp_dir)"
   ]
  },
  {
   "cell_type": "code",
   "execution_count": null,
   "id": "4f5ef930-69d6-459b-b989-875759619cb2",
   "metadata": {
    "scrolled": true
   },
   "outputs": [],
   "source": [
    "from snowexsql.api import PointMeasurements, LayerMeasurements\n",
    "\n",
    "# Instantiate the class to use the properties!\n",
    "measurements = PointMeasurements()\n",
    "\n",
    "# Get the unique data names/types in the table\n",
    "results = measurements.all_types\n",
    "print('Available types = {}'.format(', '.join([str(r) for r in results])))\n",
    "\n",
    "# Get the unique instrument in the table\n",
    "results = measurements.all_instruments\n",
    "print('\\nAvailable Instruments = {}'.format(', '.join([str(r) for r in results])))\n",
    "\n",
    "# Get the unique dates in the table\n",
    "results = measurements.all_dates\n",
    "print('\\nAvailable Dates = {}'.format(', '.join(sorted([str(r) for r in results]))))\n",
    "\n",
    "# Get the unique site names in the table\n",
    "results = measurements.all_site_names\n",
    "print('\\nAvailable sites = {}'.format(', '.join([str(r) for r in results])))"
   ]
  },
  {
   "cell_type": "code",
   "execution_count": null,
   "id": "789066e0-5510-4db8-a480-96cf76595a1f",
   "metadata": {
    "scrolled": true
   },
   "outputs": [],
   "source": [
    "# Pick the first one we find\n",
    "#site_id = LayerMeasurements().all_site_ids\n",
    "site_id = LayerMeasurements()\n",
    "\n",
    "# Query the database, we only need one point to get a site id and its geometry\n",
    "#site_df = LayerMeasurements.from_filter(site_id=site_id, limit=1)\n",
    "\n",
    "# Print it out \n",
    "site_id.all_site_ids"
   ]
  },
  {
   "cell_type": "code",
   "execution_count": null,
   "id": "ba961cf2-9b07-4adf-a5ad-45d3c9e3f86c",
   "metadata": {},
   "outputs": [],
   "source": [
    "data_type = 'depth'"
   ]
  },
  {
   "cell_type": "code",
   "execution_count": null,
   "id": "479058be-8884-4018-aa3e-924b0079e66c",
   "metadata": {
    "scrolled": true
   },
   "outputs": [],
   "source": [
    "import pandas as pd\n",
    "site_df = pd.DataFrame()\n",
    "for site in LayerMeasurements().all_site_ids:\n",
    "    tmp = PointMeasurements.from_filter(site_id=site, type='depth', limit=1)\n",
    "    try:\n",
    "        tmp = tmp.to_crs(\"EPSG:4326\")\n",
    "    except:\n",
    "        tmp = tmp.set_crs(\"EPSG:4326\")\n",
    "\n",
    "    site_df = pd.concat([site_df, tmp])\n",
    "\n",
    "# Pick the first one we find\n",
    "#site_id = LayerMeasurements().all_site_ids\n",
    "\n",
    "# Query the database, we only need one point to get a site id and its geometry\n",
    "#site_df = LayerMeasurements.from_filter(site_id=site_id)\n",
    "\n",
    "# Print it out \n",
    "#site_df"
   ]
  },
  {
   "cell_type": "code",
   "execution_count": null,
   "id": "562e880c-743d-47d9-8749-c0737dce5755",
   "metadata": {},
   "outputs": [],
   "source": [
    "site_df.explore()"
   ]
  },
  {
   "cell_type": "code",
   "execution_count": null,
   "id": "108d2538-20d6-4690-bc54-3fed6d655642",
   "metadata": {},
   "outputs": [],
   "source": [
    "site_df['site_id'][site_df['id']==7643177].values"
   ]
  },
  {
   "cell_type": "code",
   "execution_count": null,
   "id": "7d9f93c6-2e9c-4139-8520-090b9db88f7a",
   "metadata": {},
   "outputs": [],
   "source": [
    "# Import in our two classes to access the db\n",
    "from snowexsql.api import LayerMeasurements\n",
    "from datetime import datetime \n",
    "\n",
    "# Find some density pit measurements at the Boise site in december 2019.\n",
    "df = PointMeasurements.from_filter(\n",
    "    type=\"depth\",\n",
    "    site_id=\"Skyway Tree\",\n",
    "    #date_greater_equal=datetime(2018, 1, 1),\n",
    "    #date_less_equal=datetime(2022, 12, 1),\n",
    "    #instrument=\"magnaprobe\",\n",
    "    limit=1000\n",
    ")"
   ]
  },
  {
   "cell_type": "code",
   "execution_count": null,
   "id": "96d2a5dc-1ee3-413f-bebd-9985f056279c",
   "metadata": {},
   "outputs": [],
   "source": [
    "df"
   ]
  },
  {
   "cell_type": "code",
   "execution_count": null,
   "id": "8ea33ebe-0344-4b03-9c21-57ca0d8bfdd6",
   "metadata": {},
   "outputs": [],
   "source": [
    "df.plot(column='value', cmap='Blues')"
   ]
  },
  {
   "cell_type": "code",
   "execution_count": null,
   "id": "f78d2e62-1498-478b-accf-bef96c2ee97d",
   "metadata": {
    "scrolled": true
   },
   "outputs": [],
   "source": [
    "df_area = PointMeasurements.from_area(pt=df.geometry[0], type=data_type, limit=1000, buffer=200)"
   ]
  },
  {
   "cell_type": "code",
   "execution_count": null,
   "id": "f2b0252e-1c47-4c1e-a26b-9261f7746bea",
   "metadata": {},
   "outputs": [],
   "source": [
    "df_area.keys()"
   ]
  },
  {
   "cell_type": "code",
   "execution_count": null,
   "id": "9d211127-2ce0-4b62-895f-a3b149996454",
   "metadata": {},
   "outputs": [],
   "source": [
    "df_area.plot(column='value')"
   ]
  },
  {
   "cell_type": "code",
   "execution_count": null,
   "id": "6e125aae-2633-4c41-8e32-44bffd236499",
   "metadata": {},
   "outputs": [],
   "source": [
    "df = df[df.value != 'None']\n",
    "df['value'] = df['value'].astype(float)\n",
    "print(df[['site_id', 'value']].groupby(by='site_id').mean())"
   ]
  },
  {
   "cell_type": "code",
   "execution_count": null,
   "id": "29d7b3ce-c3e2-4fb4-a481-330068113afe",
   "metadata": {},
   "outputs": [],
   "source": [
    "point = Point(df.iloc[0].easting, df.iloc[0].northing)"
   ]
  },
  {
   "cell_type": "code",
   "execution_count": null,
   "id": "14400602-99c1-4408-9986-5a9236e43f61",
   "metadata": {},
   "outputs": [],
   "source": [
    "df = PointMeasurements.from_filter(type='two_way_travel', limit=100)\n",
    "df"
   ]
  },
  {
   "cell_type": "code",
   "execution_count": null,
   "id": "5e89fff9-9373-4b68-a46e-ab2a3f4984d7",
   "metadata": {},
   "outputs": [],
   "source": [
    "df.plot()"
   ]
  },
  {
   "cell_type": "code",
   "execution_count": null,
   "id": "c8d2f543-3777-403f-8fb5-1690e628caa6",
   "metadata": {},
   "outputs": [],
   "source": []
  }
 ],
 "metadata": {
  "kernelspec": {
   "display_name": "Python 3 (ipykernel)",
   "language": "python",
   "name": "python3"
  },
  "language_info": {
   "codemirror_mode": {
    "name": "ipython",
    "version": 3
   },
   "file_extension": ".py",
   "mimetype": "text/x-python",
   "name": "python",
   "nbconvert_exporter": "python",
   "pygments_lexer": "ipython3",
   "version": "3.11.11"
  }
 },
 "nbformat": 4,
 "nbformat_minor": 5
}
