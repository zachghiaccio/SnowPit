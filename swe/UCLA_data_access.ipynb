{
 "cells": [
  {
   "cell_type": "markdown",
   "id": "11698591-9017-40e3-b3bd-6f01dd6002ec",
   "metadata": {},
   "source": [
    "# UCLA SWE Reanalysis Data Access\n",
    "\n",
    "Uses Eric Gagliano's `easysnowdata` package: https://github.com/egagli/easysnowdata/"
   ]
  },
  {
   "cell_type": "code",
   "execution_count": null,
   "id": "ac4a782f-5796-4fc6-a9ac-53b65fc2d916",
   "metadata": {
    "scrolled": true
   },
   "outputs": [],
   "source": [
    "%pip install easysnowdata"
   ]
  },
  {
   "cell_type": "code",
   "execution_count": null,
   "id": "275a1e1c-3ae5-4dd3-a607-a582a63331d1",
   "metadata": {},
   "outputs": [],
   "source": [
    "import easysnowdata as esd\n",
    "import geopandas as gpd"
   ]
  },
  {
   "cell_type": "code",
   "execution_count": null,
   "id": "feee9a85-9b7c-49f3-9c93-8bac66574e4c",
   "metadata": {},
   "outputs": [],
   "source": [
    "bbox_gdf = gpd.read_file(\"/home/jovyan/shared-public/SnowPit/tuolumne_basin_v2.geojson\")"
   ]
  },
  {
   "cell_type": "markdown",
   "id": "8a6194f9-aada-4d63-856c-44204a9b3110",
   "metadata": {},
   "source": [
    "Possible inputs for `variable`:\n",
    "* `SWE_Post`: Snow water equivalent, in meters (default)\n",
    "* `SCA_Post`: Snow covered area\n",
    "* `SD_Post`: Snow depth, in meters\n",
    "\n",
    "Possible inputs for `stats`:\n",
    "* `mean`: Default setting\n",
    "* `std`: Standard deviation\n",
    "* `median`\n",
    "* `25pct`: 25th percentile"
   ]
  },
  {
   "cell_type": "code",
   "execution_count": null,
   "id": "f43dbb4a-0a31-4774-84c4-ed36f21e8556",
   "metadata": {},
   "outputs": [],
   "source": [
    "snow_reanalysis_da = esd.hydroclimatology.get_ucla_snow_reanalysis(\n",
    "    bbox_gdf,\n",
    "    start_date=\"2020-10-01\",\n",
    "    end_date=\"2021-09-30\",\n",
    "    variable=\"SWE_Post\",\n",
    "    stats=\"mean\",\n",
    ")"
   ]
  },
  {
   "cell_type": "code",
   "execution_count": null,
   "id": "51fb0eed-3a2b-49a0-beca-1752957cc4cc",
   "metadata": {},
   "outputs": [],
   "source": [
    "snow_reanalysis_da"
   ]
  },
  {
   "cell_type": "code",
   "execution_count": null,
   "id": "540481e6-5d27-4819-9e4b-31eac2b7d057",
   "metadata": {},
   "outputs": [],
   "source": [
    "snow_reanalysis_monthly = snow_reanalysis_da.resample(time=\"M\").mean()"
   ]
  },
  {
   "cell_type": "markdown",
   "id": "0a8a877b-6470-4dee-a727-390c89306c99",
   "metadata": {},
   "source": [
    "**Caution**: The below plotting cell can be quite slow if you plot more than one figure at a time. It's not memory-intensive, just time-consuming."
   ]
  },
  {
   "cell_type": "code",
   "execution_count": null,
   "id": "c89854ad-a49c-4059-bb44-485b5ed42d09",
   "metadata": {},
   "outputs": [],
   "source": [
    "f = snow_reanalysis_monthly.isel(time=0).plot.imshow(\n",
    "    cmap=\"Blues\",\n",
    "    vmin=0,\n",
    "    vmax=1.5,\n",
    ")\n",
    "\n",
    "#f.fig.suptitle(\"UCLA SWE reanalysis\")"
   ]
  },
  {
   "cell_type": "code",
   "execution_count": null,
   "id": "5900f98a-6d04-41e8-96d5-949acfc33b05",
   "metadata": {},
   "outputs": [],
   "source": []
  }
 ],
 "metadata": {
  "kernelspec": {
   "display_name": "Python 3 (ipykernel)",
   "language": "python",
   "name": "python3"
  },
  "language_info": {
   "codemirror_mode": {
    "name": "ipython",
    "version": 3
   },
   "file_extension": ".py",
   "mimetype": "text/x-python",
   "name": "python",
   "nbconvert_exporter": "python",
   "pygments_lexer": "ipython3",
   "version": "3.11.9"
  }
 },
 "nbformat": 4,
 "nbformat_minor": 5
}
