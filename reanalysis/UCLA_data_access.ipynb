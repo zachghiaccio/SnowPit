{
 "cells": [
  {
   "cell_type": "markdown",
   "id": "11698591-9017-40e3-b3bd-6f01dd6002ec",
   "metadata": {},
   "source": [
    "# UCLA SWE Reanalysis Data Access\n",
    "\n",
    "This workbook is to access the Western United States snow reanalysis data set, as developed by UCLA. Normally, the data is provided as PNG or netCDF files, and it is not cloud-optimized. So, we will need to download the data into a `tmp/` folder, as a direct access will be computationally inefficient."
   ]
  },
  {
   "cell_type": "code",
   "execution_count": null,
   "id": "5044587b-126e-44e6-9755-77c4d3582444",
   "metadata": {},
   "outputs": [],
   "source": [
    "import xarray as xr\n",
    "import earthaccess\n",
    "import boto3\n",
    "import cartopy.crs as ccrs\n",
    "import cartopy.feature as cfeature\n",
    "import matplotlib.pyplot as plt\n",
    "import warnings\n",
    "from IPython.display import display, Markdown"
   ]
  },
  {
   "cell_type": "markdown",
   "id": "f8c552c8-d697-461e-a00c-458a7a8c42e0",
   "metadata": {},
   "source": [
    "As implied by the dataset's name, the UCLA reanalysis is only for the Western United States. For this example, we will look over the Tuolumne River Basin in California.\n",
    "\n",
    "As with the MERRA-2 example workbook, we will be using the dataset DOI to quickly access the data, and looking at the 2020-2021 water year."
   ]
  },
  {
   "cell_type": "code",
   "execution_count": null,
   "id": "6aa170d2-967f-4d5c-a66f-120a62cc9414",
   "metadata": {
    "scrolled": true
   },
   "outputs": [],
   "source": [
    "# Define bounding box over the Tuolumne\n",
    "bbox = (-119.85, 37.71, -119.1, 38.25)\n",
    "\n",
    "# Authenticate using Earthdata Login prerequisite files\n",
    "auth = earthaccess.login()\n",
    "\n",
    "# Search for the granule by DOI\n",
    "results = earthaccess.search_data(\n",
    "    doi='10.5067/PP7T2GBI52I2',\n",
    "    temporal=(\"2020-10-01\", \"2021-09-30\"),\n",
    "    bounding_box = bbox\n",
    ")"
   ]
  },
  {
   "cell_type": "code",
   "execution_count": null,
   "id": "1ce9006f-14d4-4eb5-8b49-e0f9798a0c2f",
   "metadata": {},
   "outputs": [],
   "source": [
    "# Download the files to a tmp folder, and save paths as a list\n",
    "files = earthaccess.download(results, \"/home/jovyan/tmp/\")\n",
    "files"
   ]
  },
  {
   "cell_type": "markdown",
   "id": "e3564ce9-53b1-4dfc-bd3a-18667d1ddf05",
   "metadata": {},
   "source": [
    "The four files we downloaded provide reanalysis data for snow water equivalent and snow cover (`SWE_SCA_POST`), as well as snow depth (`SD_POST`). We have two files for each to correspond to different latitudes (`N37` and `N38` in the file names).\n",
    "\n",
    "We could load these files individually, but Xarray has functionality to load all of them at once with `xarray.open_mfdataset()`!"
   ]
  },
  {
   "cell_type": "code",
   "execution_count": null,
   "id": "d262886f-c961-428d-86d7-f7483e41f12c",
   "metadata": {},
   "outputs": [],
   "source": [
    "ds = xr.open_mfdataset(files)"
   ]
  },
  {
   "cell_type": "code",
   "execution_count": null,
   "id": "9983702f-2e63-4d6a-b4e5-39eb112ddc31",
   "metadata": {},
   "outputs": [],
   "source": [
    "ds"
   ]
  },
  {
   "cell_type": "markdown",
   "id": "7a8bf460-48df-43b5-8cc7-76dcdec5358b",
   "metadata": {},
   "source": [
    "Our DataArray has four dimensions: `Day`, `Stats`, `Longitude`, and `Latitude`. `Days` refers to the number of days after the start of the water year (October 1st), which isn't very useful on its own. So, let's change it into a datetime format."
   ]
  },
  {
   "cell_type": "code",
   "execution_count": null,
   "id": "3f7f8822-02ae-4c7a-9263-e9e155997c37",
   "metadata": {},
   "outputs": [],
   "source": [
    "import re\n",
    "import pandas as pd\n",
    "\n",
    "# Find year in file name\n",
    "url = files[0]\n",
    "date_pattern = r'\\d{4}'\n",
    "\n",
    "# Convert year to start of water year (pd.datetime format)\n",
    "WY_start_date = pd.to_datetime(f'{re.search(date_pattern, url).group()}-10-01')"
   ]
  },
  {
   "cell_type": "code",
   "execution_count": null,
   "id": "f52ce6fc-ff70-4ee9-b248-b552b521637e",
   "metadata": {},
   "outputs": [],
   "source": [
    "# Define new coordinates that use dates rather than day numbers\n",
    "ds.coords['time'] = (\"Day\", pd.date_range(WY_start_date, periods=ds.sizes['Day']))\n",
    "ds = ds.swap_dims({'Day':'time'})"
   ]
  },
  {
   "cell_type": "markdown",
   "id": "e6ffbeb5-ca0d-4b49-a29a-32ccb23ca783",
   "metadata": {},
   "source": [
    "The `Stats` coordinate refers to the statistics that are available for each of the variables, but its inputs are numeric, rather than strings. The `stats_dictionary` below outlines the statistics associated with each number, with `25pct` and `75pct` referring to the 25th-percentile and the 75th-percentile, respectively."
   ]
  },
  {
   "cell_type": "code",
   "execution_count": null,
   "id": "6ba05793-2218-4543-a86f-9d5082413367",
   "metadata": {},
   "outputs": [],
   "source": [
    "# Make dictionary of statistics\n",
    "stats_dictionary = {'mean':0, \n",
    "                    'std':1, \n",
    "                    'median':2, \n",
    "                    '25pct':3, \n",
    "                    '75pct':4}\n",
    "\n",
    "# Choose statistic of interest\n",
    "stat = stats_dictionary['mean']"
   ]
  },
  {
   "cell_type": "markdown",
   "id": "e3af356d-ebe6-4a8f-91c5-7e7b28eab2cb",
   "metadata": {},
   "source": [
    "For this example, we are grabbing the mean daily SWE (`SWE_Post`):"
   ]
  },
  {
   "cell_type": "code",
   "execution_count": null,
   "id": "fea5190d-8401-46ca-83c3-408ad43a023b",
   "metadata": {},
   "outputs": [],
   "source": [
    "mean_daily_swe = ds['SWE_Post'].sel(Stats=stat)"
   ]
  },
  {
   "cell_type": "code",
   "execution_count": null,
   "id": "c7e0300d-8267-4282-a716-23773e947925",
   "metadata": {},
   "outputs": [],
   "source": [
    "mean_daily_swe"
   ]
  },
  {
   "cell_type": "markdown",
   "id": "fdb3f9c7-b732-441c-b1aa-60dcbe853cbd",
   "metadata": {},
   "source": [
    "Looking at the output, we can see that the data now has \"Array\" and \"Chunk\" information. This is because the data was lazy-loaded through the dask, given that there is a lot of data stored in each file. \n",
    "\n",
    "Before we plot the data, we will need to reduce it to our time frequency of interest (monthly, in this case). We will then properly load the data into memory."
   ]
  },
  {
   "cell_type": "code",
   "execution_count": null,
   "id": "bb3d27c3-26ea-4669-a25e-b10234eaeec6",
   "metadata": {},
   "outputs": [],
   "source": [
    "# Resample the SWE data to a monthly mean\n",
    "mean_monthly_swe = mean_daily_swe.resample(time=\"1ME\").mean()"
   ]
  },
  {
   "cell_type": "code",
   "execution_count": null,
   "id": "fb7cf8f8-5c8f-4ae8-8ed1-6c53915aea5f",
   "metadata": {},
   "outputs": [],
   "source": [
    "# Load the monthly mean data into memory\n",
    "mean_monthly_swe = mean_monthly_swe.compute()"
   ]
  },
  {
   "cell_type": "markdown",
   "id": "0a8a877b-6470-4dee-a727-390c89306c99",
   "metadata": {},
   "source": [
    "**Caution**: The above plotting cell can be a bit time-consuming if you are working with a lot of files at once."
   ]
  },
  {
   "cell_type": "markdown",
   "id": "e33db850-d1aa-4912-9ef8-891355533a1b",
   "metadata": {},
   "source": [
    "Finally, we will make a figure showing the monthly SWE across an entire water year."
   ]
  },
  {
   "cell_type": "code",
   "execution_count": null,
   "id": "c89854ad-a49c-4059-bb44-485b5ed42d09",
   "metadata": {},
   "outputs": [],
   "source": [
    "# Define months as strings, for subplot titles\n",
    "months = ['October', 'November', 'December', 'January',\n",
    "          'February', 'March', 'April', 'May',\n",
    "          'June', 'July', 'August', 'September']\n",
    "\n",
    "# Plot the SWE data as monthly means\n",
    "fig = mean_monthly_swe.plot.imshow(\n",
    "    col='time',\n",
    "    col_wrap=4,\n",
    "    cmap=\"Blues\",\n",
    "    vmin=0,\n",
    "    vmax=1,\n",
    ")\n",
    "\n",
    "# Set titles to month\n",
    "for ax, title in zip(fig.axs.flatten(), months):\n",
    "    ax.set_title(title, fontsize=12)\n",
    "\n",
    "# Change colorbar label and label sizes\n",
    "fig.cbar.ax.tick_params(labelsize=16)\n",
    "fig.cbar.set_label(label='SWE [m]', size=16, weight='bold')"
   ]
  }
 ],
 "metadata": {
  "kernelspec": {
   "display_name": "Python 3 (ipykernel)",
   "language": "python",
   "name": "python3"
  },
  "language_info": {
   "codemirror_mode": {
    "name": "ipython",
    "version": 3
   },
   "file_extension": ".py",
   "mimetype": "text/x-python",
   "name": "python",
   "nbconvert_exporter": "python",
   "pygments_lexer": "ipython3",
   "version": "3.11.9"
  }
 },
 "nbformat": 4,
 "nbformat_minor": 5
}
